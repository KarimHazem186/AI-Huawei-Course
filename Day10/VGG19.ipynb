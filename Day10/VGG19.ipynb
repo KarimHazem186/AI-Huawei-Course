{
  "cells": [
    {
      "cell_type": "code",
      "execution_count": 30,
      "id": "46b0e020",
      "metadata": {
        "id": "46b0e020"
      },
      "outputs": [],
      "source": [
        "from keras.applications.vgg19 import VGG19\n",
        "from keras.datasets import mnist\n",
        "from keras.utils import to_categorical\n",
        "import matplotlib.pyplot  as plt\n",
        "from keras.layers import Input\n",
        "import numpy as np\n",
        "from keras.models import Model\n",
        "\n",
        "\n"
      ]
    },
    {
      "cell_type": "code",
      "execution_count": 31,
      "id": "a9dfea7a",
      "metadata": {
        "id": "a9dfea7a"
      },
      "outputs": [],
      "source": [
        "# Load and preprocess the CIFAR-10 dataset\n",
        "(x_train, y_train), (x_test, y_test) = mnist.load_data()\n",
        "x_train = np.stack([x_train]*3, axis=-1)  # Convert to 3 channels\n",
        "x_test = np.stack([x_test]*3, axis=-1)    # Convert to 3 channels\n",
        "\n",
        "x_train = x_train.astype('float32')\n",
        "x_test = x_test.astype('float32')\n",
        "x_train /= 255.0\n",
        "x_test /= 255.0"
      ]
    },
    {
      "cell_type": "code",
      "execution_count": 32,
      "id": "XsRoU9VGsJlS",
      "metadata": {
        "colab": {
          "base_uri": "https://localhost:8080/"
        },
        "id": "XsRoU9VGsJlS",
        "outputId": "e0c71b7d-56eb-4fe9-8c35-7ab05420ab10"
      },
      "outputs": [
        {
          "data": {
            "text/plain": [
              "(10000,)"
            ]
          },
          "execution_count": 32,
          "metadata": {},
          "output_type": "execute_result"
        }
      ],
      "source": [
        "y_test.shape"
      ]
    },
    {
      "cell_type": "code",
      "execution_count": 33,
      "id": "daB3oohJlyja",
      "metadata": {
        "colab": {
          "base_uri": "https://localhost:8080/"
        },
        "id": "daB3oohJlyja",
        "outputId": "7bce56ee-2da1-4a9f-abeb-36830efd124f"
      },
      "outputs": [
        {
          "data": {
            "text/plain": [
              "4"
            ]
          },
          "execution_count": 33,
          "metadata": {},
          "output_type": "execute_result"
        }
      ],
      "source": [
        "x_train.ndim"
      ]
    },
    {
      "cell_type": "code",
      "execution_count": 34,
      "id": "hoVqXpc9l34Z",
      "metadata": {
        "colab": {
          "base_uri": "https://localhost:8080/"
        },
        "id": "hoVqXpc9l34Z",
        "outputId": "d9e2033e-37c8-4f8a-b1ce-6cdda083a6fc"
      },
      "outputs": [
        {
          "data": {
            "text/plain": [
              "(60000, 28, 28, 3)"
            ]
          },
          "execution_count": 34,
          "metadata": {},
          "output_type": "execute_result"
        }
      ],
      "source": [
        "x_train.shape"
      ]
    },
    {
      "cell_type": "code",
      "execution_count": 35,
      "id": "DPFgFsTllkd5",
      "metadata": {
        "colab": {
          "base_uri": "https://localhost:8080/"
        },
        "id": "DPFgFsTllkd5",
        "outputId": "6abd077d-fc58-45ca-82d4-d965783aab0e"
      },
      "outputs": [],
      "source": [
        "# Load the pre-trained VGG16 model without the top layer\n",
        "vgg19 = VGG19(weights='imagenet', include_top=False, input_shape=(32, 32, 3))\n"
      ]
    },
    {
      "cell_type": "code",
      "execution_count": 7,
      "id": "e7b73e17",
      "metadata": {
        "id": "e7b73e17"
      },
      "outputs": [],
      "source": [
        "# Perform one-hot encoding on the labels\n",
        "y_train = to_categorical(y_train, 10)\n",
        "y_test = to_categorical(y_test, 10)"
      ]
    },
    {
      "cell_type": "code",
      "execution_count": 8,
      "id": "cQE_2UgI4jIg",
      "metadata": {
        "colab": {
          "base_uri": "https://localhost:8080/"
        },
        "id": "cQE_2UgI4jIg",
        "outputId": "6c09b6d3-29f0-41b4-8cac-fee3cdbc6b70"
      },
      "outputs": [
        {
          "data": {
            "text/plain": [
              "(10000, 10)"
            ]
          },
          "execution_count": 8,
          "metadata": {},
          "output_type": "execute_result"
        }
      ],
      "source": [
        "y_test.shape"
      ]
    },
    {
      "cell_type": "code",
      "execution_count": 37,
      "id": "7e230dcc",
      "metadata": {
        "colab": {
          "base_uri": "https://localhost:8080/"
        },
        "id": "7e230dcc",
        "outputId": "b5c08786-b124-494a-f39a-ab5e6a8d88d5"
      },
      "outputs": [
        {
          "name": "stdout",
          "output_type": "stream",
          "text": [
            "1875/1875 [==============================] - 197s 105ms/step\n",
            "313/313 [==============================] - 32s 103ms/step\n",
            "Train features shape: (60000, 1, 1, 512)\n",
            "Test features shape: (10000, 1, 1, 512)\n"
          ]
        }
      ],
      "source": [
        "x_train = np.pad(x_train, ((0,0),(2,2),(2,2),(0,0)), mode='constant') \n",
        "x_test = np.pad(x_test, ((0,0),(2,2),(2,2),(0,0)), mode='constant')    \n",
        "\n",
        "model = Model(inputs=vgg19.input, outputs=vgg19.output)\n",
        "\n",
        "train_features = model.predict(x_train)\n",
        "test_features = model.predict(x_test)\n",
        "\n",
        "print(\"Train features shape:\", train_features.shape)\n",
        "print(\"Test features shape:\", test_features.shape)\n"
      ]
    },
    {
      "cell_type": "code",
      "execution_count": 38,
      "id": "51qovIvYqBFM",
      "metadata": {
        "colab": {
          "base_uri": "https://localhost:8080/"
        },
        "id": "51qovIvYqBFM",
        "outputId": "07344614-954c-40d1-d0cb-5f961b2ff257"
      },
      "outputs": [
        {
          "data": {
            "text/plain": [
              "(60000, 1, 1, 512)"
            ]
          },
          "execution_count": 38,
          "metadata": {},
          "output_type": "execute_result"
        }
      ],
      "source": [
        "train_features.shape"
      ]
    },
    {
      "cell_type": "code",
      "execution_count": 39,
      "id": "8OEDMFw9qQF-",
      "metadata": {
        "colab": {
          "base_uri": "https://localhost:8080/"
        },
        "id": "8OEDMFw9qQF-",
        "outputId": "f01d6f54-626d-46ba-b025-2dc4330f66d6"
      },
      "outputs": [
        {
          "data": {
            "text/plain": [
              "(10000, 1, 1, 512)"
            ]
          },
          "execution_count": 39,
          "metadata": {},
          "output_type": "execute_result"
        }
      ],
      "source": [
        "test_features.shape"
      ]
    },
    {
      "cell_type": "code",
      "execution_count": 40,
      "id": "2b6a21e7",
      "metadata": {
        "colab": {
          "base_uri": "https://localhost:8080/"
        },
        "id": "2b6a21e7",
        "outputId": "6ea5055c-6c73-4c77-b700-04df2b26a64d"
      },
      "outputs": [],
      "source": [
        "# Flatten the extracted features\n",
        "train_features = train_features.reshape(train_features.shape[0], -1)\n",
        "test_features = test_features.reshape(test_features.shape[0], -1)"
      ]
    },
    {
      "cell_type": "code",
      "execution_count": 41,
      "id": "239XJMdG5k3_",
      "metadata": {
        "colab": {
          "base_uri": "https://localhost:8080/"
        },
        "id": "239XJMdG5k3_",
        "outputId": "79eacc16-5a0c-4b98-be56-750d939a7f41"
      },
      "outputs": [
        {
          "data": {
            "text/plain": [
              "(10000,)"
            ]
          },
          "execution_count": 41,
          "metadata": {},
          "output_type": "execute_result"
        }
      ],
      "source": [
        "y_test.shape"
      ]
    },
    {
      "cell_type": "code",
      "execution_count": 42,
      "id": "DGZIMYhE5A5E",
      "metadata": {
        "colab": {
          "base_uri": "https://localhost:8080/"
        },
        "id": "DGZIMYhE5A5E",
        "outputId": "0aa2597c-dafb-4c64-94bd-21dd6e220bc8"
      },
      "outputs": [
        {
          "data": {
            "text/plain": [
              "(60000,)"
            ]
          },
          "execution_count": 42,
          "metadata": {},
          "output_type": "execute_result"
        }
      ],
      "source": [
        "y_train.shape"
      ]
    },
    {
      "cell_type": "code",
      "execution_count": 43,
      "id": "36Jie6VnsArQ",
      "metadata": {
        "colab": {
          "base_uri": "https://localhost:8080/"
        },
        "id": "36Jie6VnsArQ",
        "outputId": "9684cc17-140c-42d5-aa26-1169740019e4"
      },
      "outputs": [
        {
          "data": {
            "text/plain": [
              "(10000, 512)"
            ]
          },
          "execution_count": 43,
          "metadata": {},
          "output_type": "execute_result"
        }
      ],
      "source": [
        "test_features.shape"
      ]
    },
    {
      "cell_type": "code",
      "execution_count": 44,
      "id": "NrsgPb3-qcod",
      "metadata": {
        "colab": {
          "base_uri": "https://localhost:8080/"
        },
        "id": "NrsgPb3-qcod",
        "outputId": "d17da03c-bf69-41ae-d448-79fc33767525"
      },
      "outputs": [
        {
          "data": {
            "text/plain": [
              "512"
            ]
          },
          "execution_count": 44,
          "metadata": {},
          "output_type": "execute_result"
        }
      ],
      "source": [
        "train_features.shape [1]"
      ]
    },
    {
      "cell_type": "code",
      "execution_count": 45,
      "id": "AYZ0QLqoqgsn",
      "metadata": {
        "colab": {
          "base_uri": "https://localhost:8080/"
        },
        "id": "AYZ0QLqoqgsn",
        "outputId": "531a0523-488d-40db-8e00-11d60587458b"
      },
      "outputs": [
        {
          "data": {
            "text/plain": [
              "512"
            ]
          },
          "execution_count": 45,
          "metadata": {},
          "output_type": "execute_result"
        }
      ],
      "source": [
        "test_features.shape[1]"
      ]
    },
    {
      "cell_type": "code",
      "execution_count": 46,
      "id": "e9371903",
      "metadata": {
        "id": "e9371903"
      },
      "outputs": [],
      "source": [
        "# Build a classifier on top of the extracted features\n",
        "from keras.models import Sequential\n",
        "from keras.layers import Dense, Dropout"
      ]
    },
    {
      "cell_type": "code",
      "execution_count": 47,
      "id": "d6471dee",
      "metadata": {
        "id": "d6471dee"
      },
      "outputs": [],
      "source": [
        "classifier = Sequential()\n",
        "classifier.add(Dense(256, activation='relu', input_dim=train_features.shape[1]))\n",
        "classifier.add(Dense(128, activation='relu'))\n",
        "classifier.add(Dense(64, activation='relu'))\n",
        "classifier.add(Dense(10, activation='softmax'))"
      ]
    },
    {
      "cell_type": "code",
      "execution_count": 50,
      "id": "fdf8c069",
      "metadata": {
        "colab": {
          "base_uri": "https://localhost:8080/"
        },
        "id": "fdf8c069",
        "outputId": "83a6c258-4361-417e-cfd8-840e2318204d"
      },
      "outputs": [
        {
          "name": "stdout",
          "output_type": "stream",
          "text": [
            "Epoch 1/10\n",
            "1875/1875 [==============================] - 5s 3ms/step - loss: 0.3059 - accuracy: 0.9007 - val_loss: 0.1708 - val_accuracy: 0.9455\n",
            "Epoch 2/10\n",
            "1875/1875 [==============================] - 5s 3ms/step - loss: 0.1561 - accuracy: 0.9485 - val_loss: 0.2094 - val_accuracy: 0.9322\n",
            "Epoch 3/10\n",
            "1875/1875 [==============================] - 5s 3ms/step - loss: 0.1360 - accuracy: 0.9557 - val_loss: 0.1569 - val_accuracy: 0.9476\n",
            "Epoch 4/10\n",
            "1875/1875 [==============================] - 5s 3ms/step - loss: 0.1229 - accuracy: 0.9594 - val_loss: 0.1132 - val_accuracy: 0.9641\n",
            "Epoch 5/10\n",
            "1875/1875 [==============================] - 5s 3ms/step - loss: 0.1143 - accuracy: 0.9628 - val_loss: 0.1224 - val_accuracy: 0.9611\n",
            "Epoch 6/10\n",
            "1875/1875 [==============================] - 5s 3ms/step - loss: 0.1045 - accuracy: 0.9652 - val_loss: 0.1082 - val_accuracy: 0.9650\n",
            "Epoch 7/10\n",
            "1875/1875 [==============================] - 6s 3ms/step - loss: 0.1000 - accuracy: 0.9673 - val_loss: 0.1216 - val_accuracy: 0.9619\n",
            "Epoch 8/10\n",
            "1875/1875 [==============================] - 5s 3ms/step - loss: 0.0939 - accuracy: 0.9690 - val_loss: 0.0944 - val_accuracy: 0.9708\n",
            "Epoch 9/10\n",
            "1875/1875 [==============================] - 5s 3ms/step - loss: 0.0892 - accuracy: 0.9702 - val_loss: 0.1153 - val_accuracy: 0.9629\n",
            "Epoch 10/10\n",
            "1875/1875 [==============================] - 5s 3ms/step - loss: 0.0856 - accuracy: 0.9720 - val_loss: 0.0992 - val_accuracy: 0.9679\n"
          ]
        },
        {
          "data": {
            "text/plain": [
              "<keras.callbacks.History at 0x1e121bf9a60>"
            ]
          },
          "execution_count": 50,
          "metadata": {},
          "output_type": "execute_result"
        }
      ],
      "source": [
        "# Compile and train the classifier\n",
        "classifier.compile(optimizer='adam', loss='categorical_crossentropy', metrics=['accuracy'])\n",
        "import tensorflow as tf\n",
        "classifier.fit(train_features, tf.keras.utils.to_categorical(y_train, num_classes=10), batch_size=32, epochs=10, validation_data=(test_features, tf.keras.utils.to_categorical(y_test, num_classes=10)))"
      ]
    },
    {
      "cell_type": "code",
      "execution_count": 52,
      "id": "4dd396aa",
      "metadata": {
        "colab": {
          "base_uri": "https://localhost:8080/"
        },
        "id": "4dd396aa",
        "outputId": "4963483a-5922-4a85-a219-c3fa5111ebd8"
      },
      "outputs": [
        {
          "name": "stdout",
          "output_type": "stream",
          "text": [
            "313/313 [==============================] - 1s 2ms/step - loss: 0.0992 - accuracy: 0.9679\n"
          ]
        },
        {
          "data": {
            "text/plain": [
              "[0.0991513580083847, 0.9678999781608582]"
            ]
          },
          "execution_count": 52,
          "metadata": {},
          "output_type": "execute_result"
        }
      ],
      "source": [
        "classifier.evaluate(test_features, tf.keras.utils.to_categorical(y_test, num_classes=10))"
      ]
    },
    {
      "cell_type": "code",
      "execution_count": null,
      "id": "896ef6d1",
      "metadata": {},
      "outputs": [],
      "source": []
    }
  ],
  "metadata": {
    "colab": {
      "provenance": []
    },
    "kernelspec": {
      "display_name": "Karim-new",
      "language": "python",
      "name": "python3"
    },
    "language_info": {
      "codemirror_mode": {
        "name": "ipython",
        "version": 3
      },
      "file_extension": ".py",
      "mimetype": "text/x-python",
      "name": "python",
      "nbconvert_exporter": "python",
      "pygments_lexer": "ipython3",
      "version": "3.9.18"
    }
  },
  "nbformat": 4,
  "nbformat_minor": 5
}
