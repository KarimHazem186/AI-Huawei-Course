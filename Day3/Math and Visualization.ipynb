{
 "cells": [
  {
   "cell_type": "code",
   "execution_count": 233,
   "id": "8b5651e8",
   "metadata": {},
   "outputs": [],
   "source": [
    "import math  as m\n",
    "import cmath  as cm\n",
    "import numpy  as np\n",
    "import matplotlib.pyplot as plt"
   ]
  },
  {
   "cell_type": "code",
   "execution_count": 18,
   "id": "d15c00c1",
   "metadata": {},
   "outputs": [
    {
     "data": {
      "text/plain": [
       "3"
      ]
     },
     "execution_count": 18,
     "metadata": {},
     "output_type": "execute_result"
    }
   ],
   "source": [
    "m.ceil(2.01456)   # not approximation # when working with floats"
   ]
  },
  {
   "cell_type": "code",
   "execution_count": 19,
   "id": "4f30ec31",
   "metadata": {},
   "outputs": [
    {
     "data": {
      "text/plain": [
       "2"
      ]
     },
     "execution_count": 19,
     "metadata": {},
     "output_type": "execute_result"
    }
   ],
   "source": [
    "m.floor(2.456)  # not approximation # when working with floats"
   ]
  },
  {
   "cell_type": "code",
   "execution_count": 21,
   "id": "7478ad56",
   "metadata": {},
   "outputs": [
    {
     "data": {
      "text/plain": [
       "2"
      ]
     },
     "execution_count": 21,
     "metadata": {},
     "output_type": "execute_result"
    }
   ],
   "source": [
    "m.trunc(2.05556) # not approximation # when working with floats"
   ]
  },
  {
   "cell_type": "code",
   "execution_count": 25,
   "id": "4d21025f",
   "metadata": {},
   "outputs": [
    {
     "data": {
      "text/plain": [
       "2.4"
      ]
     },
     "execution_count": 25,
     "metadata": {},
     "output_type": "execute_result"
    }
   ],
   "source": [
    "round(2.40056,2) # No Library is needed"
   ]
  },
  {
   "cell_type": "code",
   "execution_count": 26,
   "id": "14dec67b",
   "metadata": {},
   "outputs": [
    {
     "data": {
      "text/plain": [
       "120"
      ]
     },
     "execution_count": 26,
     "metadata": {},
     "output_type": "execute_result"
    }
   ],
   "source": [
    "m.factorial (5)"
   ]
  },
  {
   "cell_type": "code",
   "execution_count": 28,
   "id": "3763c5dd",
   "metadata": {},
   "outputs": [
    {
     "data": {
      "text/plain": [
       "1.0"
      ]
     },
     "execution_count": 28,
     "metadata": {},
     "output_type": "execute_result"
    }
   ],
   "source": [
    "m.fmod(5,2)"
   ]
  },
  {
   "cell_type": "code",
   "execution_count": 29,
   "id": "2ea06af2",
   "metadata": {},
   "outputs": [
    {
     "data": {
      "text/plain": [
       "0.0"
      ]
     },
     "execution_count": 29,
     "metadata": {},
     "output_type": "execute_result"
    }
   ],
   "source": [
    "5%2.5"
   ]
  },
  {
   "cell_type": "code",
   "execution_count": 32,
   "id": "6ea11102",
   "metadata": {},
   "outputs": [
    {
     "data": {
      "text/plain": [
       "65.2890288009816"
      ]
     },
     "execution_count": 32,
     "metadata": {},
     "output_type": "execute_result"
    }
   ],
   "source": [
    "m.pow(2.2,5.3)"
   ]
  },
  {
   "cell_type": "code",
   "execution_count": 34,
   "id": "10e91944",
   "metadata": {},
   "outputs": [
    {
     "data": {
      "text/plain": [
       "65.0"
      ]
     },
     "execution_count": 34,
     "metadata": {},
     "output_type": "execute_result"
    }
   ],
   "source": [
    "round(m.pow(2.2,5.3),0)"
   ]
  },
  {
   "cell_type": "code",
   "execution_count": 36,
   "id": "93001fc8",
   "metadata": {},
   "outputs": [
    {
     "data": {
      "text/plain": [
       "7.38905609893065"
      ]
     },
     "execution_count": 36,
     "metadata": {},
     "output_type": "execute_result"
    }
   ],
   "source": [
    "m.exp(2)   "
   ]
  },
  {
   "cell_type": "code",
   "execution_count": 38,
   "id": "e89f80c7",
   "metadata": {},
   "outputs": [
    {
     "data": {
      "text/plain": [
       "7.3890560989306495"
      ]
     },
     "execution_count": 38,
     "metadata": {},
     "output_type": "execute_result"
    }
   ],
   "source": [
    "m.pow(2.718281828459045,2)"
   ]
  },
  {
   "cell_type": "code",
   "execution_count": 39,
   "id": "8ec14d3a",
   "metadata": {},
   "outputs": [
    {
     "data": {
      "text/plain": [
       "5.0"
      ]
     },
     "execution_count": 39,
     "metadata": {},
     "output_type": "execute_result"
    }
   ],
   "source": [
    "m.sqrt(25)"
   ]
  },
  {
   "cell_type": "code",
   "execution_count": 44,
   "id": "1de74e89",
   "metadata": {},
   "outputs": [
    {
     "data": {
      "text/plain": [
       "(5.015873692705207+0.39873412341077946j)"
      ]
     },
     "execution_count": 44,
     "metadata": {},
     "output_type": "execute_result"
    }
   ],
   "source": [
    "cm.sqrt(25+4j)"
   ]
  },
  {
   "cell_type": "code",
   "execution_count": 45,
   "id": "944aa146",
   "metadata": {},
   "outputs": [
    {
     "data": {
      "text/plain": [
       "4.0"
      ]
     },
     "execution_count": 45,
     "metadata": {},
     "output_type": "execute_result"
    }
   ],
   "source": [
    "m.fabs(-4)"
   ]
  },
  {
   "cell_type": "code",
   "execution_count": 46,
   "id": "7b508cbc",
   "metadata": {},
   "outputs": [
    {
     "data": {
      "text/plain": [
       "4"
      ]
     },
     "execution_count": 46,
     "metadata": {},
     "output_type": "execute_result"
    }
   ],
   "source": [
    "abs(-4)"
   ]
  },
  {
   "cell_type": "code",
   "execution_count": 48,
   "id": "82424a39",
   "metadata": {},
   "outputs": [],
   "source": [
    "#Get The Roots of  a quadratic equation\n",
    "def get_roots(a,b,c):\n",
    "    d=m.pow(b,2)-(4*a*c)\n",
    "    if d==0:\n",
    "        x1=-b/(2*a)\n",
    "        x2=-b/(2*a)\n",
    "    elif d<0:\n",
    "        R = -b/(2*a)\n",
    "        I =m.sqrt(abs(d))/(2*a)\n",
    "        x1=complex(R,I)\n",
    "        x2=complex(R,-I)\n",
    "    else :\n",
    "        x1 = (-b + m.sqrt(d)) / (2*a)\n",
    "        x2 = (-b - m.sqrt(d)) / (2*a)\n",
    "    return x1,x2 "
   ]
  },
  {
   "cell_type": "code",
   "execution_count": 51,
   "id": "ea24f7a5",
   "metadata": {},
   "outputs": [
    {
     "data": {
      "text/plain": [
       "(0.0, 0.0)"
      ]
     },
     "execution_count": 51,
     "metadata": {},
     "output_type": "execute_result"
    }
   ],
   "source": [
    "get_roots(1,0,0)     "
   ]
  },
  {
   "cell_type": "code",
   "execution_count": 64,
   "id": "bb5022d1",
   "metadata": {},
   "outputs": [],
   "source": [
    "#Check whether a given number is a prime or not\n",
    "def isPrime(x):\n",
    "    prime=True\n",
    "    if x==1:  prime =False\n",
    "    elif x==2 or x==3 : prime = True \n",
    "    else : \n",
    "        for i in range(2, int(x/2)+1):    \n",
    "              if x%i==0 : \n",
    "                         prime=False\n",
    "                         break     \n",
    "    return prime"
   ]
  },
  {
   "cell_type": "code",
   "execution_count": 65,
   "id": "8d2173dc",
   "metadata": {},
   "outputs": [
    {
     "data": {
      "text/plain": [
       "False"
      ]
     },
     "execution_count": 65,
     "metadata": {},
     "output_type": "execute_result"
    }
   ],
   "source": [
    "isPrime(15)"
   ]
  },
  {
   "cell_type": "code",
   "execution_count": 71,
   "id": "647b93d6",
   "metadata": {},
   "outputs": [],
   "source": [
    "def get_divisors(x):\n",
    "    divisors=[]\n",
    "    for i in range(1,int(x/2)+1):\n",
    "                if x%i ==0 : divisors.append(i)\n",
    "    return divisors"
   ]
  },
  {
   "cell_type": "code",
   "execution_count": 72,
   "id": "8e05832d",
   "metadata": {},
   "outputs": [
    {
     "data": {
      "text/plain": [
       "[1, 3, 5]"
      ]
     },
     "execution_count": 72,
     "metadata": {},
     "output_type": "execute_result"
    }
   ],
   "source": [
    "get_divisors(15)"
   ]
  },
  {
   "cell_type": "code",
   "execution_count": 83,
   "id": "349d4efe",
   "metadata": {},
   "outputs": [
    {
     "data": {
      "text/plain": [
       "2.772588722239781"
      ]
     },
     "execution_count": 83,
     "metadata": {},
     "output_type": "execute_result"
    }
   ],
   "source": [
    "m.log2(16)"
   ]
  },
  {
   "cell_type": "code",
   "execution_count": 84,
   "id": "8fb39fd6",
   "metadata": {},
   "outputs": [
    {
     "data": {
      "text/plain": [
       "3.141592653589793"
      ]
     },
     "execution_count": 84,
     "metadata": {},
     "output_type": "execute_result"
    }
   ],
   "source": [
    "m.pi"
   ]
  },
  {
   "cell_type": "code",
   "execution_count": 85,
   "id": "60c4a9cb",
   "metadata": {},
   "outputs": [
    {
     "data": {
      "text/plain": [
       "180.0"
      ]
     },
     "execution_count": 85,
     "metadata": {},
     "output_type": "execute_result"
    }
   ],
   "source": [
    "m.degrees(m.pi)"
   ]
  },
  {
   "cell_type": "code",
   "execution_count": 86,
   "id": "d2e8d61a",
   "metadata": {},
   "outputs": [
    {
     "data": {
      "text/plain": [
       "45.0"
      ]
     },
     "execution_count": 86,
     "metadata": {},
     "output_type": "execute_result"
    }
   ],
   "source": [
    "m.degrees(m.pi/4)"
   ]
  },
  {
   "cell_type": "code",
   "execution_count": 95,
   "id": "5362dc68",
   "metadata": {},
   "outputs": [
    {
     "data": {
      "text/plain": [
       "-0.9880316240928618"
      ]
     },
     "execution_count": 95,
     "metadata": {},
     "output_type": "execute_result"
    }
   ],
   "source": [
    "m.sin(30)"
   ]
  },
  {
   "cell_type": "code",
   "execution_count": 96,
   "id": "495cddc5",
   "metadata": {},
   "outputs": [],
   "source": [
    "c=2+3j"
   ]
  },
  {
   "cell_type": "code",
   "execution_count": 98,
   "id": "6a79b0ae",
   "metadata": {},
   "outputs": [
    {
     "data": {
      "text/plain": [
       "(1.2824746787307684+0.982793723247329j)"
      ]
     },
     "execution_count": 98,
     "metadata": {},
     "output_type": "execute_result"
    }
   ],
   "source": [
    "cm.log(c)"
   ]
  },
  {
   "cell_type": "code",
   "execution_count": 99,
   "id": "8c653aeb",
   "metadata": {},
   "outputs": [
    {
     "data": {
      "text/plain": [
       "(9.15449914691143-4.168906959966565j)"
      ]
     },
     "execution_count": 99,
     "metadata": {},
     "output_type": "execute_result"
    }
   ],
   "source": [
    "cm.sin(c)"
   ]
  },
  {
   "cell_type": "code",
   "execution_count": 101,
   "id": "45c61f23",
   "metadata": {},
   "outputs": [
    {
     "data": {
      "text/plain": [
       "(1.6741492280355401+0.8959774761298381j)"
      ]
     },
     "execution_count": 101,
     "metadata": {},
     "output_type": "execute_result"
    }
   ],
   "source": [
    "cm.sqrt(c)"
   ]
  },
  {
   "cell_type": "code",
   "execution_count": 104,
   "id": "519ebaa9",
   "metadata": {},
   "outputs": [
    {
     "data": {
      "text/plain": [
       "[10, 20, 30]"
      ]
     },
     "execution_count": 104,
     "metadata": {},
     "output_type": "execute_result"
    }
   ],
   "source": [
    "list=[10,20,30]\n",
    "list"
   ]
  },
  {
   "cell_type": "code",
   "execution_count": 105,
   "id": "90ca604f",
   "metadata": {},
   "outputs": [
    {
     "data": {
      "text/plain": [
       "[10, 'a', 20, 20.55]"
      ]
     },
     "execution_count": 105,
     "metadata": {},
     "output_type": "execute_result"
    }
   ],
   "source": [
    "list=[10,'a',20,20.55]\n",
    "list"
   ]
  },
  {
   "cell_type": "code",
   "execution_count": 106,
   "id": "4a4c75c0",
   "metadata": {},
   "outputs": [],
   "source": [
    "list1=[10,20,30]\n",
    "list2=[10,20,30]"
   ]
  },
  {
   "cell_type": "code",
   "execution_count": 107,
   "id": "0637029a",
   "metadata": {},
   "outputs": [
    {
     "data": {
      "text/plain": [
       "[10, 20, 30, 10, 20, 30]"
      ]
     },
     "execution_count": 107,
     "metadata": {},
     "output_type": "execute_result"
    }
   ],
   "source": [
    "list1+list2"
   ]
  },
  {
   "cell_type": "code",
   "execution_count": 108,
   "id": "30d04e53",
   "metadata": {},
   "outputs": [
    {
     "data": {
      "text/plain": [
       "'abb'"
      ]
     },
     "execution_count": 108,
     "metadata": {},
     "output_type": "execute_result"
    }
   ],
   "source": [
    "'a'+'bb'"
   ]
  },
  {
   "cell_type": "code",
   "execution_count": 109,
   "id": "a38de985",
   "metadata": {},
   "outputs": [
    {
     "data": {
      "text/plain": [
       "list"
      ]
     },
     "execution_count": 109,
     "metadata": {},
     "output_type": "execute_result"
    }
   ],
   "source": [
    "type(list1)"
   ]
  },
  {
   "cell_type": "code",
   "execution_count": 124,
   "id": "6b1f30e3",
   "metadata": {},
   "outputs": [
    {
     "ename": "AttributeError",
     "evalue": "'list' object has no attribute 'shape'",
     "output_type": "error",
     "traceback": [
      "\u001b[1;31m---------------------------------------------------------------------------\u001b[0m",
      "\u001b[1;31mAttributeError\u001b[0m                            Traceback (most recent call last)",
      "Cell \u001b[1;32mIn[124], line 1\u001b[0m\n\u001b[1;32m----> 1\u001b[0m list1\u001b[38;5;241m.\u001b[39mshape\n",
      "\u001b[1;31mAttributeError\u001b[0m: 'list' object has no attribute 'shape'"
     ]
    }
   ],
   "source": [
    "list1.size"
   ]
  },
  {
   "cell_type": "code",
   "execution_count": 125,
   "id": "a9582497",
   "metadata": {},
   "outputs": [],
   "source": [
    "A=np.array([10,20,30])"
   ]
  },
  {
   "cell_type": "code",
   "execution_count": 126,
   "id": "ee9b2535",
   "metadata": {},
   "outputs": [
    {
     "data": {
      "text/plain": [
       "array([10, 20, 30])"
      ]
     },
     "execution_count": 126,
     "metadata": {},
     "output_type": "execute_result"
    }
   ],
   "source": [
    "A"
   ]
  },
  {
   "cell_type": "code",
   "execution_count": 127,
   "id": "79e4618b",
   "metadata": {},
   "outputs": [
    {
     "data": {
      "text/plain": [
       "numpy.ndarray"
      ]
     },
     "execution_count": 127,
     "metadata": {},
     "output_type": "execute_result"
    }
   ],
   "source": [
    "type(A)"
   ]
  },
  {
   "cell_type": "code",
   "execution_count": 128,
   "id": "6816bb82",
   "metadata": {},
   "outputs": [
    {
     "data": {
      "text/plain": [
       "1"
      ]
     },
     "execution_count": 128,
     "metadata": {},
     "output_type": "execute_result"
    }
   ],
   "source": [
    "# Find the type of dimension of the array (1D ,2D , 3D )\n",
    "A.ndim "
   ]
  },
  {
   "cell_type": "code",
   "execution_count": 120,
   "id": "ee605657",
   "metadata": {},
   "outputs": [],
   "source": [
    "B=np.array([[10,20,30],[50,60,70]])"
   ]
  },
  {
   "cell_type": "code",
   "execution_count": 121,
   "id": "8a3e2ef4",
   "metadata": {},
   "outputs": [
    {
     "data": {
      "text/plain": [
       "2"
      ]
     },
     "execution_count": 121,
     "metadata": {},
     "output_type": "execute_result"
    }
   ],
   "source": [
    "B.ndim"
   ]
  },
  {
   "cell_type": "code",
   "execution_count": 116,
   "id": "1edce528",
   "metadata": {},
   "outputs": [
    {
     "data": {
      "text/plain": [
       "array([1, 2, 3])"
      ]
     },
     "execution_count": 116,
     "metadata": {},
     "output_type": "execute_result"
    }
   ],
   "source": [
    "A"
   ]
  },
  {
   "cell_type": "code",
   "execution_count": 122,
   "id": "69622729",
   "metadata": {},
   "outputs": [
    {
     "data": {
      "text/plain": [
       "array([[10, 20, 30],\n",
       "       [50, 60, 70]])"
      ]
     },
     "execution_count": 122,
     "metadata": {},
     "output_type": "execute_result"
    }
   ],
   "source": [
    "B"
   ]
  },
  {
   "cell_type": "code",
   "execution_count": 129,
   "id": "6185cbfc",
   "metadata": {},
   "outputs": [
    {
     "data": {
      "text/plain": [
       "(3,)"
      ]
     },
     "execution_count": 129,
     "metadata": {},
     "output_type": "execute_result"
    }
   ],
   "source": [
    "A.shape"
   ]
  },
  {
   "cell_type": "code",
   "execution_count": 123,
   "id": "9c389cbe",
   "metadata": {},
   "outputs": [
    {
     "data": {
      "text/plain": [
       "(2, 3)"
      ]
     },
     "execution_count": 123,
     "metadata": {},
     "output_type": "execute_result"
    }
   ],
   "source": [
    "B.shape"
   ]
  },
  {
   "cell_type": "code",
   "execution_count": 130,
   "id": "16883a10",
   "metadata": {},
   "outputs": [
    {
     "data": {
      "text/plain": [
       "3"
      ]
     },
     "execution_count": 130,
     "metadata": {},
     "output_type": "execute_result"
    }
   ],
   "source": [
    "A.size"
   ]
  },
  {
   "cell_type": "code",
   "execution_count": 131,
   "id": "03f91d30",
   "metadata": {},
   "outputs": [
    {
     "data": {
      "text/plain": [
       "6"
      ]
     },
     "execution_count": 131,
     "metadata": {},
     "output_type": "execute_result"
    }
   ],
   "source": [
    "B.size"
   ]
  },
  {
   "cell_type": "code",
   "execution_count": 132,
   "id": "05a2d40b",
   "metadata": {},
   "outputs": [
    {
     "data": {
      "text/plain": [
       "numpy.ndarray"
      ]
     },
     "execution_count": 132,
     "metadata": {},
     "output_type": "execute_result"
    }
   ],
   "source": [
    "type(A)"
   ]
  },
  {
   "cell_type": "code",
   "execution_count": 133,
   "id": "76235f49",
   "metadata": {},
   "outputs": [
    {
     "data": {
      "text/plain": [
       "1"
      ]
     },
     "execution_count": 133,
     "metadata": {},
     "output_type": "execute_result"
    }
   ],
   "source": [
    "np.linalg.matrix_rank(A)"
   ]
  },
  {
   "cell_type": "code",
   "execution_count": 134,
   "id": "5a19b90d",
   "metadata": {},
   "outputs": [
    {
     "data": {
      "text/plain": [
       "2"
      ]
     },
     "execution_count": 134,
     "metadata": {},
     "output_type": "execute_result"
    }
   ],
   "source": [
    "np.linalg.matrix_rank(B)"
   ]
  },
  {
   "cell_type": "code",
   "execution_count": 223,
   "id": "4781254c",
   "metadata": {},
   "outputs": [],
   "source": [
    "C=np.random.randint(10,size=(3,3))"
   ]
  },
  {
   "cell_type": "code",
   "execution_count": 237,
   "id": "8ae8a893",
   "metadata": {},
   "outputs": [],
   "source": [
    "D=np.random.random(B.shape)"
   ]
  },
  {
   "cell_type": "code",
   "execution_count": 238,
   "id": "3a824b95",
   "metadata": {},
   "outputs": [
    {
     "data": {
      "text/plain": [
       "(2, 3)"
      ]
     },
     "execution_count": 238,
     "metadata": {},
     "output_type": "execute_result"
    }
   ],
   "source": [
    "D.shape"
   ]
  },
  {
   "cell_type": "code",
   "execution_count": 239,
   "id": "443baa8d",
   "metadata": {},
   "outputs": [
    {
     "data": {
      "text/plain": [
       "array([[0.83818421, 0.70741207, 0.0540078 ],\n",
       "       [0.25391842, 0.36404558, 0.14030482]])"
      ]
     },
     "execution_count": 239,
     "metadata": {},
     "output_type": "execute_result"
    }
   ],
   "source": [
    "D"
   ]
  },
  {
   "cell_type": "code",
   "execution_count": 250,
   "id": "eccd080f",
   "metadata": {},
   "outputs": [],
   "source": [
    "E=np.zeros(B.shape)"
   ]
  },
  {
   "cell_type": "code",
   "execution_count": 251,
   "id": "3858e399",
   "metadata": {},
   "outputs": [
    {
     "data": {
      "text/plain": [
       "array([[0., 0., 0.],\n",
       "       [0., 0., 0.]])"
      ]
     },
     "execution_count": 251,
     "metadata": {},
     "output_type": "execute_result"
    }
   ],
   "source": [
    "E"
   ]
  },
  {
   "cell_type": "code",
   "execution_count": 252,
   "id": "997d468a",
   "metadata": {},
   "outputs": [
    {
     "data": {
      "text/plain": [
       "array([[1., 1., 1.],\n",
       "       [1., 1., 1.],\n",
       "       [1., 1., 1.]])"
      ]
     },
     "execution_count": 252,
     "metadata": {},
     "output_type": "execute_result"
    }
   ],
   "source": [
    "R=np.ones([3,3])\n",
    "R"
   ]
  },
  {
   "cell_type": "code",
   "execution_count": 260,
   "id": "38a7fbb2",
   "metadata": {},
   "outputs": [
    {
     "data": {
      "text/plain": [
       "array([[1., 0., 0.],\n",
       "       [0., 1., 0.],\n",
       "       [0., 0., 1.]])"
      ]
     },
     "execution_count": 260,
     "metadata": {},
     "output_type": "execute_result"
    }
   ],
   "source": [
    "T=np.eye(3,3)\n",
    "T"
   ]
  },
  {
   "cell_type": "code",
   "execution_count": 267,
   "id": "6577d97d",
   "metadata": {},
   "outputs": [
    {
     "data": {
      "text/plain": [
       "array([[0.22033473, 0.98008472, 0.56199934, 0.03604012],\n",
       "       [0.80975609, 0.70027705, 0.18643148, 0.47276282],\n",
       "       [0.37210222, 0.10227975, 0.50760027, 0.99087775]])"
      ]
     },
     "execution_count": 267,
     "metadata": {},
     "output_type": "execute_result"
    }
   ],
   "source": [
    "U=np.empty([3,4]) \n",
    "U"
   ]
  },
  {
   "cell_type": "code",
   "execution_count": 270,
   "id": "f6700a4e",
   "metadata": {},
   "outputs": [
    {
     "data": {
      "text/plain": [
       "array([[5, 5, 5],\n",
       "       [5, 5, 5],\n",
       "       [5, 5, 5]])"
      ]
     },
     "execution_count": 270,
     "metadata": {},
     "output_type": "execute_result"
    }
   ],
   "source": [
    "K=np.full([3,3],5)\n",
    "K"
   ]
  },
  {
   "cell_type": "code",
   "execution_count": 271,
   "id": "78e1ce8c",
   "metadata": {},
   "outputs": [
    {
     "data": {
      "text/plain": [
       "array(['10', 'a', '20'], dtype='<U11')"
      ]
     },
     "execution_count": 271,
     "metadata": {},
     "output_type": "execute_result"
    }
   ],
   "source": [
    "Y=np.array([10,'a',20])\n",
    "Y"
   ]
  },
  {
   "cell_type": "code",
   "execution_count": 272,
   "id": "1525440e",
   "metadata": {},
   "outputs": [
    {
     "data": {
      "text/plain": [
       "array(['10', 'b', '50'], dtype='<U11')"
      ]
     },
     "execution_count": 272,
     "metadata": {},
     "output_type": "execute_result"
    }
   ],
   "source": [
    "W=np.array([10,'b',50])\n",
    "W"
   ]
  },
  {
   "cell_type": "code",
   "execution_count": 274,
   "id": "4b4da6b0",
   "metadata": {},
   "outputs": [
    {
     "data": {
      "text/plain": [
       "numpy.ndarray"
      ]
     },
     "execution_count": 274,
     "metadata": {},
     "output_type": "execute_result"
    }
   ],
   "source": [
    "type(Y)"
   ]
  },
  {
   "cell_type": "code",
   "execution_count": 275,
   "id": "faf9cc5d",
   "metadata": {},
   "outputs": [
    {
     "data": {
      "text/plain": [
       "array([[10, 20, 30],\n",
       "       [50, 60, 70]])"
      ]
     },
     "execution_count": 275,
     "metadata": {},
     "output_type": "execute_result"
    }
   ],
   "source": [
    "B"
   ]
  },
  {
   "cell_type": "code",
   "execution_count": 276,
   "id": "6cd65f59",
   "metadata": {},
   "outputs": [
    {
     "data": {
      "text/plain": [
       "70"
      ]
     },
     "execution_count": 276,
     "metadata": {},
     "output_type": "execute_result"
    }
   ],
   "source": [
    "B[1,2]"
   ]
  },
  {
   "cell_type": "code",
   "execution_count": 277,
   "id": "4ecfe6e4",
   "metadata": {},
   "outputs": [
    {
     "data": {
      "text/plain": [
       "array([10, 20, 30])"
      ]
     },
     "execution_count": 277,
     "metadata": {},
     "output_type": "execute_result"
    }
   ],
   "source": [
    "A"
   ]
  },
  {
   "cell_type": "code",
   "execution_count": 278,
   "id": "d349a8e4",
   "metadata": {},
   "outputs": [
    {
     "data": {
      "text/plain": [
       "10"
      ]
     },
     "execution_count": 278,
     "metadata": {},
     "output_type": "execute_result"
    }
   ],
   "source": [
    "A[0]"
   ]
  },
  {
   "cell_type": "code",
   "execution_count": 279,
   "id": "b36298a5",
   "metadata": {},
   "outputs": [
    {
     "data": {
      "text/plain": [
       "20"
      ]
     },
     "execution_count": 279,
     "metadata": {},
     "output_type": "execute_result"
    }
   ],
   "source": [
    "A[1]"
   ]
  },
  {
   "cell_type": "code",
   "execution_count": 280,
   "id": "0b0093ac",
   "metadata": {},
   "outputs": [
    {
     "data": {
      "text/plain": [
       "30"
      ]
     },
     "execution_count": 280,
     "metadata": {},
     "output_type": "execute_result"
    }
   ],
   "source": [
    "A[2]"
   ]
  },
  {
   "cell_type": "code",
   "execution_count": 281,
   "id": "2abc7d23",
   "metadata": {},
   "outputs": [],
   "source": [
    "A=np.array([10,20,30,40,50,60,70,80,90])"
   ]
  },
  {
   "cell_type": "code",
   "execution_count": 291,
   "id": "e62b625a",
   "metadata": {},
   "outputs": [
    {
     "data": {
      "text/plain": [
       "(9,)"
      ]
     },
     "execution_count": 291,
     "metadata": {},
     "output_type": "execute_result"
    }
   ],
   "source": [
    "A.shape"
   ]
  },
  {
   "cell_type": "code",
   "execution_count": 287,
   "id": "b2647a4e",
   "metadata": {},
   "outputs": [
    {
     "data": {
      "text/plain": [
       "array([50, 60, 70])"
      ]
     },
     "execution_count": 287,
     "metadata": {},
     "output_type": "execute_result"
    }
   ],
   "source": [
    "A[4:7]"
   ]
  },
  {
   "cell_type": "code",
   "execution_count": 289,
   "id": "6c5b0f14",
   "metadata": {},
   "outputs": [
    {
     "data": {
      "text/plain": [
       "array([[10, 20, 30, 40, 50],\n",
       "       [10, 20, 30, 40, 50],\n",
       "       [10, 20, 30, 40, 50],\n",
       "       [10, 20, 30, 40, 50],\n",
       "       [10, 20, 30, 40, 50]])"
      ]
     },
     "execution_count": 289,
     "metadata": {},
     "output_type": "execute_result"
    }
   ],
   "source": [
    "B=np.array([[10,20,30,40,50],[10,20,30,40,50],[10,20,30,40,50],[10,20,30,40,50],[10,20,30,40,50]])\n",
    "B"
   ]
  },
  {
   "cell_type": "code",
   "execution_count": 293,
   "id": "c670e472",
   "metadata": {},
   "outputs": [
    {
     "data": {
      "text/plain": [
       "40"
      ]
     },
     "execution_count": 293,
     "metadata": {},
     "output_type": "execute_result"
    }
   ],
   "source": [
    "B[0,3]"
   ]
  },
  {
   "cell_type": "code",
   "execution_count": 299,
   "id": "b884480c",
   "metadata": {},
   "outputs": [
    {
     "data": {
      "text/plain": [
       "array([[30, 40],\n",
       "       [30, 40],\n",
       "       [30, 40]])"
      ]
     },
     "execution_count": 299,
     "metadata": {},
     "output_type": "execute_result"
    }
   ],
   "source": [
    "B[0:3,2:4]"
   ]
  },
  {
   "cell_type": "code",
   "execution_count": 305,
   "id": "57d463f8",
   "metadata": {},
   "outputs": [
    {
     "data": {
      "text/plain": [
       "array([[[10, 20, 30, 40, 50],\n",
       "        [10, 20, 30, 40, 50],\n",
       "        [10, 20, 30, 40, 50]],\n",
       "\n",
       "       [[10, 20, 30, 40, 50],\n",
       "        [10, 20, 30, 40, 50],\n",
       "        [10, 20, 30, 40, 50]]])"
      ]
     },
     "execution_count": 305,
     "metadata": {},
     "output_type": "execute_result"
    }
   ],
   "source": [
    "G=np.array([[[10,20,30,40,50],[10,20,30,40,50],[10,20,30,40,50]],[[10,20,30,40,50],[10,20,30,40,50],[10,20,30,40,50]]])\n",
    "G"
   ]
  },
  {
   "cell_type": "code",
   "execution_count": 306,
   "id": "33fc6a5a",
   "metadata": {},
   "outputs": [
    {
     "data": {
      "text/plain": [
       "(2, 3, 5)"
      ]
     },
     "execution_count": 306,
     "metadata": {},
     "output_type": "execute_result"
    }
   ],
   "source": [
    "G.shape"
   ]
  },
  {
   "cell_type": "code",
   "execution_count": 309,
   "id": "b7d452e6",
   "metadata": {},
   "outputs": [
    {
     "data": {
      "text/plain": [
       "array([[10, 20, 30, 40, 50],\n",
       "       [10, 20, 30, 40, 50],\n",
       "       [10, 20, 30, 40, 50]])"
      ]
     },
     "execution_count": 309,
     "metadata": {},
     "output_type": "execute_result"
    }
   ],
   "source": [
    "G[0,: ,:]"
   ]
  },
  {
   "cell_type": "code",
   "execution_count": 310,
   "id": "69c15e11",
   "metadata": {},
   "outputs": [
    {
     "data": {
      "text/plain": [
       "array([[10, 20, 30, 40, 50],\n",
       "       [10, 20, 30, 40, 50],\n",
       "       [10, 20, 30, 40, 50]])"
      ]
     },
     "execution_count": 310,
     "metadata": {},
     "output_type": "execute_result"
    }
   ],
   "source": [
    "G[1,: ,:]"
   ]
  },
  {
   "cell_type": "code",
   "execution_count": 311,
   "id": "606e16b4",
   "metadata": {},
   "outputs": [
    {
     "data": {
      "text/plain": [
       "array([[10, 20, 30],\n",
       "       [10, 20, 30]])"
      ]
     },
     "execution_count": 311,
     "metadata": {},
     "output_type": "execute_result"
    }
   ],
   "source": [
    "G[0,0:2 ,0:3]"
   ]
  },
  {
   "cell_type": "code",
   "execution_count": 313,
   "id": "5b147708",
   "metadata": {},
   "outputs": [
    {
     "data": {
      "text/plain": [
       "array([[10, 20, 30, 40, 50],\n",
       "       [10, 20, 30, 40, 50],\n",
       "       [10, 20, 30, 40, 50],\n",
       "       [10, 20, 30, 40, 50],\n",
       "       [10, 20, 30, 40, 50]])"
      ]
     },
     "execution_count": 313,
     "metadata": {},
     "output_type": "execute_result"
    }
   ],
   "source": [
    "B"
   ]
  },
  {
   "cell_type": "code",
   "execution_count": 314,
   "id": "42ea8db4",
   "metadata": {},
   "outputs": [],
   "source": [
    "C=np.array([[1,2,3],[4,5,6],[7,8,9]])\n",
    "D=np.array([[10,20,30],[40,50,60],[70,80,90]])"
   ]
  },
  {
   "cell_type": "code",
   "execution_count": 315,
   "id": "0f64bc65",
   "metadata": {},
   "outputs": [
    {
     "data": {
      "text/plain": [
       "array([[1, 2, 3],\n",
       "       [4, 5, 6],\n",
       "       [7, 8, 9]])"
      ]
     },
     "execution_count": 315,
     "metadata": {},
     "output_type": "execute_result"
    }
   ],
   "source": [
    "C"
   ]
  },
  {
   "cell_type": "code",
   "execution_count": 316,
   "id": "f9c0323b",
   "metadata": {},
   "outputs": [
    {
     "data": {
      "text/plain": [
       "array([[10, 20, 30],\n",
       "       [40, 50, 60],\n",
       "       [70, 80, 90]])"
      ]
     },
     "execution_count": 316,
     "metadata": {},
     "output_type": "execute_result"
    }
   ],
   "source": [
    "D"
   ]
  },
  {
   "cell_type": "code",
   "execution_count": 317,
   "id": "a0ab3eda",
   "metadata": {},
   "outputs": [
    {
     "data": {
      "text/plain": [
       "array([[11, 22, 33],\n",
       "       [44, 55, 66],\n",
       "       [77, 88, 99]])"
      ]
     },
     "execution_count": 317,
     "metadata": {},
     "output_type": "execute_result"
    }
   ],
   "source": [
    "C+D"
   ]
  },
  {
   "cell_type": "code",
   "execution_count": 318,
   "id": "e3759946",
   "metadata": {},
   "outputs": [
    {
     "data": {
      "text/plain": [
       "array([[ -9, -18, -27],\n",
       "       [-36, -45, -54],\n",
       "       [-63, -72, -81]])"
      ]
     },
     "execution_count": 318,
     "metadata": {},
     "output_type": "execute_result"
    }
   ],
   "source": [
    "C-D"
   ]
  },
  {
   "cell_type": "code",
   "execution_count": 319,
   "id": "dcbbc670",
   "metadata": {},
   "outputs": [
    {
     "data": {
      "text/plain": [
       "array([[ 10,  40,  90],\n",
       "       [160, 250, 360],\n",
       "       [490, 640, 810]])"
      ]
     },
     "execution_count": 319,
     "metadata": {},
     "output_type": "execute_result"
    }
   ],
   "source": [
    "C*D"
   ]
  },
  {
   "cell_type": "code",
   "execution_count": 320,
   "id": "c5482911",
   "metadata": {},
   "outputs": [
    {
     "data": {
      "text/plain": [
       "array([[0.1, 0.1, 0.1],\n",
       "       [0.1, 0.1, 0.1],\n",
       "       [0.1, 0.1, 0.1]])"
      ]
     },
     "execution_count": 320,
     "metadata": {},
     "output_type": "execute_result"
    }
   ],
   "source": [
    "C/D"
   ]
  },
  {
   "cell_type": "code",
   "execution_count": 322,
   "id": "21fda1d5",
   "metadata": {},
   "outputs": [
    {
     "data": {
      "text/plain": [
       "array([[1, 2, 3],\n",
       "       [4, 5, 6],\n",
       "       [7, 8, 9]])"
      ]
     },
     "execution_count": 322,
     "metadata": {},
     "output_type": "execute_result"
    }
   ],
   "source": [
    "C%D"
   ]
  },
  {
   "cell_type": "code",
   "execution_count": 324,
   "id": "e60eabe2",
   "metadata": {},
   "outputs": [
    {
     "data": {
      "text/plain": [
       "array([[        10,        400,      27000],\n",
       "       [   2560000,  312500000, -588640256],\n",
       "       [1977693568,          0, -779249152]])"
      ]
     },
     "execution_count": 324,
     "metadata": {},
     "output_type": "execute_result"
    }
   ],
   "source": [
    "D**C"
   ]
  },
  {
   "cell_type": "code",
   "execution_count": 327,
   "id": "b2814ed3",
   "metadata": {},
   "outputs": [
    {
     "data": {
      "text/plain": [
       "array([[False, False, False],\n",
       "       [ True,  True,  True],\n",
       "       [ True,  True,  True]])"
      ]
     },
     "execution_count": 327,
     "metadata": {},
     "output_type": "execute_result"
    }
   ],
   "source": [
    "C>3"
   ]
  },
  {
   "cell_type": "code",
   "execution_count": 328,
   "id": "19d601ec",
   "metadata": {},
   "outputs": [
    {
     "data": {
      "text/plain": [
       "array([[False, False, False],\n",
       "       [False, False, False],\n",
       "       [False, False, False]])"
      ]
     },
     "execution_count": 328,
     "metadata": {},
     "output_type": "execute_result"
    }
   ],
   "source": [
    "D==C"
   ]
  },
  {
   "cell_type": "code",
   "execution_count": 329,
   "id": "86200b50",
   "metadata": {},
   "outputs": [
    {
     "data": {
      "text/plain": [
       "array([[ 2,  4,  6],\n",
       "       [ 8, 10, 12],\n",
       "       [14, 16, 18]])"
      ]
     },
     "execution_count": 329,
     "metadata": {},
     "output_type": "execute_result"
    }
   ],
   "source": [
    "2*C"
   ]
  },
  {
   "cell_type": "code",
   "execution_count": 330,
   "id": "7c336b80",
   "metadata": {},
   "outputs": [
    {
     "data": {
      "text/plain": [
       "array([[ 2,  4,  6],\n",
       "       [ 8, 10, 12],\n",
       "       [14, 16, 18]])"
      ]
     },
     "execution_count": 330,
     "metadata": {},
     "output_type": "execute_result"
    }
   ],
   "source": [
    "C*2"
   ]
  },
  {
   "cell_type": "code",
   "execution_count": 331,
   "id": "0be758ca",
   "metadata": {},
   "outputs": [
    {
     "data": {
      "text/plain": [
       "array([[ 1,  4,  9],\n",
       "       [16, 25, 36],\n",
       "       [49, 64, 81]])"
      ]
     },
     "execution_count": 331,
     "metadata": {},
     "output_type": "execute_result"
    }
   ],
   "source": [
    "C**2"
   ]
  },
  {
   "cell_type": "code",
   "execution_count": 332,
   "id": "0319af37",
   "metadata": {},
   "outputs": [
    {
     "data": {
      "text/plain": [
       "array([[0.5, 1. , 1.5],\n",
       "       [2. , 2.5, 3. ],\n",
       "       [3.5, 4. , 4.5]])"
      ]
     },
     "execution_count": 332,
     "metadata": {},
     "output_type": "execute_result"
    }
   ],
   "source": [
    "C/2"
   ]
  },
  {
   "cell_type": "code",
   "execution_count": 333,
   "id": "f0c04067",
   "metadata": {},
   "outputs": [
    {
     "data": {
      "text/plain": [
       "array([1, 2, 3])"
      ]
     },
     "execution_count": 333,
     "metadata": {},
     "output_type": "execute_result"
    }
   ],
   "source": [
    "R=np.array([1,2,3])\n",
    "R"
   ]
  },
  {
   "cell_type": "code",
   "execution_count": 334,
   "id": "2d5be5b9",
   "metadata": {},
   "outputs": [
    {
     "data": {
      "text/plain": [
       "array([[1, 2, 3],\n",
       "       [4, 5, 6],\n",
       "       [7, 8, 9]])"
      ]
     },
     "execution_count": 334,
     "metadata": {},
     "output_type": "execute_result"
    }
   ],
   "source": [
    "C"
   ]
  },
  {
   "cell_type": "code",
   "execution_count": 335,
   "id": "09c95c5a",
   "metadata": {},
   "outputs": [
    {
     "data": {
      "text/plain": [
       "array([[ 2,  4,  6],\n",
       "       [ 5,  7,  9],\n",
       "       [ 8, 10, 12]])"
      ]
     },
     "execution_count": 335,
     "metadata": {},
     "output_type": "execute_result"
    }
   ],
   "source": [
    "C+R"
   ]
  },
  {
   "cell_type": "code",
   "execution_count": 336,
   "id": "48a9f94d",
   "metadata": {},
   "outputs": [
    {
     "data": {
      "text/plain": [
       "array([[ 1,  4,  9],\n",
       "       [ 4, 10, 18],\n",
       "       [ 7, 16, 27]])"
      ]
     },
     "execution_count": 336,
     "metadata": {},
     "output_type": "execute_result"
    }
   ],
   "source": [
    "C*R"
   ]
  },
  {
   "cell_type": "code",
   "execution_count": 337,
   "id": "b98db9da",
   "metadata": {},
   "outputs": [
    {
     "data": {
      "text/plain": [
       "array([4, 5])"
      ]
     },
     "execution_count": 337,
     "metadata": {},
     "output_type": "execute_result"
    }
   ],
   "source": [
    "R=np.array([4,5])\n",
    "R"
   ]
  },
  {
   "cell_type": "code",
   "execution_count": 339,
   "id": "e0c93289",
   "metadata": {},
   "outputs": [
    {
     "data": {
      "text/plain": [
       "array([[False, False, False],\n",
       "       [False, False, False],\n",
       "       [False, False, False]])"
      ]
     },
     "execution_count": 339,
     "metadata": {},
     "output_type": "execute_result"
    }
   ],
   "source": [
    "C==D"
   ]
  },
  {
   "cell_type": "code",
   "execution_count": 341,
   "id": "1fef00d1",
   "metadata": {},
   "outputs": [
    {
     "data": {
      "text/plain": [
       "array([[10, 20, 30],\n",
       "       [40, 50, 60],\n",
       "       [70, 80, 90]])"
      ]
     },
     "execution_count": 341,
     "metadata": {},
     "output_type": "execute_result"
    }
   ],
   "source": [
    "A=np.array([[10,20,30],[40,50,60],[70,80,90]])\n",
    "A"
   ]
  },
  {
   "cell_type": "code",
   "execution_count": 342,
   "id": "945398b9",
   "metadata": {},
   "outputs": [
    {
     "data": {
      "text/plain": [
       "array([[1, 2],\n",
       "       [3, 4],\n",
       "       [5, 6]])"
      ]
     },
     "execution_count": 342,
     "metadata": {},
     "output_type": "execute_result"
    }
   ],
   "source": [
    "B=np.array([[1,2],[3,4],[5,6]])\n",
    "B"
   ]
  },
  {
   "cell_type": "code",
   "execution_count": 345,
   "id": "d898a0be",
   "metadata": {},
   "outputs": [],
   "source": [
    "Z=A@B"
   ]
  },
  {
   "cell_type": "code",
   "execution_count": 348,
   "id": "a53c2b6e",
   "metadata": {},
   "outputs": [
    {
     "data": {
      "text/plain": [
       "array([[ 220,  280],\n",
       "       [ 490,  640],\n",
       "       [ 760, 1000]])"
      ]
     },
     "execution_count": 348,
     "metadata": {},
     "output_type": "execute_result"
    }
   ],
   "source": [
    "Z"
   ]
  },
  {
   "cell_type": "code",
   "execution_count": 347,
   "id": "54a44df8",
   "metadata": {},
   "outputs": [
    {
     "data": {
      "text/plain": [
       "array([[ 220,  280],\n",
       "       [ 490,  640],\n",
       "       [ 760, 1000]])"
      ]
     },
     "execution_count": 347,
     "metadata": {},
     "output_type": "execute_result"
    }
   ],
   "source": [
    "np.matmul(A,B)"
   ]
  },
  {
   "cell_type": "code",
   "execution_count": 349,
   "id": "77d7b8e2",
   "metadata": {},
   "outputs": [
    {
     "data": {
      "text/plain": [
       "array([[ 220,  280],\n",
       "       [ 490,  640],\n",
       "       [ 760, 1000]])"
      ]
     },
     "execution_count": 349,
     "metadata": {},
     "output_type": "execute_result"
    }
   ],
   "source": [
    "np.dot(A,B)"
   ]
  },
  {
   "cell_type": "code",
   "execution_count": 350,
   "id": "368efa56",
   "metadata": {},
   "outputs": [
    {
     "data": {
      "text/plain": [
       "array([[10, 20, 30],\n",
       "       [40, 50, 60],\n",
       "       [70, 80, 90]])"
      ]
     },
     "execution_count": 350,
     "metadata": {},
     "output_type": "execute_result"
    }
   ],
   "source": [
    "A"
   ]
  },
  {
   "cell_type": "code",
   "execution_count": 351,
   "id": "d0494459",
   "metadata": {},
   "outputs": [
    {
     "data": {
      "text/plain": [
       "array([[10, 40, 70],\n",
       "       [20, 50, 80],\n",
       "       [30, 60, 90]])"
      ]
     },
     "execution_count": 351,
     "metadata": {},
     "output_type": "execute_result"
    }
   ],
   "source": [
    "A.T  # Transposed matrix "
   ]
  },
  {
   "cell_type": "code",
   "execution_count": 352,
   "id": "f7e74ede",
   "metadata": {},
   "outputs": [
    {
     "data": {
      "text/plain": [
       "array([[10, 40, 70],\n",
       "       [20, 50, 80],\n",
       "       [30, 60, 90]])"
      ]
     },
     "execution_count": 352,
     "metadata": {},
     "output_type": "execute_result"
    }
   ],
   "source": [
    "np.transpose(A)"
   ]
  },
  {
   "cell_type": "code",
   "execution_count": 2,
   "id": "b13cd649",
   "metadata": {},
   "outputs": [
    {
     "data": {
      "text/plain": [
       "array([[1, 2],\n",
       "       [3, 4]])"
      ]
     },
     "execution_count": 2,
     "metadata": {},
     "output_type": "execute_result"
    }
   ],
   "source": [
    "A=np.array([[1,2],[3,4]])\n",
    "A"
   ]
  },
  {
   "cell_type": "code",
   "execution_count": 3,
   "id": "eff861f7",
   "metadata": {},
   "outputs": [
    {
     "data": {
      "text/plain": [
       "-2.0000000000000004"
      ]
     },
     "execution_count": 3,
     "metadata": {},
     "output_type": "execute_result"
    }
   ],
   "source": [
    " np.linalg.det(A)"
   ]
  },
  {
   "cell_type": "code",
   "execution_count": 6,
   "id": "66647aff",
   "metadata": {},
   "outputs": [
    {
     "data": {
      "text/plain": [
       "array([[1, 2, 4],\n",
       "       [3, 4, 5],\n",
       "       [7, 8, 9]])"
      ]
     },
     "execution_count": 6,
     "metadata": {},
     "output_type": "execute_result"
    }
   ],
   "source": [
    "B=np.array([[1,2,4],[3,4,5],[7,8,9]])\n",
    "B"
   ]
  },
  {
   "cell_type": "code",
   "execution_count": 7,
   "id": "a4bc73bb",
   "metadata": {},
   "outputs": [
    {
     "data": {
      "text/plain": [
       "-4.000000000000002"
      ]
     },
     "execution_count": 7,
     "metadata": {},
     "output_type": "execute_result"
    }
   ],
   "source": [
    " np.linalg.det(B)"
   ]
  },
  {
   "cell_type": "code",
   "execution_count": 8,
   "id": "6356ec8c",
   "metadata": {},
   "outputs": [
    {
     "data": {
      "text/plain": [
       "array([[-2. ,  1. ],\n",
       "       [ 1.5, -0.5]])"
      ]
     },
     "execution_count": 8,
     "metadata": {},
     "output_type": "execute_result"
    }
   ],
   "source": [
    "np.linalg.inv(A)"
   ]
  },
  {
   "cell_type": "code",
   "execution_count": 11,
   "id": "b5c8fee2",
   "metadata": {},
   "outputs": [
    {
     "data": {
      "text/plain": [
       "array([ 7, 12, 24])"
      ]
     },
     "execution_count": 11,
     "metadata": {},
     "output_type": "execute_result"
    }
   ],
   "source": [
    "np.sum(B,axis=1)"
   ]
  },
  {
   "cell_type": "code",
   "execution_count": 12,
   "id": "35543792",
   "metadata": {},
   "outputs": [
    {
     "data": {
      "text/plain": [
       "4.777777777777778"
      ]
     },
     "execution_count": 12,
     "metadata": {},
     "output_type": "execute_result"
    }
   ],
   "source": [
    "np.mean(B)  "
   ]
  },
  {
   "cell_type": "code",
   "execution_count": 13,
   "id": "9c751161",
   "metadata": {},
   "outputs": [
    {
     "data": {
      "text/plain": [
       "array([3.66666667, 4.66666667, 6.        ])"
      ]
     },
     "execution_count": 13,
     "metadata": {},
     "output_type": "execute_result"
    }
   ],
   "source": [
    "np.mean(B,axis=0)  "
   ]
  },
  {
   "cell_type": "code",
   "execution_count": 14,
   "id": "242f92ea",
   "metadata": {},
   "outputs": [
    {
     "data": {
      "text/plain": [
       "array([2.33333333, 4.        , 8.        ])"
      ]
     },
     "execution_count": 14,
     "metadata": {},
     "output_type": "execute_result"
    }
   ],
   "source": [
    "np.mean(B,axis=1)  "
   ]
  },
  {
   "cell_type": "code",
   "execution_count": 15,
   "id": "d85fda1f",
   "metadata": {},
   "outputs": [
    {
     "data": {
      "text/plain": [
       "4.0"
      ]
     },
     "execution_count": 15,
     "metadata": {},
     "output_type": "execute_result"
    }
   ],
   "source": [
    "np.median(B)"
   ]
  },
  {
   "cell_type": "code",
   "execution_count": 17,
   "id": "a218c67f",
   "metadata": {},
   "outputs": [
    {
     "data": {
      "text/plain": [
       "array([2., 4., 8.])"
      ]
     },
     "execution_count": 17,
     "metadata": {},
     "output_type": "execute_result"
    }
   ],
   "source": [
    "np.median(B,axis=1)  "
   ]
  },
  {
   "cell_type": "code",
   "execution_count": 18,
   "id": "6d543079",
   "metadata": {},
   "outputs": [
    {
     "data": {
      "text/plain": [
       "241920"
      ]
     },
     "execution_count": 18,
     "metadata": {},
     "output_type": "execute_result"
    }
   ],
   "source": [
    "np.product(B)"
   ]
  },
  {
   "cell_type": "code",
   "execution_count": 19,
   "id": "336a8cce",
   "metadata": {},
   "outputs": [
    {
     "data": {
      "text/plain": [
       "array([ 21,  64, 180])"
      ]
     },
     "execution_count": 19,
     "metadata": {},
     "output_type": "execute_result"
    }
   ],
   "source": [
    "np.product(B,axis=0)"
   ]
  },
  {
   "cell_type": "code",
   "execution_count": 20,
   "id": "d9819cbd",
   "metadata": {},
   "outputs": [
    {
     "data": {
      "text/plain": [
       "array([  8,  60, 504])"
      ]
     },
     "execution_count": 20,
     "metadata": {},
     "output_type": "execute_result"
    }
   ],
   "source": [
    "np.product(B,axis=1)"
   ]
  },
  {
   "cell_type": "code",
   "execution_count": 21,
   "id": "7f7fa56d",
   "metadata": {},
   "outputs": [
    {
     "data": {
      "text/plain": [
       "8"
      ]
     },
     "execution_count": 21,
     "metadata": {},
     "output_type": "execute_result"
    }
   ],
   "source": [
    "np.argmax(B)  # index of the max value"
   ]
  },
  {
   "cell_type": "code",
   "execution_count": 22,
   "id": "bccb4c6e",
   "metadata": {},
   "outputs": [
    {
     "data": {
      "text/plain": [
       "0"
      ]
     },
     "execution_count": 22,
     "metadata": {},
     "output_type": "execute_result"
    }
   ],
   "source": [
    "np.argmin(B)  # index of the min value"
   ]
  },
  {
   "cell_type": "code",
   "execution_count": 23,
   "id": "f26d3cc6",
   "metadata": {},
   "outputs": [
    {
     "data": {
      "text/plain": [
       "9"
      ]
     },
     "execution_count": 23,
     "metadata": {},
     "output_type": "execute_result"
    }
   ],
   "source": [
    "np.max(B) # max value"
   ]
  },
  {
   "cell_type": "code",
   "execution_count": 24,
   "id": "9ec91b85",
   "metadata": {},
   "outputs": [
    {
     "data": {
      "text/plain": [
       "1"
      ]
     },
     "execution_count": 24,
     "metadata": {},
     "output_type": "execute_result"
    }
   ],
   "source": [
    "np.min(B) # min value"
   ]
  },
  {
   "cell_type": "code",
   "execution_count": 25,
   "id": "cc0b5b8a",
   "metadata": {},
   "outputs": [
    {
     "data": {
      "text/plain": [
       "14"
      ]
     },
     "execution_count": 25,
     "metadata": {},
     "output_type": "execute_result"
    }
   ],
   "source": [
    "np.trace(B)"
   ]
  },
  {
   "cell_type": "code",
   "execution_count": 28,
   "id": "9bef7e90",
   "metadata": {},
   "outputs": [
    {
     "data": {
      "text/plain": [
       "array([[10,  3],\n",
       "       [ 9,  4]])"
      ]
     },
     "execution_count": 28,
     "metadata": {},
     "output_type": "execute_result"
    }
   ],
   "source": [
    "A=np.array([[10,3],[9,4]])\n",
    "A"
   ]
  },
  {
   "cell_type": "code",
   "execution_count": 40,
   "id": "82d26cca",
   "metadata": {},
   "outputs": [
    {
     "data": {
      "text/plain": [
       "array([[ 9,  3],\n",
       "       [10,  4]])"
      ]
     },
     "execution_count": 40,
     "metadata": {},
     "output_type": "execute_result"
    }
   ],
   "source": [
    "np.sort(A,axis=0)  "
   ]
  },
  {
   "cell_type": "code",
   "execution_count": 36,
   "id": "d936c9a4",
   "metadata": {},
   "outputs": [
    {
     "data": {
      "text/plain": [
       "array([[3.16227766, 1.73205081],\n",
       "       [3.        , 2.        ]])"
      ]
     },
     "execution_count": 36,
     "metadata": {},
     "output_type": "execute_result"
    }
   ],
   "source": [
    "np.sqrt(A)"
   ]
  },
  {
   "cell_type": "code",
   "execution_count": 37,
   "id": "1186cd9d",
   "metadata": {},
   "outputs": [
    {
     "data": {
      "text/plain": [
       "array([[2.30258509, 1.09861229],\n",
       "       [2.19722458, 1.38629436]])"
      ]
     },
     "execution_count": 37,
     "metadata": {},
     "output_type": "execute_result"
    }
   ],
   "source": [
    "np.log(A)"
   ]
  },
  {
   "cell_type": "code",
   "execution_count": 38,
   "id": "266d2a2a",
   "metadata": {},
   "outputs": [
    {
     "data": {
      "text/plain": [
       "array([[1.        , 0.47712125],\n",
       "       [0.95424251, 0.60205999]])"
      ]
     },
     "execution_count": 38,
     "metadata": {},
     "output_type": "execute_result"
    }
   ],
   "source": [
    "np.log10(A)"
   ]
  },
  {
   "cell_type": "code",
   "execution_count": 39,
   "id": "92940376",
   "metadata": {},
   "outputs": [
    {
     "data": {
      "text/plain": [
       "array([[3.32192809, 1.5849625 ],\n",
       "       [3.169925  , 2.        ]])"
      ]
     },
     "execution_count": 39,
     "metadata": {},
     "output_type": "execute_result"
    }
   ],
   "source": [
    "np.log2(A)"
   ]
  },
  {
   "cell_type": "code",
   "execution_count": 41,
   "id": "43275806",
   "metadata": {},
   "outputs": [
    {
     "data": {
      "text/plain": [
       "array([[2.20264658e+04, 2.00855369e+01],\n",
       "       [8.10308393e+03, 5.45981500e+01]])"
      ]
     },
     "execution_count": 41,
     "metadata": {},
     "output_type": "execute_result"
    }
   ],
   "source": [
    "np.exp(A)"
   ]
  },
  {
   "cell_type": "code",
   "execution_count": 45,
   "id": "130e3ea5",
   "metadata": {},
   "outputs": [
    {
     "data": {
      "text/plain": [
       "array([[127,  42],\n",
       "       [126,  43]])"
      ]
     },
     "execution_count": 45,
     "metadata": {},
     "output_type": "execute_result"
    }
   ],
   "source": [
    "np.linalg.matrix_power(A,2)      "
   ]
  },
  {
   "cell_type": "code",
   "execution_count": 46,
   "id": "2b0200e6",
   "metadata": {},
   "outputs": [
    {
     "data": {
      "text/plain": [
       "array([[127,  42],\n",
       "       [126,  43]])"
      ]
     },
     "execution_count": 46,
     "metadata": {},
     "output_type": "execute_result"
    }
   ],
   "source": [
    "A@A"
   ]
  },
  {
   "cell_type": "code",
   "execution_count": 47,
   "id": "e36b7da0",
   "metadata": {},
   "outputs": [
    {
     "data": {
      "text/plain": [
       "array([[100,   9],\n",
       "       [ 81,  16]])"
      ]
     },
     "execution_count": 47,
     "metadata": {},
     "output_type": "execute_result"
    }
   ],
   "source": [
    "A**2"
   ]
  },
  {
   "cell_type": "code",
   "execution_count": 48,
   "id": "0aae9051",
   "metadata": {},
   "outputs": [
    {
     "data": {
      "text/plain": [
       "array([[-0.54402111,  0.14112001],\n",
       "       [ 0.41211849, -0.7568025 ]])"
      ]
     },
     "execution_count": 48,
     "metadata": {},
     "output_type": "execute_result"
    }
   ],
   "source": [
    "np.sin(A)"
   ]
  },
  {
   "cell_type": "code",
   "execution_count": 51,
   "id": "e3d233a4",
   "metadata": {},
   "outputs": [
    {
     "data": {
      "text/plain": [
       "True"
      ]
     },
     "execution_count": 51,
     "metadata": {},
     "output_type": "execute_result"
    }
   ],
   "source": [
    "np.array_equal(A,A)"
   ]
  },
  {
   "cell_type": "code",
   "execution_count": 54,
   "id": "f7f5374f",
   "metadata": {},
   "outputs": [
    {
     "data": {
      "text/plain": [
       "True"
      ]
     },
     "execution_count": 54,
     "metadata": {},
     "output_type": "execute_result"
    }
   ],
   "source": [
    "np.all(A)"
   ]
  },
  {
   "cell_type": "code",
   "execution_count": 55,
   "id": "21cc8b87",
   "metadata": {},
   "outputs": [
    {
     "data": {
      "text/plain": [
       "array([[10,  3],\n",
       "       [ 9,  4]])"
      ]
     },
     "execution_count": 55,
     "metadata": {},
     "output_type": "execute_result"
    }
   ],
   "source": [
    "A"
   ]
  },
  {
   "cell_type": "code",
   "execution_count": 57,
   "id": "daad3360",
   "metadata": {},
   "outputs": [
    {
     "data": {
      "text/plain": [
       "array([[1, 2, 4],\n",
       "       [3, 4, 5],\n",
       "       [7, 8, 9]])"
      ]
     },
     "execution_count": 57,
     "metadata": {},
     "output_type": "execute_result"
    }
   ],
   "source": [
    "B"
   ]
  },
  {
   "cell_type": "code",
   "execution_count": 58,
   "id": "d80330b7",
   "metadata": {},
   "outputs": [
    {
     "data": {
      "text/plain": [
       "array([[1, 2, 3],\n",
       "       [4, 5, 6]])"
      ]
     },
     "execution_count": 58,
     "metadata": {},
     "output_type": "execute_result"
    }
   ],
   "source": [
    "G=np.array([[1,2,3],[4,5,6]])\n",
    "G"
   ]
  },
  {
   "cell_type": "code",
   "execution_count": 59,
   "id": "7a0f1228",
   "metadata": {},
   "outputs": [
    {
     "data": {
      "text/plain": [
       "array([[1, 2],\n",
       "       [3, 4],\n",
       "       [5, 6]])"
      ]
     },
     "execution_count": 59,
     "metadata": {},
     "output_type": "execute_result"
    }
   ],
   "source": [
    "G.reshape(3,2)"
   ]
  },
  {
   "cell_type": "code",
   "execution_count": 60,
   "id": "1014486b",
   "metadata": {},
   "outputs": [
    {
     "data": {
      "text/plain": [
       "array([[1],\n",
       "       [2],\n",
       "       [3],\n",
       "       [4],\n",
       "       [5],\n",
       "       [6]])"
      ]
     },
     "execution_count": 60,
     "metadata": {},
     "output_type": "execute_result"
    }
   ],
   "source": [
    "G.reshape(6,1)"
   ]
  },
  {
   "cell_type": "code",
   "execution_count": 62,
   "id": "9fdcf464",
   "metadata": {},
   "outputs": [
    {
     "data": {
      "text/plain": [
       "array([[1, 2, 3, 4, 5, 6]])"
      ]
     },
     "execution_count": 62,
     "metadata": {},
     "output_type": "execute_result"
    }
   ],
   "source": [
    "G.reshape(1,6)"
   ]
  },
  {
   "cell_type": "code",
   "execution_count": 63,
   "id": "bc9ad26e",
   "metadata": {},
   "outputs": [
    {
     "data": {
      "text/plain": [
       "array([[1, 2, 3],\n",
       "       [4, 5, 6]])"
      ]
     },
     "execution_count": 63,
     "metadata": {},
     "output_type": "execute_result"
    }
   ],
   "source": [
    "G"
   ]
  },
  {
   "cell_type": "code",
   "execution_count": 65,
   "id": "11a03b56",
   "metadata": {},
   "outputs": [],
   "source": [
    "G.resize(4,4,refcheck=False)"
   ]
  },
  {
   "cell_type": "code",
   "execution_count": 66,
   "id": "07df7f06",
   "metadata": {},
   "outputs": [
    {
     "data": {
      "text/plain": [
       "array([[1, 2, 3, 4],\n",
       "       [5, 6, 0, 0],\n",
       "       [0, 0, 0, 0],\n",
       "       [0, 0, 0, 0]])"
      ]
     },
     "execution_count": 66,
     "metadata": {},
     "output_type": "execute_result"
    }
   ],
   "source": [
    "G"
   ]
  },
  {
   "cell_type": "code",
   "execution_count": 67,
   "id": "6d7bf883",
   "metadata": {},
   "outputs": [
    {
     "data": {
      "text/plain": [
       "array([[1, 2],\n",
       "       [3, 4],\n",
       "       [5, 6]])"
      ]
     },
     "execution_count": 67,
     "metadata": {},
     "output_type": "execute_result"
    }
   ],
   "source": [
    "G.resize(3,2,refcheck=False)\n",
    "G"
   ]
  },
  {
   "cell_type": "code",
   "execution_count": 68,
   "id": "79c2e5c2",
   "metadata": {},
   "outputs": [
    {
     "data": {
      "text/plain": [
       "array([[10,  3],\n",
       "       [ 9,  4]])"
      ]
     },
     "execution_count": 68,
     "metadata": {},
     "output_type": "execute_result"
    }
   ],
   "source": [
    "A"
   ]
  },
  {
   "cell_type": "code",
   "execution_count": 81,
   "id": "994ca7b6",
   "metadata": {},
   "outputs": [
    {
     "data": {
      "text/plain": [
       "array([[10,  3],\n",
       "       [ 9,  4],\n",
       "       [ 8,  6]])"
      ]
     },
     "execution_count": 81,
     "metadata": {},
     "output_type": "execute_result"
    }
   ],
   "source": [
    "W=np.append(A,[[8,6]],axis=0)  # Add a row\n",
    "W"
   ]
  },
  {
   "cell_type": "code",
   "execution_count": 82,
   "id": "f5409fd8",
   "metadata": {},
   "outputs": [
    {
     "data": {
      "text/plain": [
       "array([[10,  3,  8],\n",
       "       [ 9,  4,  6]])"
      ]
     },
     "execution_count": 82,
     "metadata": {},
     "output_type": "execute_result"
    }
   ],
   "source": [
    "Q=np.append(A,[[8],[6]],axis=1)  # add a column\n",
    "Q"
   ]
  },
  {
   "cell_type": "code",
   "execution_count": 83,
   "id": "54ff378e",
   "metadata": {},
   "outputs": [
    {
     "data": {
      "text/plain": [
       "array([10,  3,  8,  9,  4,  6])"
      ]
     },
     "execution_count": 83,
     "metadata": {},
     "output_type": "execute_result"
    }
   ],
   "source": [
    "Q.flatten()"
   ]
  },
  {
   "cell_type": "code",
   "execution_count": 84,
   "id": "082d4ff3",
   "metadata": {},
   "outputs": [
    {
     "data": {
      "text/plain": [
       "array([10,  3,  8,  9,  4,  6])"
      ]
     },
     "execution_count": 84,
     "metadata": {},
     "output_type": "execute_result"
    }
   ],
   "source": [
    "Q.ravel()"
   ]
  },
  {
   "cell_type": "code",
   "execution_count": 88,
   "id": "812d4532",
   "metadata": {},
   "outputs": [
    {
     "data": {
      "text/plain": [
       "array([[1, 2, 4],\n",
       "       [3, 4, 5],\n",
       "       [7, 8, 9]])"
      ]
     },
     "execution_count": 88,
     "metadata": {},
     "output_type": "execute_result"
    }
   ],
   "source": [
    "B"
   ]
  },
  {
   "cell_type": "code",
   "execution_count": 108,
   "id": "bf5a49de",
   "metadata": {},
   "outputs": [
    {
     "data": {
      "text/plain": [
       "[array([[1, 2, 4]]),\n",
       " array([[3, 4, 5],\n",
       "        [7, 8, 9]])]"
      ]
     },
     "execution_count": 108,
     "metadata": {},
     "output_type": "execute_result"
    }
   ],
   "source": [
    "np.split(B,[1],axis=0) "
   ]
  },
  {
   "cell_type": "code",
   "execution_count": 109,
   "id": "da6cfb4d",
   "metadata": {},
   "outputs": [
    {
     "data": {
      "text/plain": [
       "array([[10,  3],\n",
       "       [ 9,  4]])"
      ]
     },
     "execution_count": 109,
     "metadata": {},
     "output_type": "execute_result"
    }
   ],
   "source": [
    "A"
   ]
  },
  {
   "cell_type": "code",
   "execution_count": 128,
   "id": "451b71ee",
   "metadata": {},
   "outputs": [
    {
     "data": {
      "text/plain": [
       "array([[1, 2, 4],\n",
       "       [3, 4, 5]])"
      ]
     },
     "execution_count": 128,
     "metadata": {},
     "output_type": "execute_result"
    }
   ],
   "source": [
    "B=np.array([[1,2,4],[3,4,5]])\n",
    "B"
   ]
  },
  {
   "cell_type": "code",
   "execution_count": 130,
   "id": "6d84de1c",
   "metadata": {},
   "outputs": [
    {
     "ename": "ValueError",
     "evalue": "all the input array dimensions except for the concatenation axis must match exactly, but along dimension 1, the array at index 0 has size 3 and the array at index 1 has size 2",
     "output_type": "error",
     "traceback": [
      "\u001b[1;31m---------------------------------------------------------------------------\u001b[0m",
      "\u001b[1;31mValueError\u001b[0m                                Traceback (most recent call last)",
      "Cell \u001b[1;32mIn[130], line 1\u001b[0m\n\u001b[1;32m----> 1\u001b[0m np\u001b[38;5;241m.\u001b[39mvstack([B,A])\n",
      "File \u001b[1;32m<__array_function__ internals>:200\u001b[0m, in \u001b[0;36mvstack\u001b[1;34m(*args, **kwargs)\u001b[0m\n",
      "File \u001b[1;32m~\\anaconda3\\Lib\\site-packages\\numpy\\core\\shape_base.py:296\u001b[0m, in \u001b[0;36mvstack\u001b[1;34m(tup, dtype, casting)\u001b[0m\n\u001b[0;32m    294\u001b[0m \u001b[38;5;28;01mif\u001b[39;00m \u001b[38;5;129;01mnot\u001b[39;00m \u001b[38;5;28misinstance\u001b[39m(arrs, \u001b[38;5;28mlist\u001b[39m):\n\u001b[0;32m    295\u001b[0m     arrs \u001b[38;5;241m=\u001b[39m [arrs]\n\u001b[1;32m--> 296\u001b[0m \u001b[38;5;28;01mreturn\u001b[39;00m _nx\u001b[38;5;241m.\u001b[39mconcatenate(arrs, \u001b[38;5;241m0\u001b[39m, dtype\u001b[38;5;241m=\u001b[39mdtype, casting\u001b[38;5;241m=\u001b[39mcasting)\n",
      "File \u001b[1;32m<__array_function__ internals>:200\u001b[0m, in \u001b[0;36mconcatenate\u001b[1;34m(*args, **kwargs)\u001b[0m\n",
      "\u001b[1;31mValueError\u001b[0m: all the input array dimensions except for the concatenation axis must match exactly, but along dimension 1, the array at index 0 has size 3 and the array at index 1 has size 2"
     ]
    }
   ],
   "source": [
    "np.vstack([B,A])"
   ]
  },
  {
   "cell_type": "code",
   "execution_count": 156,
   "id": "f0bc287b",
   "metadata": {},
   "outputs": [
    {
     "name": "stderr",
     "output_type": "stream",
     "text": [
      "No artists with labels found to put in legend.  Note that artists whose label start with an underscore are ignored when legend() is called with no argument.\n"
     ]
    },
    {
     "data": {
      "text/plain": [
       "[<matplotlib.lines.Line2D at 0x1829bf580d0>]"
      ]
     },
     "execution_count": 156,
     "metadata": {},
     "output_type": "execute_result"
    },
    {
     "data": {
      "image/png": "[encoded data removed]",
      "text/plain": [
       "<Figure size 640x480 with 1 Axes>"
      ]
     },
     "metadata": {},
     "output_type": "display_data"
    }
   ],
   "source": [
    "x=[-5,-2,0,1,3,7,8]\n",
    "y=[-5,-2,0,1,3,7,8]\n",
    "plt.xlim(-2,2)\n",
    "plt.ylim(-3,3)\n",
    "plt.legend()\n",
    "plt.title('Figure Title')\n",
    "plt.xlabel('X-Axis label')\n",
    "plt.ylabel('Y-Axis label')\n",
    "plt.axis('equal')\n",
    "plt.axis('on')\n",
    "plt.plot(x,y,linestyle='solid',color='black',marker='o',markersize=5,markerfacecolor='blue',markeredgecolor='blue')"
   ]
  },
  {
   "cell_type": "code",
   "execution_count": 161,
   "id": "d91603d6",
   "metadata": {},
   "outputs": [
    {
     "data": {
      "image/png": "[encoded data removed]",
      "text/plain": [
       "<Figure size 640x480 with 1 Axes>"
      ]
     },
     "metadata": {},
     "output_type": "display_data"
    }
   ],
   "source": [
    "x= np.linspace(-2,2,100)\n",
    "y=1/(1+x**2)\n",
    "plt.plot(x,y, linestyle='solid',color='red')\n",
    "plt.show()"
   ]
  },
  {
   "cell_type": "code",
   "execution_count": 159,
   "id": "aaab4c52",
   "metadata": {},
   "outputs": [
    {
     "data": {
      "text/plain": [
       "<matplotlib.collections.PathCollection at 0x1829e187b50>"
      ]
     },
     "execution_count": 159,
     "metadata": {},
     "output_type": "execute_result"
    },
    {
     "data": {
      "image/png": "[encoded data removed]",
      "text/plain": [
       "<Figure size 640x480 with 1 Axes>"
      ]
     },
     "metadata": {},
     "output_type": "display_data"
    }
   ],
   "source": [
    "x=np.array([5,7,10,15,25,2,9,17,19,32,55,11])\n",
    "y=np.array([99,80,100,88,66,85,77,20,40,25,75,55])\n",
    "plt.scatter(x,y)"
   ]
  },
  {
   "cell_type": "code",
   "execution_count": 162,
   "id": "01ea8c46",
   "metadata": {},
   "outputs": [
    {
     "data": {
      "image/png": "[encoded data removed]",
      "text/plain": [
       "<Figure size 1000x500 with 1 Axes>"
      ]
     },
     "metadata": {},
     "output_type": "display_data"
    }
   ],
   "source": [
    "data={'C':20,'C++':15,'Java':30,'Python':35}\n",
    "course=list(data.keys())\n",
    "values=list(data.values())\n",
    "plt.figure(figsize=(10,5))\n",
    "plt.bar(course,values,color='green',width=0.3)\n",
    "plt.xlabel('COurses')\n",
    "plt.ylabel('No of Students')\n",
    "plt.title('Students in Courses')\n",
    "plt.show()"
   ]
  },
  {
   "cell_type": "code",
   "execution_count": 171,
   "id": "8ea3d85e",
   "metadata": {},
   "outputs": [
    {
     "data": {
      "image/png": "[encoded data removed]",
      "text/plain": [
       "<Figure size 1000x500 with 1 Axes>"
      ]
     },
     "metadata": {},
     "output_type": "display_data"
    }
   ],
   "source": [
    "data={'C':20,'C++':15,'Java':30,'Python':35}\n",
    "course=list(data.keys())\n",
    "values=list(data.values())\n",
    "plt.figure(figsize=(10,5))\n",
    "plt.pie(values,labels =course,startangle = 45,shadow = True)\n",
    "plt.xlabel('COurses')\n",
    "plt.ylabel('No of Students')\n",
    "plt.title('Students in Courses')\n",
    "plt.show()"
   ]
  },
  {
   "cell_type": "code",
   "execution_count": 179,
   "id": "ad7f1492",
   "metadata": {},
   "outputs": [
    {
     "data": {
      "image/png": "[encoded data removed]",
      "text/plain": [
       "<Figure size 640x480 with 4 Axes>"
      ]
     },
     "metadata": {},
     "output_type": "display_data"
    }
   ],
   "source": [
    "x= np.linspace(-2,2,100)\n",
    "y1=np.sin(x)\n",
    "y2=np.sin(x**2)\n",
    "fig,ax=plt.subplots(2,2)\n",
    "ax[0,0].plot(x,y1)\n",
    "ax[0,0].set_title('first sub-plot Title')\n",
    "ax[0,1].plot(x,y2)\n",
    "ax[0,1].set_title('Second sub-plot Title')\n",
    "ax[1,0].plot(x,-y1)\n",
    "ax[1,0].set_title('Third sub-plot Title')\n",
    "ax[1,1].plot(x,-y2)\n",
    "ax[1,1].set_title('Fourth sub-plot Title')\n",
    "fig.suptitle('The Figure Title')\n",
    "plt.tight_layout()"
   ]
  },
  {
   "cell_type": "code",
   "execution_count": 182,
   "id": "15dac136",
   "metadata": {},
   "outputs": [
    {
     "data": {
      "image/png": "[encoded data removed]",
      "text/plain": [
       "<Figure size 640x480 with 9 Axes>"
      ]
     },
     "metadata": {},
     "output_type": "display_data"
    }
   ],
   "source": [
    "for i in range(1,10):\n",
    "    plt.subplot(3,3,i)\n",
    "    plt.plot(x,y)\n",
    "    plt.title('figure no :{}'.format(i))"
   ]
  },
  {
   "cell_type": "code",
   "execution_count": 183,
   "id": "cd7e9efb",
   "metadata": {},
   "outputs": [
    {
     "data": {
      "text/plain": [
       "array([[10,  3],\n",
       "       [ 9,  4]])"
      ]
     },
     "execution_count": 183,
     "metadata": {},
     "output_type": "execute_result"
    }
   ],
   "source": [
    "A"
   ]
  },
  {
   "cell_type": "code",
   "execution_count": 184,
   "id": "65b3f505",
   "metadata": {},
   "outputs": [
    {
     "data": {
      "text/plain": [
       "6.5"
      ]
     },
     "execution_count": 184,
     "metadata": {},
     "output_type": "execute_result"
    }
   ],
   "source": [
    "np.mean(A)"
   ]
  },
  {
   "cell_type": "code",
   "execution_count": 186,
   "id": "025e0cb1",
   "metadata": {},
   "outputs": [
    {
     "data": {
      "text/plain": [
       "6.5"
      ]
     },
     "execution_count": 186,
     "metadata": {},
     "output_type": "execute_result"
    }
   ],
   "source": [
    "np.median(A)      3   4   9   10"
   ]
  },
  {
   "cell_type": "code",
   "execution_count": 187,
   "id": "ec7fc5bb",
   "metadata": {},
   "outputs": [
    {
     "data": {
      "text/plain": [
       "array([[1, 2, 4],\n",
       "       [3, 4, 5]])"
      ]
     },
     "execution_count": 187,
     "metadata": {},
     "output_type": "execute_result"
    }
   ],
   "source": [
    "B"
   ]
  },
  {
   "cell_type": "code",
   "execution_count": 188,
   "id": "71082778",
   "metadata": {},
   "outputs": [
    {
     "data": {
      "text/plain": [
       "3.1666666666666665"
      ]
     },
     "execution_count": 188,
     "metadata": {},
     "output_type": "execute_result"
    }
   ],
   "source": [
    "np.mean(B)"
   ]
  },
  {
   "cell_type": "code",
   "execution_count": 189,
   "id": "717e93a7",
   "metadata": {},
   "outputs": [
    {
     "data": {
      "text/plain": [
       "3.5"
      ]
     },
     "execution_count": 189,
     "metadata": {},
     "output_type": "execute_result"
    }
   ],
   "source": [
    "np.median(B)    "
   ]
  },
  {
   "cell_type": "code",
   "execution_count": 193,
   "id": "c2d0ca32",
   "metadata": {},
   "outputs": [
    {
     "data": {
      "text/plain": [
       "array([  1, 100,   5,   2,   4])"
      ]
     },
     "execution_count": 193,
     "metadata": {},
     "output_type": "execute_result"
    }
   ],
   "source": [
    "C=np.array([1,100,5,2,4])\n",
    "C"
   ]
  },
  {
   "cell_type": "code",
   "execution_count": 196,
   "id": "39f556cd",
   "metadata": {},
   "outputs": [
    {
     "data": {
      "text/plain": [
       "22.4"
      ]
     },
     "execution_count": 196,
     "metadata": {},
     "output_type": "execute_result"
    }
   ],
   "source": [
    "np.mean(C)            "
   ]
  },
  {
   "cell_type": "code",
   "execution_count": 195,
   "id": "4a1878a2",
   "metadata": {},
   "outputs": [
    {
     "data": {
      "text/plain": [
       "4.0"
      ]
     },
     "execution_count": 195,
     "metadata": {},
     "output_type": "execute_result"
    }
   ],
   "source": [
    "np.median(C)            "
   ]
  },
  {
   "cell_type": "code",
   "execution_count": 198,
   "id": "df13ed30",
   "metadata": {},
   "outputs": [],
   "source": [
    "import statistics as st"
   ]
  },
  {
   "cell_type": "code",
   "execution_count": 208,
   "id": "56bbed1f",
   "metadata": {},
   "outputs": [
    {
     "data": {
      "text/plain": [
       "array([  1, 100,   5,   4,   2,   2,   2,   4,   2,   4,   4,   4,   2])"
      ]
     },
     "execution_count": 208,
     "metadata": {},
     "output_type": "execute_result"
    }
   ],
   "source": [
    "C=np.array([1,100,5,4,2,2,2,4,2,4,4,4,2])\n",
    "C"
   ]
  },
  {
   "cell_type": "code",
   "execution_count": 209,
   "id": "08a1365c",
   "metadata": {},
   "outputs": [
    {
     "data": {
      "text/plain": [
       "4"
      ]
     },
     "execution_count": 209,
     "metadata": {},
     "output_type": "execute_result"
    }
   ],
   "source": [
    "st.mode(C)"
   ]
  },
  {
   "cell_type": "code",
   "execution_count": 207,
   "id": "542c5804",
   "metadata": {},
   "outputs": [
    {
     "data": {
      "text/plain": [
       "[2, 4]"
      ]
     },
     "execution_count": 207,
     "metadata": {},
     "output_type": "execute_result"
    }
   ],
   "source": [
    "st.multimode(C)"
   ]
  },
  {
   "cell_type": "code",
   "execution_count": 210,
   "id": "d558fdda",
   "metadata": {},
   "outputs": [
    {
     "data": {
      "text/plain": [
       "array([68, 77, 80, 77, 63, 68])"
      ]
     },
     "execution_count": 210,
     "metadata": {},
     "output_type": "execute_result"
    }
   ],
   "source": [
    "F=np.array([68,77,80,77,63,68])\n",
    "F"
   ]
  },
  {
   "cell_type": "code",
   "execution_count": 211,
   "id": "b6afce08",
   "metadata": {},
   "outputs": [
    {
     "data": {
      "text/plain": [
       "37.80555555555555"
      ]
     },
     "execution_count": 211,
     "metadata": {},
     "output_type": "execute_result"
    }
   ],
   "source": [
    "np.var(F)"
   ]
  },
  {
   "cell_type": "code",
   "execution_count": 212,
   "id": "85ff8449",
   "metadata": {},
   "outputs": [
    {
     "data": {
      "text/plain": [
       "6.148622248565572"
      ]
     },
     "execution_count": 212,
     "metadata": {},
     "output_type": "execute_result"
    }
   ],
   "source": [
    "np.std(F)"
   ]
  },
  {
   "cell_type": "code",
   "execution_count": 213,
   "id": "4f35bd41",
   "metadata": {},
   "outputs": [
    {
     "data": {
      "text/plain": [
       "array([[1, 2, 4],\n",
       "       [3, 4, 5]])"
      ]
     },
     "execution_count": 213,
     "metadata": {},
     "output_type": "execute_result"
    }
   ],
   "source": [
    "B"
   ]
  },
  {
   "cell_type": "code",
   "execution_count": 214,
   "id": "8293d6e2",
   "metadata": {},
   "outputs": [
    {
     "data": {
      "text/plain": [
       "1.8055555555555554"
      ]
     },
     "execution_count": 214,
     "metadata": {},
     "output_type": "execute_result"
    }
   ],
   "source": [
    "np.var(B)"
   ]
  },
  {
   "cell_type": "code",
   "execution_count": 215,
   "id": "b4d3ebfb",
   "metadata": {},
   "outputs": [
    {
     "data": {
      "text/plain": [
       "array([1.  , 1.  , 0.25])"
      ]
     },
     "execution_count": 215,
     "metadata": {},
     "output_type": "execute_result"
    }
   ],
   "source": [
    "np.var(B,axis=0)"
   ]
  },
  {
   "cell_type": "code",
   "execution_count": 216,
   "id": "37d04e4e",
   "metadata": {},
   "outputs": [
    {
     "data": {
      "text/plain": [
       "array([1.55555556, 0.66666667])"
      ]
     },
     "execution_count": 216,
     "metadata": {},
     "output_type": "execute_result"
    }
   ],
   "source": [
    "np.var(B,axis=1)"
   ]
  },
  {
   "cell_type": "code",
   "execution_count": 217,
   "id": "c4565da7",
   "metadata": {},
   "outputs": [
    {
     "data": {
      "text/plain": [
       "1.3437096247164249"
      ]
     },
     "execution_count": 217,
     "metadata": {},
     "output_type": "execute_result"
    }
   ],
   "source": [
    "np.std(B)"
   ]
  },
  {
   "cell_type": "code",
   "execution_count": 218,
   "id": "f66eea28",
   "metadata": {},
   "outputs": [
    {
     "data": {
      "text/plain": [
       "array([1. , 1. , 0.5])"
      ]
     },
     "execution_count": 218,
     "metadata": {},
     "output_type": "execute_result"
    }
   ],
   "source": [
    "np.std(B,axis=0)"
   ]
  },
  {
   "cell_type": "code",
   "execution_count": 219,
   "id": "c63c7b5f",
   "metadata": {},
   "outputs": [
    {
     "data": {
      "text/plain": [
       "array([1.24721913, 0.81649658])"
      ]
     },
     "execution_count": 219,
     "metadata": {},
     "output_type": "execute_result"
    }
   ],
   "source": [
    "np.std(B,axis=1)"
   ]
  },
  {
   "cell_type": "code",
   "execution_count": 225,
   "id": "3fc7699f",
   "metadata": {},
   "outputs": [
    {
     "data": {
      "text/plain": [
       "array([[10,  3],\n",
       "       [ 9,  4]])"
      ]
     },
     "execution_count": 225,
     "metadata": {},
     "output_type": "execute_result"
    }
   ],
   "source": [
    "A"
   ]
  },
  {
   "cell_type": "code",
   "execution_count": 226,
   "id": "b9c548fb",
   "metadata": {},
   "outputs": [
    {
     "data": {
      "text/plain": [
       "array([[1., 1., 1., 1.],\n",
       "       [1., 1., 1., 1.],\n",
       "       [1., 1., 1., 1.],\n",
       "       [1., 1., 1., 1.]])"
      ]
     },
     "execution_count": 226,
     "metadata": {},
     "output_type": "execute_result"
    }
   ],
   "source": [
    "np.corrcoef(A,A)"
   ]
  },
  {
   "cell_type": "code",
   "execution_count": 231,
   "id": "81af7a17",
   "metadata": {},
   "outputs": [],
   "source": [
    "A=np.array([1,2,3,4])\n",
    "B=np.array([-1,5,-7,400])"
   ]
  },
  {
   "cell_type": "code",
   "execution_count": 232,
   "id": "034598aa",
   "metadata": {},
   "outputs": [
    {
     "data": {
      "text/plain": [
       "array([[1.        , 0.76664121],\n",
       "       [0.76664121, 1.        ]])"
      ]
     },
     "execution_count": 232,
     "metadata": {},
     "output_type": "execute_result"
    }
   ],
   "source": [
    "np.corrcoef(A,B)"
   ]
  },
  {
   "cell_type": "code",
   "execution_count": 236,
   "id": "76e01e7a",
   "metadata": {},
   "outputs": [
    {
     "data": {
      "text/plain": [
       "array([[1.        , 0.76664121],\n",
       "       [0.76664121, 1.        ]])"
      ]
     },
     "execution_count": 236,
     "metadata": {},
     "output_type": "execute_result"
    }
   ],
   "source": [
    "T=np.empty([2,2])\n",
    "T"
   ]
  },
  {
   "cell_type": "code",
   "execution_count": 250,
   "id": "c4bc33e2",
   "metadata": {},
   "outputs": [
    {
     "data": {
      "text/plain": [
       "34.0"
      ]
     },
     "execution_count": 250,
     "metadata": {},
     "output_type": "execute_result"
    }
   ],
   "source": [
    "# IQR using The Median\n",
    "data = [32, 36, 46, 47, 56, 69, 75, 79, 79, 88, 89, 91, 92, 93, 96, 97, 101, 105, 112, 116]\n",
    "Q1 = np.median(data[:10])\n",
    "Q3 = np.median(data[10:]) \n",
    "IQR = Q3 - Q1\n",
    "IQR"
   ]
  },
  {
   "cell_type": "code",
   "execution_count": 252,
   "id": "1b42a71a",
   "metadata": {},
   "outputs": [
    {
     "data": {
      "text/plain": [
       "34.0"
      ]
     },
     "execution_count": 252,
     "metadata": {},
     "output_type": "execute_result"
    }
   ],
   "source": [
    "from scipy import stats\n",
    "data = [32, 36, 46, 47, 56, 69, 75, 79, 79, 88, 89, 91, 92, 93, 96, 97,101, 105, 112, 116]\n",
    "IQR = stats.iqr(data, interpolation = 'midpoint')\n",
    "IQR"
   ]
  },
  {
   "cell_type": "code",
   "execution_count": 255,
   "id": "f899546a",
   "metadata": {},
   "outputs": [
    {
     "name": "stderr",
     "output_type": "stream",
     "text": [
      "C:\\Users\\Ahmed\\AppData\\Local\\Temp\\ipykernel_10232\\3876826342.py:3: DeprecationWarning: the `interpolation=` argument to percentile was renamed to `method=`, which has additional options.\n",
      "Users of the modes 'nearest', 'lower', 'higher', or 'midpoint' are encouraged to review the method they used. (Deprecated NumPy 1.22)\n",
      "  Q1 = np.percentile(data, 10, interpolation = 'midpoint')\n",
      "C:\\Users\\Ahmed\\AppData\\Local\\Temp\\ipykernel_10232\\3876826342.py:4: DeprecationWarning: the `interpolation=` argument to percentile was renamed to `method=`, which has additional options.\n",
      "Users of the modes 'nearest', 'lower', 'higher', or 'midpoint' are encouraged to review the method they used. (Deprecated NumPy 1.22)\n",
      "  Q3 = np.percentile(data, 90, interpolation = 'midpoint')\n"
     ]
    },
    {
     "data": {
      "text/plain": [
       "67.5"
      ]
     },
     "execution_count": 255,
     "metadata": {},
     "output_type": "execute_result"
    }
   ],
   "source": [
    "# IQR using The Percentile\n",
    "data = [32, 36, 46, 47, 56, 69, 75, 79, 79, 88, 89, 91, 92, 93, 96, 97, 101, 105, 112, 116] \n",
    "Q1 = np.percentile(data, 10, interpolation = 'midpoint')\n",
    "Q3 = np.percentile(data, 90, interpolation = 'midpoint')\n",
    "IQR = Q3 - Q1\n",
    "IQR"
   ]
  },
  {
   "cell_type": "code",
   "execution_count": 256,
   "id": "887486a5",
   "metadata": {},
   "outputs": [],
   "source": [
    "import scipy.stats\n",
    "import statistics\n",
    "import scipy.stats as stats\n",
    "import numpy as np\n",
    "import pandas as pd\n",
    "import seaborn as sns\n",
    "import matplotlib.pyplot as plt"
   ]
  },
  {
   "cell_type": "code",
   "execution_count": 258,
   "id": "a73ef08f",
   "metadata": {},
   "outputs": [
    {
     "data": {
      "text/plain": [
       "array([6.34138341, 5.05057262, 4.21678264, 4.74592305, 3.92137403,\n",
       "       4.79576437, 6.09729845, 5.34026075, 5.09942611, 4.58186303])"
      ]
     },
     "execution_count": 258,
     "metadata": {},
     "output_type": "execute_result"
    }
   ],
   "source": [
    "data =stats.norm(scale=1, loc=5).rvs(10)\n",
    "data"
   ]
  },
  {
   "cell_type": "code",
   "execution_count": 264,
   "id": "11be5dea",
   "metadata": {},
   "outputs": [
    {
     "name": "stderr",
     "output_type": "stream",
     "text": [
      "C:\\Users\\Ahmed\\AppData\\Local\\Temp\\ipykernel_10232\\2428918258.py:3: UserWarning: \n",
      "\n",
      "`distplot` is a deprecated function and will be removed in seaborn v0.14.0.\n",
      "\n",
      "Please adapt your code to use either `displot` (a figure-level function with\n",
      "similar flexibility) or `histplot` (an axes-level function for histograms).\n",
      "\n",
      "For a guide to updating your code to use the new functions, please see\n",
      "https://gist.github.com/mwaskom/de44147ed2974457ad6372750bbe5751\n",
      "\n",
      "  ax = sns.distplot(data,bins=50,kde=True,color='blue',hist_kws={\"linewidth\": 5,'alpha':1})\n"
     ]
    },
    {
     "data": {
      "text/plain": [
       "[Text(0.5, 0, 'Normal Distribution'), Text(0, 0.5, 'Frequency')]"
      ]
     },
     "execution_count": 264,
     "metadata": {},
     "output_type": "execute_result"
    },
    {
     "data": {
      "image/png": "[encoded data removed]",
      "text/plain": [
       "<Figure size 640x480 with 1 Axes>"
      ]
     },
     "metadata": {},
     "output_type": "display_data"
    }
   ],
   "source": [
    "# generate Normal distribution data\n",
    "data =stats.norm(scale=1, loc=2).rvs(1000)\n",
    "ax = sns.distplot(data,bins=50,kde=True,color='blue',hist_kws={\"linewidth\": 5,'alpha':1})\n",
    "ax.set(xlabel='Normal Distribution', ylabel='Frequency')"
   ]
  },
  {
   "cell_type": "code",
   "execution_count": 266,
   "id": "2ea38cc8",
   "metadata": {},
   "outputs": [
    {
     "name": "stderr",
     "output_type": "stream",
     "text": [
      "C:\\Users\\Ahmed\\AppData\\Local\\Temp\\ipykernel_10232\\3374407695.py:5: UserWarning: \n",
      "\n",
      "`distplot` is a deprecated function and will be removed in seaborn v0.14.0.\n",
      "\n",
      "Please adapt your code to use either `displot` (a figure-level function with\n",
      "similar flexibility) or `histplot` (an axes-level function for histograms).\n",
      "\n",
      "For a guide to updating your code to use the new functions, please see\n",
      "https://gist.github.com/mwaskom/de44147ed2974457ad6372750bbe5751\n",
      "\n",
      "  ax = sns.distplot(data,bins=20,kde=False,color='blue', hist_kws={\"linewidth\": 15, 'alpha': 1})\n"
     ]
    },
    {
     "data": {
      "text/plain": [
       "[Text(0.5, 0, 'Binomial Distribution'), Text(0, 0.5, 'Frequency')]"
      ]
     },
     "execution_count": 266,
     "metadata": {},
     "output_type": "execute_result"
    },
    {
     "data": {
      "image/png": "[encoded data removed]",
      "text/plain": [
       "<Figure size 640x480 with 1 Axes>"
      ]
     },
     "metadata": {},
     "output_type": "display_data"
    }
   ],
   "source": [
    "# generate binomial distribution data\n",
    "#n refers to a number of trails and prefers the probability of each trail. \n",
    "n, p = 10, .6\n",
    "data = np.random.binomial(n, p, 50)\n",
    "ax = sns.distplot(data,bins=20,kde=False,color='blue', hist_kws={\"linewidth\": 15, 'alpha': 1})\n",
    "ax.set(xlabel='Binomial Distribution', ylabel='Frequency')"
   ]
  },
  {
   "cell_type": "code",
   "execution_count": 267,
   "id": "f920ee64",
   "metadata": {},
   "outputs": [
    {
     "name": "stderr",
     "output_type": "stream",
     "text": [
      "C:\\Users\\Ahmed\\AppData\\Local\\Temp\\ipykernel_10232\\1868926211.py:4: UserWarning: \n",
      "\n",
      "`distplot` is a deprecated function and will be removed in seaborn v0.14.0.\n",
      "\n",
      "Please adapt your code to use either `displot` (a figure-level function with\n",
      "similar flexibility) or `histplot` (an axes-level function for histograms).\n",
      "\n",
      "For a guide to updating your code to use the new functions, please see\n",
      "https://gist.github.com/mwaskom/de44147ed2974457ad6372750bbe5751\n",
      "\n",
      "  ax = sns.distplot(poisson_data,kde=False,color='red')\n"
     ]
    },
    {
     "data": {
      "text/plain": [
       "[Text(0.5, 0, 'Poisson Distribution'), Text(0, 0.5, 'Frequency')]"
      ]
     },
     "execution_count": 267,
     "metadata": {},
     "output_type": "execute_result"
    },
    {
     "data": {
      "image/png": "[encoded data removed]",
      "text/plain": [
       "<Figure size 640x480 with 1 Axes>"
      ]
     },
     "metadata": {},
     "output_type": "display_data"
    }
   ],
   "source": [
    "# generate poisson data\n",
    "#lam refers to The number of occurrences that are expected to occur in a given time frame.\n",
    "poisson_data = np.random.poisson(lam=10, size=1000)\n",
    "ax = sns.distplot(poisson_data,kde=False,color='red')\n",
    "ax.set(xlabel='Poisson Distribution', ylabel='Frequency')"
   ]
  },
  {
   "cell_type": "code",
   "execution_count": 268,
   "id": "f82462ca",
   "metadata": {},
   "outputs": [
    {
     "name": "stdout",
     "output_type": "stream",
     "text": [
      "col_0    1    2    3   4   5   6   7   8   9   11\n",
      "row_0                                            \n",
      "counts  504  239  114  81  34   9  12   4   2   1\n"
     ]
    },
    {
     "data": {
      "image/png": "[encoded data removed]",
      "text/plain": [
       "<Figure size 640x480 with 1 Axes>"
      ]
     },
     "metadata": {},
     "output_type": "display_data"
    }
   ],
   "source": [
    "# Generate geometric data With success prob 0.5\n",
    "flips_till_heads = stats.geom.rvs(size=1000,  p=0.5)       \n",
    "# Print table of counts\n",
    "print( pd.crosstab(index=\"counts\", columns= flips_till_heads))\n",
    "pd.DataFrame(flips_till_heads).hist(range=(-0.5,max(flips_till_heads)+0.5), bins=max(flips_till_heads)+1);"
   ]
  },
  {
   "cell_type": "code",
   "execution_count": null,
   "id": "5686efd9",
   "metadata": {},
   "outputs": [],
   "source": []
  }
 ],
 "metadata": {
  "kernelspec": {
   "display_name": "Python 3 (ipykernel)",
   "language": "python",
   "name": "python3"
  },
  "language_info": {
   "codemirror_mode": {
    "name": "ipython",
    "version": 3
   },
   "file_extension": ".py",
   "mimetype": "text/x-python",
   "name": "python",
   "nbconvert_exporter": "python",
   "pygments_lexer": "ipython3",
   "version": "3.11.3"
  }
 },
 "nbformat": 4,
 "nbformat_minor": 5
}
