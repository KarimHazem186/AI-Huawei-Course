{
 "cells": [
  {
   "cell_type": "markdown",
   "id": "d85fa531",
   "metadata": {},
   "source": [
    "### Python Basics for Machine Learning\n",
    "1. Environments  Anaconda or Colab\n",
    "2. What is The program and what programing languages Do.\n",
    "3. What is the structure of the python programs and types of python files.\n",
    "4. O/P and I/P statements in python\n",
    "5. Variables and Operators in python\n",
    "6. Control Structures in python\n",
    "7. Data structures in python (Lists, Tuple, Dictionaries and Data Frames in Python)\n",
    "8. Working with files with different Extensions\n",
    "9. Functions in python\n",
    "10. Object Oriented in Python"
   ]
  },
  {
   "cell_type": "markdown",
   "id": "0bdd37ff",
   "metadata": {},
   "source": [
    "## 1. Environments  Anaconda or Colab\n",
    "#### There are 4 types of Environments in Colab \n",
    "1. code cells to Wrire code to be excuted\n",
    "2. Markdown cells and used for body-text, and contain markdown, as defined in GitHub-flavored markdown\n",
    "3. A raw NB convert cell is defined as content that should be included unmodified in nbconvert output. \n",
    "4. Heading Cells for making headings"
   ]
  },
  {
   "cell_type": "markdown",
   "id": "8df1dc39",
   "metadata": {},
   "source": [
    "### Get the python version "
   ]
  },
  {
   "cell_type": "code",
   "execution_count": 1,
   "id": "af952e44",
   "metadata": {},
   "outputs": [
    {
     "name": "stdout",
     "output_type": "stream",
     "text": [
      "3.9.16 (main, Jan 11 2023, 16:16:36) [MSC v.1916 64 bit (AMD64)]\n"
     ]
    }
   ],
   "source": [
    "import sys                \n",
    "sys.version_info\n",
    "print(sys.version)"
   ]
  },
  {
   "cell_type": "markdown",
   "id": "21361a78",
   "metadata": {},
   "source": [
    "### List all libraries in python (note book or cmd)"
   ]
  },
  {
   "cell_type": "code",
   "execution_count": 2,
   "id": "c9b4e2fe",
   "metadata": {},
   "outputs": [
    {
     "name": "stdout",
     "output_type": "stream",
     "text": [
      "Package                           Version\n",
      "--------------------------------- --------------\n",
      "absl-py                           1.3.0\n",
      "aiohttp                           3.8.3\n",
      "aiosignal                         1.2.0\n",
      "anyio                             3.5.0\n",
      "appdirs                           1.4.4\n",
      "argon2-cffi                       20.1.0\n",
      "astor                             0.8.1\n",
      "asttokens                         2.0.5\n",
      "astunparse                        1.6.3\n",
      "async-timeout                     4.0.2\n",
      "attrs                             22.1.0\n",
      "backcall                          0.2.0\n",
      "bayesian-optimization             1.4.3\n",
      "beautifulsoup4                    4.12.2\n",
      "bleach                            4.1.0\n",
      "blinker                           1.4\n",
      "Bottleneck                        1.3.5\n",
      "brotlipy                          0.7.0\n",
      "cachetools                        4.2.2\n",
      "certifi                           2023.7.22\n",
      "cffi                              1.15.1\n",
      "charset-normalizer                2.0.4\n",
      "click                             8.0.4\n",
      "cloudpickle                       2.2.1\n",
      "colorama                          0.4.6\n",
      "comm                              0.1.2\n",
      "contourpy                         1.1.0\n",
      "cryptography                      38.0.4\n",
      "cycler                            0.11.0\n",
      "debugpy                           1.6.7\n",
      "decorator                         5.1.1\n",
      "defusedxml                        0.7.1\n",
      "entrypoints                       0.4\n",
      "executing                         0.8.3\n",
      "fastjsonschema                    2.16.2\n",
      "flatbuffers                       20210226132247\n",
      "flit_core                         3.6.0\n",
      "fonttools                         4.42.1\n",
      "frozenlist                        1.3.3\n",
      "future                            0.18.3\n",
      "gast                              0.4.0\n",
      "google-auth                       2.6.0\n",
      "google-auth-oauthlib              0.4.1\n",
      "google-pasta                      0.2.0\n",
      "grpcio                            1.42.0\n",
      "h5py                              3.7.0\n",
      "hyperopt                          0.2.7\n",
      "idna                              3.4\n",
      "imbalanced-learn                  0.11.0\n",
      "importlib-metadata                4.11.3\n",
      "importlib-resources               6.0.1\n",
      "ipykernel                         6.25.0\n",
      "ipython                           8.12.2\n",
      "ipython-genutils                  0.2.0\n",
      "jedi                              0.18.1\n",
      "Jinja2                            3.1.2\n",
      "joblib                            1.2.0\n",
      "jsonschema                        4.17.3\n",
      "jupyter_client                    7.4.9\n",
      "jupyter-contrib-core              0.4.0\n",
      "jupyter-contrib-nbextensions      0.7.0\n",
      "jupyter_core                      5.3.0\n",
      "jupyter-highlight-selected-word   0.2.0\n",
      "jupyter-latex-envs                1.4.6\n",
      "jupyter-nbextensions-configurator 0.6.1\n",
      "jupyter-server                    1.13.5\n",
      "jupyterlab-pygments               0.2.2\n",
      "Keras-Preprocessing               1.1.2\n",
      "kiwisolver                        1.4.5\n",
      "lazylearn                         0.0.4\n",
      "lazypredict                       0.2.12\n",
      "lightgbm                          4.0.0\n",
      "lxml                              4.9.2\n",
      "Markdown                          3.4.1\n",
      "MarkupSafe                        2.1.1\n",
      "matplotlib                        3.7.2\n",
      "matplotlib-inline                 0.1.6\n",
      "mistune                           3.0.1\n",
      "mkl-fft                           1.3.1\n",
      "mkl-random                        1.2.2\n",
      "mkl-service                       2.4.0\n",
      "multidict                         6.0.2\n",
      "nbclassic                         0.5.5\n",
      "nbclient                          0.8.0\n",
      "nbconvert                         7.8.0\n",
      "nbformat                          5.7.0\n",
      "nest-asyncio                      1.5.6\n",
      "networkx                          3.1\n",
      "notebook                          6.5.4\n",
      "notebook_shim                     0.2.2\n",
      "numexpr                           2.8.4\n",
      "numpy                             1.23.5\n",
      "oauthlib                          3.2.1\n",
      "opt-einsum                        3.3.0\n",
      "packaging                         22.0\n",
      "pandas                            2.0.3\n",
      "pandocfilters                     1.5.0\n",
      "parso                             0.8.3\n",
      "pickleshare                       0.7.5\n",
      "Pillow                            10.0.0\n",
      "pip                               22.3.1\n",
      "platformdirs                      3.10.0\n",
      "pooch                             1.4.0\n",
      "prometheus-client                 0.14.1\n",
      "prompt-toolkit                    3.0.36\n",
      "protobuf                          3.17.2\n",
      "psutil                            5.9.0\n",
      "pure-eval                         0.2.2\n",
      "py4j                              0.10.9.7\n",
      "pyasn1                            0.4.8\n",
      "pyasn1-modules                    0.2.8\n",
      "pycparser                         2.21\n",
      "Pygments                          2.15.1\n",
      "PyJWT                             2.4.0\n",
      "pyOpenSSL                         22.0.0\n",
      "pyparsing                         3.0.9\n",
      "pyrsistent                        0.18.0\n",
      "PySocks                           1.7.1\n",
      "python-dateutil                   2.8.2\n",
      "pytz                              2022.7\n",
      "pywin32                           305.1\n",
      "pywinpty                          2.0.10\n",
      "PyYAML                            6.0\n",
      "pyzmq                             23.2.0\n",
      "requests                          2.28.1\n",
      "requests-oauthlib                 1.3.0\n",
      "rsa                               4.7.2\n",
      "scikit-learn                      1.3.0\n",
      "scipy                             1.10.0\n",
      "seaborn                           0.12.2\n",
      "Send2Trash                        1.8.0\n",
      "setuptools                        65.6.3\n",
      "six                               1.16.0\n",
      "sniffio                           1.2.0\n",
      "soupsieve                         2.5\n",
      "stack-data                        0.2.0\n",
      "tensorboard                       2.6.0\n",
      "tensorboard-data-server           0.6.1\n",
      "tensorboard-plugin-wit            1.8.1\n",
      "tensorflow                        2.6.0\n",
      "tensorflow-estimator              2.6.0\n",
      "termcolor                         2.1.0\n",
      "terminado                         0.17.1\n",
      "testpath                          0.6.0\n",
      "threadpoolctl                     2.2.0\n",
      "tinycss2                          1.2.1\n",
      "tornado                           6.3.2\n",
      "tqdm                              4.66.1\n",
      "traitlets                         5.7.1\n",
      "typing_extensions                 4.4.0\n",
      "tzdata                            2023.3\n",
      "urllib3                           1.26.14\n",
      "wcwidth                           0.2.5\n",
      "webencodings                      0.5.1\n",
      "websocket-client                  0.58.0\n",
      "Werkzeug                          2.2.2\n",
      "wheel                             0.35.1\n",
      "win-inet-pton                     1.1.0\n",
      "wincertstore                      0.2\n",
      "wrapt                             1.14.1\n",
      "xgboost                           1.7.6\n",
      "yarl                              1.8.1\n",
      "zipp                              3.11.0\n",
      "Note: you may need to restart the kernel to use updated packages.\n"
     ]
    }
   ],
   "source": [
    "pip list"
   ]
  },
  {
   "cell_type": "code",
   "execution_count": null,
   "id": "bad78a0f",
   "metadata": {},
   "outputs": [],
   "source": [
    "conda info"
   ]
  },
  {
   "cell_type": "markdown",
   "id": "7c0f799f",
   "metadata": {},
   "source": [
    "### Import a python library and print its version"
   ]
  },
  {
   "cell_type": "code",
   "execution_count": 3,
   "id": "cddc53cd",
   "metadata": {},
   "outputs": [
    {
     "name": "stdout",
     "output_type": "stream",
     "text": [
      "1.23.5\n"
     ]
    }
   ],
   "source": [
    "import pandas as pd\n",
    "import numpy as n\n",
    "print(n.__version__)"
   ]
  },
  {
   "cell_type": "markdown",
   "id": "1cf97fea",
   "metadata": {},
   "source": [
    "### Program in Programming Languages\n",
    "1. Program is a sequence of instructions written in a programming language to solve a specific Task.\n",
    "2. We can write .py programs or .ipynb notebooks\n",
    "3. O/P statement : print( )  , i/P statement input( )\n",
    "4. Variables in python :Python has no command for declaring a variable. It is created the moment you first assign a value to it.\n",
    "5. Operators and Functions: Performing processing of the given input. This processing depends on the input type."
   ]
  },
  {
   "cell_type": "markdown",
   "id": "3bccc0b1",
   "metadata": {},
   "source": [
    "### Built-in Datatypes in Python\n",
    "1. Text Type:  str\n",
    "2. Numeric Types:\tint, float, complex\n",
    "3. Sequence Types:\tlist, tuple, range\n",
    "4. Mapping Type:\tdict\n",
    "5. Set Types:\t        set, frozenset\n",
    "6. Boolean Type:\tbool\n",
    "7. Binary Types:\tbytes, bytearray, memoryview\n"
   ]
  },
  {
   "cell_type": "markdown",
   "id": "f9f0acdd",
   "metadata": {},
   "source": [
    "### Print Statement"
   ]
  },
  {
   "cell_type": "code",
   "execution_count": 4,
   "id": "5d8cf37d",
   "metadata": {},
   "outputs": [
    {
     "name": "stdout",
     "output_type": "stream",
     "text": [
      "Welcome to the second session in AI training Ali  mostafa\n"
     ]
    }
   ],
   "source": [
    "print (\"Welcome to the second session in AI training\" ,  \"Ali \" , \"mostafa\")"
   ]
  },
  {
   "cell_type": "markdown",
   "id": "4e17a2c2",
   "metadata": {},
   "source": [
    "### Concatenation in Print "
   ]
  },
  {
   "cell_type": "code",
   "execution_count": 5,
   "id": "abe8da04",
   "metadata": {},
   "outputs": [
    {
     "name": "stdout",
     "output_type": "stream",
     "text": [
      "Welcome to the second session in AI trainingAli \n"
     ]
    }
   ],
   "source": [
    "print (\"Welcome to the second session in AI training\" +  \"Ali \")"
   ]
  },
  {
   "cell_type": "markdown",
   "id": "ca693cc7",
   "metadata": {},
   "source": [
    "### Repeatting String"
   ]
  },
  {
   "cell_type": "code",
   "execution_count": 6,
   "id": "4132fa7f",
   "metadata": {},
   "outputs": [
    {
     "name": "stdout",
     "output_type": "stream",
     "text": [
      "Welcome to the second session in AI trainingWelcome to the second session in AI trainingWelcome to the second session in AI training\n"
     ]
    }
   ],
   "source": [
    "print (\"Welcome to the second session in AI training\" * 3)"
   ]
  },
  {
   "cell_type": "markdown",
   "id": "3ff5830a",
   "metadata": {},
   "source": [
    "### Declaring Scalary Variable"
   ]
  },
  {
   "cell_type": "code",
   "execution_count": 7,
   "id": "c7ac439d",
   "metadata": {},
   "outputs": [],
   "source": [
    "x=10"
   ]
  },
  {
   "cell_type": "code",
   "execution_count": 8,
   "id": "a70d2212",
   "metadata": {},
   "outputs": [
    {
     "name": "stdout",
     "output_type": "stream",
     "text": [
      "10\n"
     ]
    }
   ],
   "source": [
    "print(x)"
   ]
  },
  {
   "cell_type": "code",
   "execution_count": 9,
   "id": "b71eb4ed",
   "metadata": {},
   "outputs": [
    {
     "data": {
      "text/plain": [
       "int"
      ]
     },
     "execution_count": 9,
     "metadata": {},
     "output_type": "execute_result"
    }
   ],
   "source": [
    "type (x)"
   ]
  },
  {
   "cell_type": "code",
   "execution_count": 10,
   "id": "1437662e",
   "metadata": {},
   "outputs": [],
   "source": [
    "y=10.33"
   ]
  },
  {
   "cell_type": "code",
   "execution_count": 11,
   "id": "32be0d90",
   "metadata": {},
   "outputs": [
    {
     "data": {
      "text/plain": [
       "float"
      ]
     },
     "execution_count": 11,
     "metadata": {},
     "output_type": "execute_result"
    }
   ],
   "source": [
    "type(y)"
   ]
  },
  {
   "cell_type": "code",
   "execution_count": 12,
   "id": "2f73154c",
   "metadata": {},
   "outputs": [],
   "source": [
    "R= \"Ali\""
   ]
  },
  {
   "cell_type": "code",
   "execution_count": 13,
   "id": "acf6810a",
   "metadata": {},
   "outputs": [
    {
     "data": {
      "text/plain": [
       "str"
      ]
     },
     "execution_count": 13,
     "metadata": {},
     "output_type": "execute_result"
    }
   ],
   "source": [
    "type(R)"
   ]
  },
  {
   "cell_type": "code",
   "execution_count": 14,
   "id": "003d0cd2",
   "metadata": {},
   "outputs": [
    {
     "name": "stdout",
     "output_type": "stream",
     "text": [
      "10 10.33 Ali\n"
     ]
    }
   ],
   "source": [
    "print(x,y,R)"
   ]
  },
  {
   "cell_type": "code",
   "execution_count": 15,
   "id": "a42ba35a",
   "metadata": {},
   "outputs": [
    {
     "name": "stdout",
     "output_type": "stream",
     "text": [
      "20.33\n"
     ]
    }
   ],
   "source": [
    "print(x+y)"
   ]
  },
  {
   "cell_type": "code",
   "execution_count": 16,
   "id": "25461cc0",
   "metadata": {},
   "outputs": [
    {
     "name": "stdout",
     "output_type": "stream",
     "text": [
      "20.33 Ali\n"
     ]
    }
   ],
   "source": [
    "print(x+y, R)"
   ]
  },
  {
   "cell_type": "code",
   "execution_count": 17,
   "id": "ac987770",
   "metadata": {},
   "outputs": [],
   "source": [
    "A = 5j+3"
   ]
  },
  {
   "cell_type": "code",
   "execution_count": 18,
   "id": "96573e91",
   "metadata": {},
   "outputs": [
    {
     "data": {
      "text/plain": [
       "complex"
      ]
     },
     "execution_count": 18,
     "metadata": {},
     "output_type": "execute_result"
    }
   ],
   "source": [
    "type(A)"
   ]
  },
  {
   "cell_type": "markdown",
   "id": "ccc58a24",
   "metadata": {},
   "source": [
    "### There are four collection data types in the Python programming language:\n",
    "\n",
    "1. List is a collection which is unrdered and changeable. Allows duplicate members.\n",
    "2. Tuple is a collection which is unrdered and unchangeable. Allows duplicate members.\n",
    "3. Set is a collection which is ordered, unchangeable*, and unindexed. No duplicate members.\n",
    "4. Dictionary is a collection which is ordered** and changeable. No duplicate members."
   ]
  },
  {
   "cell_type": "markdown",
   "id": "23131e3e",
   "metadata": {},
   "source": [
    "### Lists"
   ]
  },
  {
   "cell_type": "code",
   "execution_count": 19,
   "id": "85b2f6b8",
   "metadata": {},
   "outputs": [],
   "source": [
    "List1= [50,20,30,40]  "
   ]
  },
  {
   "cell_type": "code",
   "execution_count": 20,
   "id": "60d6ee8f",
   "metadata": {},
   "outputs": [
    {
     "data": {
      "text/plain": [
       "[50, 20, 30, 40]"
      ]
     },
     "execution_count": 20,
     "metadata": {},
     "output_type": "execute_result"
    }
   ],
   "source": [
    "List1"
   ]
  },
  {
   "cell_type": "code",
   "execution_count": 21,
   "id": "72ec0104",
   "metadata": {},
   "outputs": [
    {
     "data": {
      "text/plain": [
       "list"
      ]
     },
     "execution_count": 21,
     "metadata": {},
     "output_type": "execute_result"
    }
   ],
   "source": [
    "type(List1)"
   ]
  },
  {
   "cell_type": "code",
   "execution_count": 22,
   "id": "5b42f32b",
   "metadata": {},
   "outputs": [],
   "source": [
    "List2=[10, \"A\",20, \"B\"]"
   ]
  },
  {
   "cell_type": "code",
   "execution_count": 23,
   "id": "f3e856d8",
   "metadata": {},
   "outputs": [
    {
     "data": {
      "text/plain": [
       "list"
      ]
     },
     "execution_count": 23,
     "metadata": {},
     "output_type": "execute_result"
    }
   ],
   "source": [
    "type(List2)"
   ]
  },
  {
   "cell_type": "markdown",
   "id": "8d290abd",
   "metadata": {},
   "source": [
    "### Opetaions between list\n",
    "Concatenation"
   ]
  },
  {
   "cell_type": "code",
   "execution_count": 24,
   "id": "f97cb97b",
   "metadata": {},
   "outputs": [
    {
     "data": {
      "text/plain": [
       "[50, 20, 30, 40, 10, 'A', 20, 'B']"
      ]
     },
     "execution_count": 24,
     "metadata": {},
     "output_type": "execute_result"
    }
   ],
   "source": [
    "List1+List2"
   ]
  },
  {
   "cell_type": "code",
   "execution_count": 25,
   "id": "d1a45739",
   "metadata": {},
   "outputs": [
    {
     "ename": "TypeError",
     "evalue": "unsupported operand type(s) for -: 'list' and 'list'",
     "output_type": "error",
     "traceback": [
      "\u001b[1;31m---------------------------------------------------------------------------\u001b[0m",
      "\u001b[1;31mTypeError\u001b[0m                                 Traceback (most recent call last)",
      "Cell \u001b[1;32mIn[25], line 1\u001b[0m\n\u001b[1;32m----> 1\u001b[0m \u001b[43mList1\u001b[49m\u001b[38;5;241;43m-\u001b[39;49m\u001b[43mList2\u001b[49m\n",
      "\u001b[1;31mTypeError\u001b[0m: unsupported operand type(s) for -: 'list' and 'list'"
     ]
    }
   ],
   "source": [
    "List1-List2"
   ]
  },
  {
   "cell_type": "markdown",
   "id": "8e0ff210",
   "metadata": {},
   "source": [
    "Extend a list by a list"
   ]
  },
  {
   "cell_type": "code",
   "execution_count": null,
   "id": "1c6e16a2",
   "metadata": {},
   "outputs": [],
   "source": [
    "List1.extend(List2)"
   ]
  },
  {
   "cell_type": "code",
   "execution_count": null,
   "id": "77bacaef",
   "metadata": {},
   "outputs": [],
   "source": [
    "List1"
   ]
  },
  {
   "cell_type": "code",
   "execution_count": null,
   "id": "cb64708c",
   "metadata": {},
   "outputs": [],
   "source": [
    "List3=[1,2,3,4]"
   ]
  },
  {
   "cell_type": "code",
   "execution_count": null,
   "id": "49e0da16",
   "metadata": {},
   "outputs": [],
   "source": [
    "List1"
   ]
  },
  {
   "cell_type": "code",
   "execution_count": null,
   "id": "1c7cde70",
   "metadata": {},
   "outputs": [],
   "source": [
    "List3"
   ]
  },
  {
   "cell_type": "markdown",
   "id": "b848a179",
   "metadata": {},
   "source": [
    "### Add Element to a list by value at the last index"
   ]
  },
  {
   "cell_type": "code",
   "execution_count": null,
   "id": "192c4879",
   "metadata": {},
   "outputs": [],
   "source": [
    "List1.append(5000)"
   ]
  },
  {
   "cell_type": "code",
   "execution_count": null,
   "id": "0b1b6b76",
   "metadata": {},
   "outputs": [],
   "source": [
    "List1"
   ]
  },
  {
   "cell_type": "markdown",
   "id": "3afbc03d",
   "metadata": {},
   "source": [
    "### Add Element to a list by index"
   ]
  },
  {
   "cell_type": "code",
   "execution_count": 26,
   "id": "bcb33def",
   "metadata": {},
   "outputs": [],
   "source": [
    "List1.insert(0,99)"
   ]
  },
  {
   "cell_type": "code",
   "execution_count": 27,
   "id": "d0f6da94",
   "metadata": {},
   "outputs": [
    {
     "data": {
      "text/plain": [
       "[99, 50, 20, 30, 40]"
      ]
     },
     "execution_count": 27,
     "metadata": {},
     "output_type": "execute_result"
    }
   ],
   "source": [
    "List1"
   ]
  },
  {
   "cell_type": "code",
   "execution_count": 28,
   "id": "f990a092",
   "metadata": {},
   "outputs": [],
   "source": [
    "List1.insert(1,9955)"
   ]
  },
  {
   "cell_type": "code",
   "execution_count": 29,
   "id": "98b9ac63",
   "metadata": {},
   "outputs": [
    {
     "data": {
      "text/plain": [
       "[99, 9955, 50, 20, 30, 40]"
      ]
     },
     "execution_count": 29,
     "metadata": {},
     "output_type": "execute_result"
    }
   ],
   "source": [
    "List1"
   ]
  },
  {
   "cell_type": "markdown",
   "id": "a26608c4",
   "metadata": {},
   "source": [
    "## Remove Element from a list by its value"
   ]
  },
  {
   "cell_type": "code",
   "execution_count": 30,
   "id": "513a92d4",
   "metadata": {},
   "outputs": [],
   "source": [
    "List1.remove(40)"
   ]
  },
  {
   "cell_type": "code",
   "execution_count": 31,
   "id": "1b26f1e6",
   "metadata": {},
   "outputs": [
    {
     "data": {
      "text/plain": [
       "[99, 9955, 50, 20, 30]"
      ]
     },
     "execution_count": 31,
     "metadata": {},
     "output_type": "execute_result"
    }
   ],
   "source": [
    "List1"
   ]
  },
  {
   "cell_type": "code",
   "execution_count": 32,
   "id": "65c67fe5",
   "metadata": {},
   "outputs": [
    {
     "data": {
      "text/plain": [
       "5"
      ]
     },
     "execution_count": 32,
     "metadata": {},
     "output_type": "execute_result"
    }
   ],
   "source": [
    "len(List1)"
   ]
  },
  {
   "cell_type": "markdown",
   "id": "dbb355ee",
   "metadata": {},
   "source": [
    "## Remove Element from a list by its index"
   ]
  },
  {
   "cell_type": "code",
   "execution_count": 33,
   "id": "bcb60576",
   "metadata": {},
   "outputs": [],
   "source": [
    "del(List1[1])"
   ]
  },
  {
   "cell_type": "code",
   "execution_count": 34,
   "id": "6c64ca1e",
   "metadata": {},
   "outputs": [
    {
     "data": {
      "text/plain": [
       "[99, 50, 20, 30]"
      ]
     },
     "execution_count": 34,
     "metadata": {},
     "output_type": "execute_result"
    }
   ],
   "source": [
    "List1"
   ]
  },
  {
   "cell_type": "markdown",
   "id": "2a69c37c",
   "metadata": {},
   "source": [
    "## Tuples"
   ]
  },
  {
   "cell_type": "code",
   "execution_count": 35,
   "id": "4c82a267",
   "metadata": {},
   "outputs": [],
   "source": [
    "Tuple = (\"apple\", \"banana\", \"cherry\")"
   ]
  },
  {
   "cell_type": "markdown",
   "id": "a304025c",
   "metadata": {},
   "source": [
    "Convert tuple to list for modification purpose"
   ]
  },
  {
   "cell_type": "code",
   "execution_count": 36,
   "id": "7b166181",
   "metadata": {},
   "outputs": [],
   "source": [
    "Tuple = list(Tuple)"
   ]
  },
  {
   "cell_type": "code",
   "execution_count": 37,
   "id": "16c6b70b",
   "metadata": {},
   "outputs": [
    {
     "data": {
      "text/plain": [
       "['apple', 'banana', 'cherry']"
      ]
     },
     "execution_count": 37,
     "metadata": {},
     "output_type": "execute_result"
    }
   ],
   "source": [
    "Tuple"
   ]
  },
  {
   "cell_type": "code",
   "execution_count": 38,
   "id": "c34cbc56",
   "metadata": {},
   "outputs": [],
   "source": [
    "Tuple.append(\"Ali\")"
   ]
  },
  {
   "cell_type": "code",
   "execution_count": 39,
   "id": "fa75b852",
   "metadata": {},
   "outputs": [
    {
     "data": {
      "text/plain": [
       "['apple', 'banana', 'cherry', 'Ali']"
      ]
     },
     "execution_count": 39,
     "metadata": {},
     "output_type": "execute_result"
    }
   ],
   "source": [
    "Tuple"
   ]
  },
  {
   "cell_type": "markdown",
   "id": "575b6dcb",
   "metadata": {},
   "source": [
    "Convert list to tuple for modification purpose"
   ]
  },
  {
   "cell_type": "code",
   "execution_count": 40,
   "id": "e66a7c2c",
   "metadata": {},
   "outputs": [],
   "source": [
    "Tuple= tuple(Tuple)"
   ]
  },
  {
   "cell_type": "code",
   "execution_count": 41,
   "id": "860fbfbe",
   "metadata": {},
   "outputs": [
    {
     "data": {
      "text/plain": [
       "('apple', 'banana', 'cherry', 'Ali')"
      ]
     },
     "execution_count": 41,
     "metadata": {},
     "output_type": "execute_result"
    }
   ],
   "source": [
    "Tuple"
   ]
  },
  {
   "cell_type": "markdown",
   "id": "1ae9a2c7",
   "metadata": {},
   "source": [
    "###  sets (No repetition , arranged)"
   ]
  },
  {
   "cell_type": "code",
   "execution_count": 42,
   "id": "9050c910",
   "metadata": {},
   "outputs": [],
   "source": [
    "set = {3,3,3,1,2,7}"
   ]
  },
  {
   "cell_type": "code",
   "execution_count": 43,
   "id": "4542e215",
   "metadata": {},
   "outputs": [
    {
     "data": {
      "text/plain": [
       "set"
      ]
     },
     "execution_count": 43,
     "metadata": {},
     "output_type": "execute_result"
    }
   ],
   "source": [
    "type(set)"
   ]
  },
  {
   "cell_type": "code",
   "execution_count": 44,
   "id": "61291a7d",
   "metadata": {},
   "outputs": [
    {
     "data": {
      "text/plain": [
       "{1, 2, 3, 7}"
      ]
     },
     "execution_count": 44,
     "metadata": {},
     "output_type": "execute_result"
    }
   ],
   "source": [
    "set"
   ]
  },
  {
   "cell_type": "code",
   "execution_count": 45,
   "id": "fe96cd97",
   "metadata": {},
   "outputs": [],
   "source": [
    "List5=[10,10,50,50,50]"
   ]
  },
  {
   "cell_type": "code",
   "execution_count": 46,
   "id": "7c58ab2a",
   "metadata": {},
   "outputs": [
    {
     "data": {
      "text/plain": [
       "[10, 10, 50, 50, 50]"
      ]
     },
     "execution_count": 46,
     "metadata": {},
     "output_type": "execute_result"
    }
   ],
   "source": [
    "List5"
   ]
  },
  {
   "cell_type": "code",
   "execution_count": 47,
   "id": "6cb8776c",
   "metadata": {},
   "outputs": [],
   "source": [
    "set = {1,2,3,3,3}"
   ]
  },
  {
   "cell_type": "code",
   "execution_count": 48,
   "id": "bf04884a",
   "metadata": {},
   "outputs": [
    {
     "data": {
      "text/plain": [
       "{1, 2, 3}"
      ]
     },
     "execution_count": 48,
     "metadata": {},
     "output_type": "execute_result"
    }
   ],
   "source": [
    "set"
   ]
  },
  {
   "cell_type": "code",
   "execution_count": 49,
   "id": "0d9a477f",
   "metadata": {},
   "outputs": [],
   "source": [
    "set={10,10,10,10}"
   ]
  },
  {
   "cell_type": "code",
   "execution_count": 50,
   "id": "8dcbe57d",
   "metadata": {},
   "outputs": [
    {
     "data": {
      "text/plain": [
       "{10}"
      ]
     },
     "execution_count": 50,
     "metadata": {},
     "output_type": "execute_result"
    }
   ],
   "source": [
    "set"
   ]
  },
  {
   "cell_type": "code",
   "execution_count": 51,
   "id": "1ed09c06",
   "metadata": {},
   "outputs": [],
   "source": [
    "set={\"Ali\",\"Ali\",\"Ahmed\"}"
   ]
  },
  {
   "cell_type": "code",
   "execution_count": 52,
   "id": "bfd476b9",
   "metadata": {},
   "outputs": [
    {
     "data": {
      "text/plain": [
       "{'Ahmed', 'Ali'}"
      ]
     },
     "execution_count": 52,
     "metadata": {},
     "output_type": "execute_result"
    }
   ],
   "source": [
    "set"
   ]
  },
  {
   "cell_type": "code",
   "execution_count": 53,
   "id": "0b19ac8f",
   "metadata": {},
   "outputs": [],
   "source": [
    "set={\"B\",\"A\",\"C\"}"
   ]
  },
  {
   "cell_type": "code",
   "execution_count": 54,
   "id": "b2e501a0",
   "metadata": {},
   "outputs": [
    {
     "data": {
      "text/plain": [
       "{'A', 'B', 'C'}"
      ]
     },
     "execution_count": 54,
     "metadata": {},
     "output_type": "execute_result"
    }
   ],
   "source": [
    "set"
   ]
  },
  {
   "cell_type": "code",
   "execution_count": 55,
   "id": "208b9557",
   "metadata": {},
   "outputs": [],
   "source": [
    "set.add(\"K\")"
   ]
  },
  {
   "cell_type": "code",
   "execution_count": 56,
   "id": "017a4589",
   "metadata": {},
   "outputs": [
    {
     "data": {
      "text/plain": [
       "{'A', 'B', 'C', 'K'}"
      ]
     },
     "execution_count": 56,
     "metadata": {},
     "output_type": "execute_result"
    }
   ],
   "source": [
    "set"
   ]
  },
  {
   "cell_type": "code",
   "execution_count": 57,
   "id": "7b0d2952",
   "metadata": {},
   "outputs": [
    {
     "name": "stdout",
     "output_type": "stream",
     "text": [
      "{'C', 'B', 'A', 'K'}\n"
     ]
    }
   ],
   "source": [
    "print(set)"
   ]
  },
  {
   "cell_type": "markdown",
   "id": "b361aee8",
   "metadata": {},
   "source": [
    "### Dictionaries"
   ]
  },
  {
   "cell_type": "code",
   "execution_count": 58,
   "id": "b29de4dd",
   "metadata": {},
   "outputs": [],
   "source": [
    "cars = {\n",
    "  \"brand\": \"Ford\",\n",
    "  \"electric\": False,\n",
    "  \"year\": 2005,\n",
    "  \"colors\": [\"red\", \"white\", \"blue\"]\n",
    "}\n"
   ]
  },
  {
   "cell_type": "code",
   "execution_count": 59,
   "id": "a2502191",
   "metadata": {},
   "outputs": [
    {
     "data": {
      "text/plain": [
       "{'brand': 'Ford',\n",
       " 'electric': False,\n",
       " 'year': 2005,\n",
       " 'colors': ['red', 'white', 'blue']}"
      ]
     },
     "execution_count": 59,
     "metadata": {},
     "output_type": "execute_result"
    }
   ],
   "source": [
    "cars"
   ]
  },
  {
   "cell_type": "code",
   "execution_count": 60,
   "id": "42cfd9bf",
   "metadata": {},
   "outputs": [
    {
     "name": "stdout",
     "output_type": "stream",
     "text": [
      "{'brand': 'Ford', 'electric': False, 'year': 2005, 'colors': ['red', 'white', 'blue']}\n"
     ]
    }
   ],
   "source": [
    "print(cars)"
   ]
  },
  {
   "cell_type": "code",
   "execution_count": 61,
   "id": "7308d517",
   "metadata": {},
   "outputs": [
    {
     "name": "stdout",
     "output_type": "stream",
     "text": [
      "Ford ['red', 'white', 'blue']\n"
     ]
    }
   ],
   "source": [
    "print(cars[\"brand\"] , cars [\"colors\"])"
   ]
  },
  {
   "cell_type": "code",
   "execution_count": 62,
   "id": "c68bdcb9",
   "metadata": {},
   "outputs": [],
   "source": [
    "set1 ={5, 40 , 8}"
   ]
  },
  {
   "cell_type": "code",
   "execution_count": 63,
   "id": "3861ec95",
   "metadata": {},
   "outputs": [
    {
     "data": {
      "text/plain": [
       "{5, 8, 40}"
      ]
     },
     "execution_count": 63,
     "metadata": {},
     "output_type": "execute_result"
    }
   ],
   "source": [
    "set1"
   ]
  },
  {
   "cell_type": "code",
   "execution_count": 64,
   "id": "0bd906e2",
   "metadata": {},
   "outputs": [],
   "source": [
    "set1={\"A\", \"a\",\"B\"}"
   ]
  },
  {
   "cell_type": "code",
   "execution_count": 65,
   "id": "58514943",
   "metadata": {},
   "outputs": [
    {
     "data": {
      "text/plain": [
       "{'A', 'B', 'a'}"
      ]
     },
     "execution_count": 65,
     "metadata": {},
     "output_type": "execute_result"
    }
   ],
   "source": [
    "set1"
   ]
  },
  {
   "cell_type": "code",
   "execution_count": 66,
   "id": "c14e6470",
   "metadata": {},
   "outputs": [],
   "source": [
    "cars1 = {\n",
    "  \"brand\": \"Toyota\",\n",
    "  \"electric\": False,\n",
    "  \"year\": 2005,\n",
    "  \"colors\": (\"red\", \"white\", \"blue\") \n",
    "}\n"
   ]
  },
  {
   "cell_type": "code",
   "execution_count": 67,
   "id": "cb8244f6",
   "metadata": {},
   "outputs": [
    {
     "data": {
      "text/plain": [
       "{'brand': 'Toyota',\n",
       " 'electric': False,\n",
       " 'year': 2005,\n",
       " 'colors': ('red', 'white', 'blue')}"
      ]
     },
     "execution_count": 67,
     "metadata": {},
     "output_type": "execute_result"
    }
   ],
   "source": [
    "cars1"
   ]
  },
  {
   "cell_type": "code",
   "execution_count": 68,
   "id": "e1f7377d",
   "metadata": {},
   "outputs": [
    {
     "name": "stdout",
     "output_type": "stream",
     "text": [
      "['red', 'white', 'blue']\n"
     ]
    }
   ],
   "source": [
    "print(cars[\"colors\"])"
   ]
  },
  {
   "cell_type": "code",
   "execution_count": 69,
   "id": "06107889",
   "metadata": {},
   "outputs": [
    {
     "data": {
      "text/plain": [
       "4"
      ]
     },
     "execution_count": 69,
     "metadata": {},
     "output_type": "execute_result"
    }
   ],
   "source": [
    "len(List1)"
   ]
  },
  {
   "cell_type": "code",
   "execution_count": 70,
   "id": "8af6a1f1",
   "metadata": {},
   "outputs": [
    {
     "data": {
      "text/plain": [
       "4"
      ]
     },
     "execution_count": 70,
     "metadata": {},
     "output_type": "execute_result"
    }
   ],
   "source": [
    "len(Tuple)"
   ]
  },
  {
   "cell_type": "code",
   "execution_count": 71,
   "id": "89f63d1a",
   "metadata": {},
   "outputs": [
    {
     "data": {
      "text/plain": [
       "4"
      ]
     },
     "execution_count": 71,
     "metadata": {},
     "output_type": "execute_result"
    }
   ],
   "source": [
    "len(set)"
   ]
  },
  {
   "cell_type": "code",
   "execution_count": 72,
   "id": "ea8d2be4",
   "metadata": {},
   "outputs": [
    {
     "data": {
      "text/plain": [
       "4"
      ]
     },
     "execution_count": 72,
     "metadata": {},
     "output_type": "execute_result"
    }
   ],
   "source": [
    "len(cars1)"
   ]
  },
  {
   "cell_type": "markdown",
   "id": "194af180",
   "metadata": {},
   "source": [
    "### Operators \n",
    "Symbolic operations that has no libraries (+ - * / %)"
   ]
  },
  {
   "cell_type": "code",
   "execution_count": 73,
   "id": "fb1047e2",
   "metadata": {},
   "outputs": [],
   "source": [
    "x,y=10,20"
   ]
  },
  {
   "cell_type": "code",
   "execution_count": 74,
   "id": "316af465",
   "metadata": {},
   "outputs": [
    {
     "name": "stdout",
     "output_type": "stream",
     "text": [
      "30\n",
      "-10\n",
      "200\n",
      "0.5\n",
      "10\n"
     ]
    }
   ],
   "source": [
    "print(x+y)\n",
    "print(x-y)\n",
    "print(x*y)\n",
    "print(x/y)\n",
    "print(x%y)"
   ]
  },
  {
   "cell_type": "code",
   "execution_count": 75,
   "id": "66c6a082",
   "metadata": {},
   "outputs": [
    {
     "name": "stdout",
     "output_type": "stream",
     "text": [
      "125\n"
     ]
    }
   ],
   "source": [
    "x,y=5,3\n",
    "print(x**y)"
   ]
  },
  {
   "cell_type": "code",
   "execution_count": 77,
   "id": "c1737642",
   "metadata": {},
   "outputs": [
    {
     "name": "stdout",
     "output_type": "stream",
     "text": [
      "1\n"
     ]
    }
   ],
   "source": [
    "print(x//y)"
   ]
  },
  {
   "cell_type": "code",
   "execution_count": 78,
   "id": "688ce03d",
   "metadata": {},
   "outputs": [
    {
     "name": "stdout",
     "output_type": "stream",
     "text": [
      "1.6666666666666667\n"
     ]
    }
   ],
   "source": [
    "print(x/y)"
   ]
  },
  {
   "cell_type": "code",
   "execution_count": 79,
   "id": "33f8051d",
   "metadata": {},
   "outputs": [
    {
     "name": "stdout",
     "output_type": "stream",
     "text": [
      "1\n"
     ]
    }
   ],
   "source": [
    "print(x//y)"
   ]
  },
  {
   "cell_type": "code",
   "execution_count": 80,
   "id": "99bdbe1b",
   "metadata": {},
   "outputs": [],
   "source": [
    "x+=3"
   ]
  },
  {
   "cell_type": "code",
   "execution_count": 81,
   "id": "f4cd16dc",
   "metadata": {},
   "outputs": [
    {
     "data": {
      "text/plain": [
       "8"
      ]
     },
     "execution_count": 81,
     "metadata": {},
     "output_type": "execute_result"
    }
   ],
   "source": [
    "x"
   ]
  },
  {
   "cell_type": "code",
   "execution_count": 82,
   "id": "6bf95fd5",
   "metadata": {},
   "outputs": [],
   "source": [
    "x*=2"
   ]
  },
  {
   "cell_type": "code",
   "execution_count": 83,
   "id": "30eae273",
   "metadata": {},
   "outputs": [
    {
     "data": {
      "text/plain": [
       "16"
      ]
     },
     "execution_count": 83,
     "metadata": {},
     "output_type": "execute_result"
    }
   ],
   "source": [
    "x"
   ]
  },
  {
   "cell_type": "code",
   "execution_count": 84,
   "id": "f0720f96",
   "metadata": {},
   "outputs": [
    {
     "data": {
      "text/plain": [
       "True"
      ]
     },
     "execution_count": 84,
     "metadata": {},
     "output_type": "execute_result"
    }
   ],
   "source": [
    "x>y"
   ]
  },
  {
   "cell_type": "code",
   "execution_count": 85,
   "id": "25e6f4b8",
   "metadata": {},
   "outputs": [
    {
     "data": {
      "text/plain": [
       "False"
      ]
     },
     "execution_count": 85,
     "metadata": {},
     "output_type": "execute_result"
    }
   ],
   "source": [
    "x<y"
   ]
  },
  {
   "cell_type": "code",
   "execution_count": 86,
   "id": "02fb6d43",
   "metadata": {},
   "outputs": [
    {
     "data": {
      "text/plain": [
       "False"
      ]
     },
     "execution_count": 86,
     "metadata": {},
     "output_type": "execute_result"
    }
   ],
   "source": [
    "x==y"
   ]
  },
  {
   "cell_type": "code",
   "execution_count": 87,
   "id": "3c306aa6",
   "metadata": {},
   "outputs": [],
   "source": [
    "x=y"
   ]
  },
  {
   "cell_type": "code",
   "execution_count": 88,
   "id": "661343c5",
   "metadata": {},
   "outputs": [
    {
     "data": {
      "text/plain": [
       "3"
      ]
     },
     "execution_count": 88,
     "metadata": {},
     "output_type": "execute_result"
    }
   ],
   "source": [
    "x"
   ]
  },
  {
   "cell_type": "code",
   "execution_count": 89,
   "id": "6a22036d",
   "metadata": {},
   "outputs": [
    {
     "data": {
      "text/plain": [
       "3"
      ]
     },
     "execution_count": 89,
     "metadata": {},
     "output_type": "execute_result"
    }
   ],
   "source": [
    "y"
   ]
  },
  {
   "cell_type": "code",
   "execution_count": 90,
   "id": "8dfaa4ad",
   "metadata": {},
   "outputs": [
    {
     "data": {
      "text/plain": [
       "True"
      ]
     },
     "execution_count": 90,
     "metadata": {},
     "output_type": "execute_result"
    }
   ],
   "source": [
    "x==y"
   ]
  },
  {
   "cell_type": "code",
   "execution_count": 91,
   "id": "d3d79515",
   "metadata": {},
   "outputs": [
    {
     "data": {
      "text/plain": [
       "False"
      ]
     },
     "execution_count": 91,
     "metadata": {},
     "output_type": "execute_result"
    }
   ],
   "source": [
    "x>y  and  x>5"
   ]
  },
  {
   "cell_type": "code",
   "execution_count": 92,
   "id": "b08876d0",
   "metadata": {},
   "outputs": [
    {
     "data": {
      "text/plain": [
       "False"
      ]
     },
     "execution_count": 92,
     "metadata": {},
     "output_type": "execute_result"
    }
   ],
   "source": [
    "x>y  or  x>5"
   ]
  },
  {
   "cell_type": "code",
   "execution_count": 93,
   "id": "e6c57636",
   "metadata": {},
   "outputs": [],
   "source": [
    "x=10"
   ]
  },
  {
   "cell_type": "code",
   "execution_count": 94,
   "id": "7dbb43da",
   "metadata": {},
   "outputs": [
    {
     "data": {
      "text/plain": [
       "True"
      ]
     },
     "execution_count": 94,
     "metadata": {},
     "output_type": "execute_result"
    }
   ],
   "source": [
    "x>y  and  x>5"
   ]
  },
  {
   "cell_type": "code",
   "execution_count": 95,
   "id": "7ddafa51",
   "metadata": {},
   "outputs": [
    {
     "data": {
      "text/plain": [
       "False"
      ]
     },
     "execution_count": 95,
     "metadata": {},
     "output_type": "execute_result"
    }
   ],
   "source": [
    "not x>y"
   ]
  },
  {
   "cell_type": "code",
   "execution_count": 96,
   "id": "49eeb64d",
   "metadata": {},
   "outputs": [
    {
     "data": {
      "text/plain": [
       "False"
      ]
     },
     "execution_count": 96,
     "metadata": {},
     "output_type": "execute_result"
    }
   ],
   "source": [
    "x is y"
   ]
  },
  {
   "cell_type": "code",
   "execution_count": 97,
   "id": "d341c6b8",
   "metadata": {},
   "outputs": [
    {
     "data": {
      "text/plain": [
       "10"
      ]
     },
     "execution_count": 97,
     "metadata": {},
     "output_type": "execute_result"
    }
   ],
   "source": [
    "x"
   ]
  },
  {
   "cell_type": "code",
   "execution_count": 98,
   "id": "c4cdd593",
   "metadata": {},
   "outputs": [
    {
     "data": {
      "text/plain": [
       "3"
      ]
     },
     "execution_count": 98,
     "metadata": {},
     "output_type": "execute_result"
    }
   ],
   "source": [
    "y"
   ]
  },
  {
   "cell_type": "markdown",
   "id": "89a0b93c",
   "metadata": {},
   "source": [
    "### Control Structures in python\n",
    "1. if statement\n",
    "2. loops"
   ]
  },
  {
   "cell_type": "code",
   "execution_count": 101,
   "id": "b739fa78",
   "metadata": {},
   "outputs": [
    {
     "name": "stdout",
     "output_type": "stream",
     "text": [
      "10\n"
     ]
    }
   ],
   "source": [
    "if (x>y):   print(x)"
   ]
  },
  {
   "cell_type": "code",
   "execution_count": 102,
   "id": "40cf7ea8",
   "metadata": {},
   "outputs": [],
   "source": [
    "x=2"
   ]
  },
  {
   "cell_type": "code",
   "execution_count": 104,
   "id": "b135b72a",
   "metadata": {},
   "outputs": [],
   "source": [
    "if (x>y):\n",
    "    print(x)"
   ]
  },
  {
   "cell_type": "code",
   "execution_count": 105,
   "id": "2d4243aa",
   "metadata": {},
   "outputs": [
    {
     "name": "stdout",
     "output_type": "stream",
     "text": [
      "4\n"
     ]
    }
   ],
   "source": [
    "if (x>y):\n",
    "    print(x)\n",
    "else : print (x*2)"
   ]
  },
  {
   "cell_type": "code",
   "execution_count": 106,
   "id": "f289a0b5",
   "metadata": {},
   "outputs": [
    {
     "name": "stdout",
     "output_type": "stream",
     "text": [
      "2\n"
     ]
    }
   ],
   "source": [
    "if (x>1):\n",
    "    print(x)\n",
    "elif (x>3):\n",
    "    print(x+3)\n",
    "elif (x>50):\n",
    "    print(x+50)"
   ]
  },
  {
   "cell_type": "code",
   "execution_count": 107,
   "id": "9236e5c7",
   "metadata": {},
   "outputs": [],
   "source": [
    "x=90"
   ]
  },
  {
   "cell_type": "code",
   "execution_count": 108,
   "id": "c3b6b5c4",
   "metadata": {},
   "outputs": [
    {
     "name": "stdout",
     "output_type": "stream",
     "text": [
      "93\n"
     ]
    }
   ],
   "source": [
    "if (x>1 and x<10):\n",
    "    print(x)\n",
    "elif (x>3):\n",
    "    print(x+3)\n",
    "elif (x>50):\n",
    "    print(x+50)"
   ]
  },
  {
   "cell_type": "code",
   "execution_count": 109,
   "id": "49e011f5",
   "metadata": {},
   "outputs": [],
   "source": [
    "x,y,z=10,20,30"
   ]
  },
  {
   "cell_type": "code",
   "execution_count": 112,
   "id": "775bfbfd",
   "metadata": {},
   "outputs": [
    {
     "name": "stdout",
     "output_type": "stream",
     "text": [
      "max is: 30\n"
     ]
    }
   ],
   "source": [
    "if (x>y and x<z) : print( \"max is:\", x)\n",
    "elif (y>x and y>z) :  print( \"max is:\", y)\n",
    "else : print( \"max is:\", z)"
   ]
  },
  {
   "cell_type": "code",
   "execution_count": 116,
   "id": "3f7da77f",
   "metadata": {},
   "outputs": [
    {
     "name": "stdout",
     "output_type": "stream",
     "text": [
      "20\n",
      "24\n",
      "28\n",
      "32\n",
      "36\n"
     ]
    }
   ],
   "source": [
    "for i in range (10,20,2) :\n",
    "    print (i*2)"
   ]
  },
  {
   "cell_type": "code",
   "execution_count": 117,
   "id": "19553c1e",
   "metadata": {},
   "outputs": [
    {
     "name": "stdout",
     "output_type": "stream",
     "text": [
      "120\n"
     ]
    }
   ],
   "source": [
    "n=5\n",
    "fact =1\n",
    "for i  in range (1,n+1):\n",
    "    fact=fact*i\n",
    "print (fact)"
   ]
  },
  {
   "cell_type": "code",
   "execution_count": 119,
   "id": "424342f6",
   "metadata": {},
   "outputs": [
    {
     "name": "stdout",
     "output_type": "stream",
     "text": [
      "120\n"
     ]
    }
   ],
   "source": [
    "n=5\n",
    "fact =1\n",
    "i=1\n",
    "while (i<=n):\n",
    "    fact=fact*i\n",
    "    i+=1\n",
    "print (fact)"
   ]
  },
  {
   "cell_type": "markdown",
   "id": "3f84d28a",
   "metadata": {},
   "source": [
    "### Find The minimum among Three number"
   ]
  },
  {
   "cell_type": "code",
   "execution_count": null,
   "id": "1d1d6d90",
   "metadata": {},
   "outputs": [],
   "source": [
    "x,y,z = 5,14,2\n",
    "if   (x<=y and x<=z) :\n",
    "    print(\"min value is:\", x)\n",
    "elif (y<x and y<z): \n",
    "    print(\"min value is:\", y)\n",
    "else : \n",
    "    print(\"min value is:\", z)\n"
   ]
  },
  {
   "cell_type": "markdown",
   "id": "130493bc",
   "metadata": {},
   "source": [
    "### Write the following python programs \n",
    "1. a program that searches for a given in name in a list of students names and determines whether this name exists or not.\n",
    "2. a program that finds the frequency of a given name in a list of students names.\n",
    "3. a program that finds the number of even numbers in a given list of numbers."
   ]
  },
  {
   "cell_type": "code",
   "execution_count": 123,
   "id": "22eff02b",
   "metadata": {},
   "outputs": [
    {
     "name": "stdout",
     "output_type": "stream",
     "text": [
      "The Data Found at: 6\n"
     ]
    }
   ],
   "source": [
    "#The linear Search (The searched name is the last one)\n",
    "x=(\"Ali\", \"Alaa\", \"Mostafa\", \"Alaa\", \"Mahmoud\",\"Alaa\")\n",
    "y=\"Alaa\"\n",
    "index =-1\n",
    "for i in range (0,len(x)):  \n",
    "    if x[i]==y: index=i\n",
    "if index ==-1 : print(\"The Data not found\")\n",
    "else: print(\"The Data Found at:\", index+1)"
   ]
  },
  {
   "cell_type": "code",
   "execution_count": 124,
   "id": "64fe33e4",
   "metadata": {},
   "outputs": [
    {
     "name": "stdout",
     "output_type": "stream",
     "text": [
      "The Data Found at: 2\n"
     ]
    }
   ],
   "source": [
    "#The linear Search (The searched name is the first one)\n",
    "x=(\"Ali\", \"alaa\", \"Mostafa\", \"alaa\", \"Mahmoud\",\"alaa\")\n",
    "y=\"ALAA\"\n",
    "index =-1\n",
    "for i in range (0,len(x)):  \n",
    "    if x[i].lower()==y.lower(): \n",
    "        index=i\n",
    "        break\n",
    "if index ==-1 : print(\"The Data not found\")\n",
    "else: print(\"The Data Found at:\", index+1)"
   ]
  },
  {
   "cell_type": "code",
   "execution_count": 125,
   "id": "705dcea5",
   "metadata": {},
   "outputs": [
    {
     "name": "stdout",
     "output_type": "stream",
     "text": [
      "The Word is Repeated: 3\n"
     ]
    }
   ],
   "source": [
    "#word Frequency\n",
    "x=(\"Ali\", \"Alaa\", \"Mostafa\", \"Alaa\", \"Mahmoud\",\"Alaa\")\n",
    "y=\"Alaa\"\n",
    "counter=0\n",
    "for i in range (0,len(x)):  \n",
    "    if x[i]==y :counter=counter+1\n",
    "print(\"The Word is Repeated:\", counter)"
   ]
  },
  {
   "cell_type": "code",
   "execution_count": 126,
   "id": "9fbcf316",
   "metadata": {},
   "outputs": [
    {
     "name": "stdout",
     "output_type": "stream",
     "text": [
      "The Sum is:  335\n",
      "The Average is:  55.833333333333336\n"
     ]
    }
   ],
   "source": [
    "#Sum of all numbers\n",
    "x=(10,22,55,97,81,70)\n",
    "sum=0\n",
    "for i in x:\n",
    "    sum+=i\n",
    "print (\"The Sum is: \", sum)\n",
    "print(\"The Average is: \", sum/len(x) )"
   ]
  },
  {
   "cell_type": "code",
   "execution_count": 128,
   "id": "d72abf93",
   "metadata": {},
   "outputs": [
    {
     "name": "stdout",
     "output_type": "stream",
     "text": [
      "The Sum is:  100\n",
      "The count of even numbers is:  3\n",
      "The Average is:  33.333333333333336\n"
     ]
    }
   ],
   "source": [
    "#Sum and count of all even numbers\n",
    "x=(10,20,55,97,81,70)\n",
    "sum=0\n",
    "counter_of_even_numbers=0\n",
    "for i in x:\n",
    "    if i%2==0:  \n",
    "        sum+=i\n",
    "        counter_of_even_numbers=counter_of_even_numbers+1\n",
    "print (\"The Sum is: \", sum)\n",
    "print (\"The count of even numbers is: \", counter_of_even_numbers)\n",
    "print(\"The Average is: \", sum/counter_of_even_numbers )"
   ]
  },
  {
   "cell_type": "code",
   "execution_count": 129,
   "id": "1c02a04e",
   "metadata": {},
   "outputs": [
    {
     "name": "stdout",
     "output_type": "stream",
     "text": [
      "The Sum is:  233\n",
      "The count of even numbers is:  3\n",
      "The Average is:  77.66666666666667\n"
     ]
    }
   ],
   "source": [
    "#Sum and count of all odd numbers\n",
    "x=(10,20,55,97,81,70)\n",
    "sum=0\n",
    "counter_of_odd_numbers=0\n",
    "for i in x:\n",
    "     if i%2!=0:  \n",
    "        sum+=i\n",
    "        counter_of_odd_numbers=counter_of_odd_numbers+1\n",
    "print (\"The Sum is: \", sum)\n",
    "print (\"The count of even numbers is: \", counter_of_odd_numbers)\n",
    "print(\"The Average is: \", sum/counter_of_odd_numbers )"
   ]
  },
  {
   "cell_type": "markdown",
   "id": "98a38b0f",
   "metadata": {},
   "source": [
    "### Function in python"
   ]
  },
  {
   "cell_type": "code",
   "execution_count": 1,
   "id": "854f4000",
   "metadata": {},
   "outputs": [],
   "source": [
    "# function definition\n",
    "def sum (x,y):       \n",
    "    return x-y , x+y  , x*y"
   ]
  },
  {
   "cell_type": "code",
   "execution_count": 5,
   "id": "588dd9bd",
   "metadata": {},
   "outputs": [
    {
     "data": {
      "text/plain": [
       "(-1, 11, 30)"
      ]
     },
     "execution_count": 5,
     "metadata": {},
     "output_type": "execute_result"
    }
   ],
   "source": [
    "sum(5,6)"
   ]
  },
  {
   "cell_type": "code",
   "execution_count": 6,
   "id": "be4248b0",
   "metadata": {},
   "outputs": [],
   "source": [
    "# function call\n",
    "a,b,c= sum(5,6)"
   ]
  },
  {
   "cell_type": "code",
   "execution_count": 7,
   "id": "c88a691a",
   "metadata": {},
   "outputs": [
    {
     "data": {
      "text/plain": [
       "(-1, 11, 30)"
      ]
     },
     "execution_count": 7,
     "metadata": {},
     "output_type": "execute_result"
    }
   ],
   "source": [
    "a ,b, c"
   ]
  },
  {
   "cell_type": "code",
   "execution_count": 8,
   "id": "68345f31",
   "metadata": {},
   "outputs": [
    {
     "name": "stdout",
     "output_type": "stream",
     "text": [
      "sum= (-1, 11, 30)\n"
     ]
    }
   ],
   "source": [
    "# function call by passing it as a parameter to another function\n",
    "print(\"sum=\",sum(5,6))"
   ]
  },
  {
   "cell_type": "code",
   "execution_count": 9,
   "id": "2e559622",
   "metadata": {},
   "outputs": [
    {
     "name": "stdout",
     "output_type": "stream",
     "text": [
      "-1 11 30\n"
     ]
    }
   ],
   "source": [
    "# function call as a  part of an expression\n",
    "a,b,c=sum(5,6)\n",
    "print(a,b,c)"
   ]
  },
  {
   "cell_type": "markdown",
   "id": "65ebbe08",
   "metadata": {},
   "source": [
    "### Function returns more than a value"
   ]
  },
  {
   "cell_type": "code",
   "execution_count": 10,
   "id": "d3981172",
   "metadata": {},
   "outputs": [],
   "source": [
    "def sum_sub (x,y):       \n",
    "    return x+y, x-y"
   ]
  },
  {
   "cell_type": "code",
   "execution_count": 11,
   "id": "ea5833c9",
   "metadata": {},
   "outputs": [
    {
     "data": {
      "text/plain": [
       "(11, -1)"
      ]
     },
     "execution_count": 11,
     "metadata": {},
     "output_type": "execute_result"
    }
   ],
   "source": [
    "sum_sub(5,6)"
   ]
  },
  {
   "cell_type": "code",
   "execution_count": 12,
   "id": "7bc458c2",
   "metadata": {},
   "outputs": [
    {
     "name": "stdout",
     "output_type": "stream",
     "text": [
      "11 -1\n"
     ]
    }
   ],
   "source": [
    "add,sub=sum_sub(5,6)\n",
    "print(add, sub)"
   ]
  },
  {
   "cell_type": "code",
   "execution_count": 13,
   "id": "24e552ad",
   "metadata": {},
   "outputs": [],
   "source": [
    "def get_max_value (x, y, z):\n",
    "    if x>=y and x>=z: return x\n",
    "    elif  y>x and y>z: return y\n",
    "    else: return z"
   ]
  },
  {
   "cell_type": "code",
   "execution_count": 14,
   "id": "4d6e941a",
   "metadata": {},
   "outputs": [
    {
     "data": {
      "text/plain": [
       "8"
      ]
     },
     "execution_count": 14,
     "metadata": {},
     "output_type": "execute_result"
    }
   ],
   "source": [
    "get_max_value(5,8,2)"
   ]
  },
  {
   "cell_type": "code",
   "execution_count": 15,
   "id": "8eaefd26",
   "metadata": {},
   "outputs": [],
   "source": [
    "#Linear Search Using Function\n",
    "def search (names,name):\n",
    "    index =-1\n",
    "    for i in range (0,len(names)):  \n",
    "        if names[i].upper()==name.upper(): \n",
    "            index=i\n",
    "            break\n",
    "    return index"
   ]
  },
  {
   "cell_type": "code",
   "execution_count": 19,
   "id": "77a5356a",
   "metadata": {},
   "outputs": [
    {
     "data": {
      "text/plain": [
       "2"
      ]
     },
     "execution_count": 19,
     "metadata": {},
     "output_type": "execute_result"
    }
   ],
   "source": [
    "students=[\"omar\", \"tamer\",\"Ali\",\"Ahmed\", \"Ali\",\"Ayamn\"]\n",
    "name=\"ali\"\n",
    "search(students, name)"
   ]
  },
  {
   "cell_type": "code",
   "execution_count": 17,
   "id": "6bb8ecda",
   "metadata": {},
   "outputs": [
    {
     "name": "stdout",
     "output_type": "stream",
     "text": [
      "This name Exists at: 2\n"
     ]
    }
   ],
   "source": [
    "if search(students,name)==-1: print(\"This name doesnot exist in the students\")\n",
    "else : print(\"This name Exists at:\", search(students,name))"
   ]
  },
  {
   "cell_type": "code",
   "execution_count": 21,
   "id": "d2bd647d",
   "metadata": {},
   "outputs": [],
   "source": [
    "#Count the ferequency of each name\n",
    "def count (names,name):\n",
    "    count =0\n",
    "    for i in range (0,len(names)):  \n",
    "        if names[i].upper()==name.upper(): \n",
    "            count+=1\n",
    "    return count"
   ]
  },
  {
   "cell_type": "code",
   "execution_count": 26,
   "id": "af554928",
   "metadata": {},
   "outputs": [
    {
     "data": {
      "text/plain": [
       "0"
      ]
     },
     "execution_count": 26,
     "metadata": {},
     "output_type": "execute_result"
    }
   ],
   "source": [
    "students=[\"omar\", \"tamer\",\"Ali\",\"Ahmed\", \"Ali\",\"Ayamn\"]\n",
    "name=\"mostafa\"\n",
    "count(students, name)"
   ]
  },
  {
   "cell_type": "code",
   "execution_count": 27,
   "id": "7cdf7c2c",
   "metadata": {},
   "outputs": [],
   "source": [
    "### Get all names containing  specific leteer\n",
    "def get_names(names,letter):\n",
    "    containing = []\n",
    "    for x in names:\n",
    "           if letter.upper() in x.upper():\n",
    "                 containing.append(x)\n",
    "    return containing"
   ]
  },
  {
   "cell_type": "code",
   "execution_count": 28,
   "id": "69f26a60",
   "metadata": {},
   "outputs": [
    {
     "data": {
      "text/plain": [
       "['Omar', 'tamer']"
      ]
     },
     "execution_count": 28,
     "metadata": {},
     "output_type": "execute_result"
    }
   ],
   "source": [
    "students=[\"Omar\", \"tamer\",\"Ali\",\"Ahmed\", \"Ali\",\"Youssef\"]\n",
    "get_names(students,\"r\")"
   ]
  },
  {
   "cell_type": "code",
   "execution_count": 29,
   "id": "ce08e0f1",
   "metadata": {},
   "outputs": [
    {
     "data": {
      "text/plain": [
       "['Omar', 'Youssef']"
      ]
     },
     "execution_count": 29,
     "metadata": {},
     "output_type": "execute_result"
    }
   ],
   "source": [
    "k=[\"Omar\", \"tamer\",\"Ali\",\"Ahmed\", \"Ali\",\"Youssef\"]\n",
    "get_names(k,\"o\")"
   ]
  },
  {
   "cell_type": "code",
   "execution_count": 30,
   "id": "350a53fb",
   "metadata": {},
   "outputs": [],
   "source": [
    "### Factorial without recurssion\n",
    "def factorial(x):\n",
    "    fact =1\n",
    "    for i in range(1,x+1):\n",
    "        fact*=i\n",
    "    return fact"
   ]
  },
  {
   "cell_type": "code",
   "execution_count": 31,
   "id": "3bed98d3",
   "metadata": {},
   "outputs": [
    {
     "name": "stdout",
     "output_type": "stream",
     "text": [
      "The Fcatorial Value is: 120\n"
     ]
    }
   ],
   "source": [
    "print(\"The Fcatorial Value is:\",factorial (5))"
   ]
  },
  {
   "cell_type": "code",
   "execution_count": 32,
   "id": "5cf92323",
   "metadata": {},
   "outputs": [
    {
     "name": "stdout",
     "output_type": "stream",
     "text": [
      "The Maximum Value is: 10\n"
     ]
    }
   ],
   "source": [
    "def get_max_value (x, y, z):\n",
    "    if x>=y and x>=z: return x\n",
    "    elif  y>x and y>z: return y\n",
    "    else: return z\n",
    "print(\"The Maximum Value is:\",get_max_value (5,10,8))"
   ]
  },
  {
   "cell_type": "code",
   "execution_count": 33,
   "id": "c6017bae",
   "metadata": {},
   "outputs": [
    {
     "name": "stdout",
     "output_type": "stream",
     "text": [
      "The Data Found at: 6\n"
     ]
    }
   ],
   "source": [
    "def search (names,name):\n",
    "    index =-1\n",
    "    for i in range (0,len(names)):  \n",
    "        if names[i]==name: index=i\n",
    "    return index\n",
    "x=(\"Ali\", \"Alaa\", \"Mostafa\", \"Alaa\", \"Mahmoud\",\"Alaa\")\n",
    "y=\"Alaa\"\n",
    "if search(x,y) ==-1 : print(\"The Data not found\")\n",
    "else: print(\"The Data Found at:\", search(x,y)+1)"
   ]
  },
  {
   "cell_type": "code",
   "execution_count": 34,
   "id": "1563ff14",
   "metadata": {},
   "outputs": [
    {
     "name": "stdout",
     "output_type": "stream",
     "text": [
      "The Sum is:  335\n",
      "The Average is:  55.833333333333336\n"
     ]
    }
   ],
   "source": [
    "def get_sum(x):\n",
    "    sum=0\n",
    "    for i in x:\n",
    "        sum+=i\n",
    "    return sum\n",
    "x=(10,22,55,97,81,70)\n",
    "print (\"The Sum is: \", get_sum(x))\n",
    "print(\"The Average is: \", get_sum(x)/len(x) )"
   ]
  },
  {
   "cell_type": "code",
   "execution_count": 37,
   "id": "edbd72d6",
   "metadata": {},
   "outputs": [],
   "source": [
    "# Function returns a dictionary conatining the names and their lengths\n",
    "def get_names_lengths(names):\n",
    "    lengths=[]\n",
    "    for x in names:\n",
    "        lengths.append(len(x))\n",
    "    result ={\"names\": names, \"length\":lengths}\n",
    "    return result"
   ]
  },
  {
   "cell_type": "code",
   "execution_count": 38,
   "id": "79a6ac2e",
   "metadata": {},
   "outputs": [
    {
     "name": "stdout",
     "output_type": "stream",
     "text": [
      "Names lengths are:  {'names': ['Ahmed', 'Ali', 'Alaa', 'Mahmoud', 'youssef'], 'length': [5, 3, 4, 7, 7]}\n"
     ]
    }
   ],
   "source": [
    "y=[\"Ahmed\", \"Ali\", \"Alaa\",\"Mahmoud\",\"youssef\"]\n",
    "print(\"Names lengths are: \", get_names_lengths(y))"
   ]
  },
  {
   "cell_type": "markdown",
   "id": "d70b36a4",
   "metadata": {},
   "source": [
    "### Recurssive Functions"
   ]
  },
  {
   "cell_type": "code",
   "execution_count": 39,
   "id": "c926f03f",
   "metadata": {},
   "outputs": [
    {
     "data": {
      "text/plain": [
       "120"
      ]
     },
     "execution_count": 39,
     "metadata": {},
     "output_type": "execute_result"
    }
   ],
   "source": [
    "#Recurrsion\n",
    "def factorial(x):\n",
    "         if x<=1: return 1\n",
    "         else : return x* factorial(x-1)\n",
    "factorial(5)"
   ]
  },
  {
   "cell_type": "code",
   "execution_count": 40,
   "id": "9813fc69",
   "metadata": {},
   "outputs": [
    {
     "data": {
      "text/plain": [
       "125"
      ]
     },
     "execution_count": 40,
     "metadata": {},
     "output_type": "execute_result"
    }
   ],
   "source": [
    "#Recurrsion\n",
    "def power (x,y):\n",
    "    if y==0 :return 1\n",
    "    else: return x*power(x,y-1)\n",
    "power(5,3)"
   ]
  },
  {
   "cell_type": "markdown",
   "id": "b5b73aca",
   "metadata": {},
   "source": [
    "### Functions with default parameters"
   ]
  },
  {
   "cell_type": "code",
   "execution_count": 41,
   "id": "8c77de79",
   "metadata": {},
   "outputs": [],
   "source": [
    "### Write a function that adds up to 4 different numbers\n",
    "def add (a,b,c=0,d=0):\n",
    "    return (a+b+c+d)"
   ]
  },
  {
   "cell_type": "code",
   "execution_count": 42,
   "id": "c9bb36ba",
   "metadata": {},
   "outputs": [
    {
     "data": {
      "text/plain": [
       "10"
      ]
     },
     "execution_count": 42,
     "metadata": {},
     "output_type": "execute_result"
    }
   ],
   "source": [
    "add(5,5)"
   ]
  },
  {
   "cell_type": "code",
   "execution_count": 43,
   "id": "3ae20fa9",
   "metadata": {},
   "outputs": [
    {
     "data": {
      "text/plain": [
       "18"
      ]
     },
     "execution_count": 43,
     "metadata": {},
     "output_type": "execute_result"
    }
   ],
   "source": [
    "add(5,6,7)"
   ]
  },
  {
   "cell_type": "code",
   "execution_count": 44,
   "id": "6bbab283",
   "metadata": {},
   "outputs": [
    {
     "data": {
      "text/plain": [
       "26"
      ]
     },
     "execution_count": 44,
     "metadata": {},
     "output_type": "execute_result"
    }
   ],
   "source": [
    "add(5,6,7,8)"
   ]
  },
  {
   "cell_type": "markdown",
   "id": "14b5ad5d",
   "metadata": {},
   "source": [
    "### lampda functions in python\n",
    "1. A lambda function is a small anonymous function.\n",
    "2. A lambda function can take any number of arguments, but can only have one expression."
   ]
  },
  {
   "cell_type": "code",
   "execution_count": 47,
   "id": "e4293e99",
   "metadata": {},
   "outputs": [
    {
     "name": "stdout",
     "output_type": "stream",
     "text": [
      "15\n"
     ]
    }
   ],
   "source": [
    "x = lambda a : a + 10\n",
    "print(x(5))"
   ]
  },
  {
   "cell_type": "code",
   "execution_count": 48,
   "id": "b752beeb",
   "metadata": {},
   "outputs": [
    {
     "name": "stdout",
     "output_type": "stream",
     "text": [
      "30\n"
     ]
    }
   ],
   "source": [
    "x = lambda a, b : a * b\n",
    "print(x(5, 6))"
   ]
  },
  {
   "cell_type": "code",
   "execution_count": 50,
   "id": "a4dc45b1",
   "metadata": {},
   "outputs": [],
   "source": [
    "def myfunc(n):\n",
    "    return lambda a : a * n"
   ]
  },
  {
   "cell_type": "code",
   "execution_count": 51,
   "id": "d7748bc4",
   "metadata": {},
   "outputs": [
    {
     "name": "stdout",
     "output_type": "stream",
     "text": [
      "22\n"
     ]
    }
   ],
   "source": [
    "mydoubler = myfunc(2)\n",
    "print(mydoubler(11))"
   ]
  },
  {
   "cell_type": "code",
   "execution_count": 54,
   "id": "4a3db829",
   "metadata": {},
   "outputs": [],
   "source": [
    "#Get The Roots of  a quadratic equation\n",
    "import math as m\n",
    "def get_roots(a,b,c):\n",
    "    d=(b**2)-(4*a*c)\n",
    "    if d==0:\n",
    "        x1=-b/(2*a)\n",
    "        x2=-b/(2*a)\n",
    "    elif d<0:\n",
    "        R = -b/(2*a)\n",
    "        I =round(m.sqrt(abs(d))/(2*a),2)\n",
    "        x1=complex(R,I)\n",
    "        x2=complex(R,-I)\n",
    "    else :\n",
    "        x1 = (-b + m.sqrt(d)) / (2*a)\n",
    "        x2 = (-b - m.sqrt(d)) / (2*a)\n",
    "    return x1,x2 "
   ]
  },
  {
   "cell_type": "code",
   "execution_count": 56,
   "id": "9234105b",
   "metadata": {},
   "outputs": [
    {
     "data": {
      "text/plain": [
       "(3j, -3j)"
      ]
     },
     "execution_count": 56,
     "metadata": {},
     "output_type": "execute_result"
    }
   ],
   "source": [
    "get_roots (1,0,9)"
   ]
  },
  {
   "cell_type": "markdown",
   "id": "9f0c5287",
   "metadata": {},
   "source": [
    "### Built in Functions for strings"
   ]
  },
  {
   "cell_type": "markdown",
   "id": "90c5f4b8",
   "metadata": {},
   "source": [
    "### string Function \n",
    "1. Case function (capitalize, lower , upper )"
   ]
  },
  {
   "cell_type": "code",
   "execution_count": 57,
   "id": "a418c8fb",
   "metadata": {},
   "outputs": [
    {
     "name": "stdout",
     "output_type": "stream",
     "text": [
      "omar\n"
     ]
    }
   ],
   "source": [
    "x=\"omar\"\n",
    "print(x)"
   ]
  },
  {
   "cell_type": "code",
   "execution_count": 58,
   "id": "17ac554b",
   "metadata": {},
   "outputs": [
    {
     "data": {
      "text/plain": [
       "str"
      ]
     },
     "execution_count": 58,
     "metadata": {},
     "output_type": "execute_result"
    }
   ],
   "source": [
    "type(x)"
   ]
  },
  {
   "cell_type": "code",
   "execution_count": 59,
   "id": "4cef8da6",
   "metadata": {},
   "outputs": [],
   "source": [
    "y=\"احمد\""
   ]
  },
  {
   "cell_type": "code",
   "execution_count": 60,
   "id": "83a4c079",
   "metadata": {},
   "outputs": [
    {
     "data": {
      "text/plain": [
       "'احمد'"
      ]
     },
     "execution_count": 60,
     "metadata": {},
     "output_type": "execute_result"
    }
   ],
   "source": [
    "y"
   ]
  },
  {
   "cell_type": "code",
   "execution_count": 61,
   "id": "4170f265",
   "metadata": {},
   "outputs": [
    {
     "data": {
      "text/plain": [
       "'احمد'"
      ]
     },
     "execution_count": 61,
     "metadata": {},
     "output_type": "execute_result"
    }
   ],
   "source": [
    "y.upper()"
   ]
  },
  {
   "cell_type": "code",
   "execution_count": 62,
   "id": "5cf64fef",
   "metadata": {},
   "outputs": [
    {
     "data": {
      "text/plain": [
       "'OMAR'"
      ]
     },
     "execution_count": 62,
     "metadata": {},
     "output_type": "execute_result"
    }
   ],
   "source": [
    "x.upper()"
   ]
  },
  {
   "cell_type": "code",
   "execution_count": 63,
   "id": "4f88ea87",
   "metadata": {},
   "outputs": [
    {
     "data": {
      "text/plain": [
       "'Omar'"
      ]
     },
     "execution_count": 63,
     "metadata": {},
     "output_type": "execute_result"
    }
   ],
   "source": [
    "x.capitalize()"
   ]
  },
  {
   "cell_type": "code",
   "execution_count": 64,
   "id": "207aebd7",
   "metadata": {},
   "outputs": [
    {
     "data": {
      "text/plain": [
       "'OMAR'"
      ]
     },
     "execution_count": 64,
     "metadata": {},
     "output_type": "execute_result"
    }
   ],
   "source": [
    "x.upper()"
   ]
  },
  {
   "cell_type": "code",
   "execution_count": 65,
   "id": "89d948f6",
   "metadata": {},
   "outputs": [
    {
     "data": {
      "text/plain": [
       "'omar'"
      ]
     },
     "execution_count": 65,
     "metadata": {},
     "output_type": "execute_result"
    }
   ],
   "source": [
    "x.lower()"
   ]
  },
  {
   "cell_type": "code",
   "execution_count": 66,
   "id": "ccc1d36f",
   "metadata": {},
   "outputs": [
    {
     "data": {
      "text/plain": [
       "True"
      ]
     },
     "execution_count": 66,
     "metadata": {},
     "output_type": "execute_result"
    }
   ],
   "source": [
    "x=\"r\"\n",
    "x.isalpha()"
   ]
  },
  {
   "cell_type": "code",
   "execution_count": 67,
   "id": "4b77f12d",
   "metadata": {},
   "outputs": [
    {
     "data": {
      "text/plain": [
       "False"
      ]
     },
     "execution_count": 67,
     "metadata": {},
     "output_type": "execute_result"
    }
   ],
   "source": [
    "x=\"9\"\n",
    "x.isalpha()"
   ]
  },
  {
   "cell_type": "code",
   "execution_count": 72,
   "id": "d718417e",
   "metadata": {},
   "outputs": [
    {
     "data": {
      "text/plain": [
       "True"
      ]
     },
     "execution_count": 72,
     "metadata": {},
     "output_type": "execute_result"
    }
   ],
   "source": [
    "x=\"9\"\n",
    "x.isdigit()"
   ]
  },
  {
   "cell_type": "code",
   "execution_count": 68,
   "id": "dbafb630",
   "metadata": {},
   "outputs": [
    {
     "data": {
      "text/plain": [
       "str"
      ]
     },
     "execution_count": 68,
     "metadata": {},
     "output_type": "execute_result"
    }
   ],
   "source": [
    "type(x)"
   ]
  },
  {
   "cell_type": "code",
   "execution_count": 69,
   "id": "cbfa6817",
   "metadata": {},
   "outputs": [],
   "source": [
    "A= \"20 Ali Mosta\"\n",
    "B= \"15 ali\""
   ]
  },
  {
   "cell_type": "code",
   "execution_count": 70,
   "id": "451d934a",
   "metadata": {},
   "outputs": [
    {
     "data": {
      "text/plain": [
       "'20 Ali Mosta15 ali'"
      ]
     },
     "execution_count": 70,
     "metadata": {},
     "output_type": "execute_result"
    }
   ],
   "source": [
    "A+B"
   ]
  },
  {
   "cell_type": "code",
   "execution_count": 71,
   "id": "917ddee5",
   "metadata": {},
   "outputs": [
    {
     "data": {
      "text/plain": [
       "'20 Ali Mosta20 Ali Mosta20 Ali Mosta'"
      ]
     },
     "execution_count": 71,
     "metadata": {},
     "output_type": "execute_result"
    }
   ],
   "source": [
    "A*3"
   ]
  },
  {
   "cell_type": "code",
   "execution_count": 73,
   "id": "e49c6b4a",
   "metadata": {},
   "outputs": [
    {
     "data": {
      "text/plain": [
       "4"
      ]
     },
     "execution_count": 73,
     "metadata": {},
     "output_type": "execute_result"
    }
   ],
   "source": [
    "x=\"omar\"\n",
    "len(x)"
   ]
  },
  {
   "cell_type": "markdown",
   "id": "5ba38cbd",
   "metadata": {},
   "source": [
    "#### Access chracters in strings"
   ]
  },
  {
   "cell_type": "code",
   "execution_count": 74,
   "id": "e2a11411",
   "metadata": {},
   "outputs": [
    {
     "name": "stdout",
     "output_type": "stream",
     "text": [
      "String\n"
     ]
    }
   ],
   "source": [
    "s1='String'\n",
    "print(s1)"
   ]
  },
  {
   "cell_type": "code",
   "execution_count": 75,
   "id": "a4f61b5d",
   "metadata": {},
   "outputs": [
    {
     "name": "stdout",
     "output_type": "stream",
     "text": [
      "Hello Python\n"
     ]
    }
   ],
   "source": [
    "s2=\"Hello Python\"\n",
    "print(s2)"
   ]
  },
  {
   "cell_type": "code",
   "execution_count": 76,
   "id": "8f5a895d",
   "metadata": {},
   "outputs": [
    {
     "data": {
      "text/plain": [
       "'S'"
      ]
     },
     "execution_count": 76,
     "metadata": {},
     "output_type": "execute_result"
    }
   ],
   "source": [
    "s1[0]"
   ]
  },
  {
   "cell_type": "code",
   "execution_count": 77,
   "id": "efc2a4b6",
   "metadata": {},
   "outputs": [
    {
     "data": {
      "text/plain": [
       "'r'"
      ]
     },
     "execution_count": 77,
     "metadata": {},
     "output_type": "execute_result"
    }
   ],
   "source": [
    "s1[2]"
   ]
  },
  {
   "cell_type": "code",
   "execution_count": 78,
   "id": "7266020b",
   "metadata": {},
   "outputs": [
    {
     "data": {
      "text/plain": [
       "'g'"
      ]
     },
     "execution_count": 78,
     "metadata": {},
     "output_type": "execute_result"
    }
   ],
   "source": [
    "s1[-1]"
   ]
  },
  {
   "cell_type": "code",
   "execution_count": 79,
   "id": "14ebc2b7",
   "metadata": {},
   "outputs": [
    {
     "data": {
      "text/plain": [
       "'Strin'"
      ]
     },
     "execution_count": 79,
     "metadata": {},
     "output_type": "execute_result"
    }
   ],
   "source": [
    "s1[:-1]"
   ]
  },
  {
   "cell_type": "code",
   "execution_count": 80,
   "id": "1ac106df",
   "metadata": {},
   "outputs": [
    {
     "data": {
      "text/plain": [
       "'Str'"
      ]
     },
     "execution_count": 80,
     "metadata": {},
     "output_type": "execute_result"
    }
   ],
   "source": [
    "s1[:3]"
   ]
  },
  {
   "cell_type": "code",
   "execution_count": 81,
   "id": "ea6b9c1e",
   "metadata": {},
   "outputs": [
    {
     "data": {
      "text/plain": [
       "'String'"
      ]
     },
     "execution_count": 81,
     "metadata": {},
     "output_type": "execute_result"
    }
   ],
   "source": [
    "s1[0:]"
   ]
  },
  {
   "cell_type": "code",
   "execution_count": 82,
   "id": "87830abb",
   "metadata": {},
   "outputs": [
    {
     "data": {
      "text/plain": [
       "'ring'"
      ]
     },
     "execution_count": 82,
     "metadata": {},
     "output_type": "execute_result"
    }
   ],
   "source": [
    "s1[2:]"
   ]
  },
  {
   "cell_type": "code",
   "execution_count": 87,
   "id": "6e2951f8",
   "metadata": {},
   "outputs": [
    {
     "name": "stdout",
     "output_type": "stream",
     "text": [
      "python \n",
      "\"Hello World\" \n"
     ]
    }
   ],
   "source": [
    "sss='''python \n",
    "\"Hello World\" '''\n",
    "print(sss)"
   ]
  },
  {
   "cell_type": "code",
   "execution_count": 88,
   "id": "f51563d6",
   "metadata": {},
   "outputs": [
    {
     "name": "stdout",
     "output_type": "stream",
     "text": [
      "this is a long string\n"
     ]
    }
   ],
   "source": [
    "print('this is a long string')"
   ]
  },
  {
   "cell_type": "code",
   "execution_count": 92,
   "id": "7d5a5f11",
   "metadata": {},
   "outputs": [
    {
     "name": "stdout",
     "output_type": "stream",
     "text": [
      "www:\\SVN_CODE\\V900R17C00_TRP\\omu\\src\n"
     ]
    }
   ],
   "source": [
    "raw ='www:\\\\SVN_CODE\\V900R17C00_TRP\\omu\\src'\n",
    "print(raw)"
   ]
  },
  {
   "cell_type": "code",
   "execution_count": 93,
   "id": "0335eba7",
   "metadata": {},
   "outputs": [
    {
     "name": "stdout",
     "output_type": "stream",
     "text": [
      "www:\\\\SVN_CODE\\V900R17C00_TRP\\omu\\src\n"
     ]
    }
   ],
   "source": [
    "rawStr = r'www:\\\\SVN_CODE\\V900R17C00_TRP\\omu\\src'\n",
    "print(rawStr)"
   ]
  },
  {
   "cell_type": "code",
   "execution_count": 95,
   "id": "bfc37d38",
   "metadata": {},
   "outputs": [
    {
     "name": "stdout",
     "output_type": "stream",
     "text": [
      "a\n"
     ]
    }
   ],
   "source": [
    "print(\"%c\" % 97)"
   ]
  },
  {
   "cell_type": "code",
   "execution_count": 96,
   "id": "4c11bb0e",
   "metadata": {},
   "outputs": [
    {
     "name": "stdout",
     "output_type": "stream",
     "text": [
      "98\n"
     ]
    }
   ],
   "source": [
    "print(\"%d\" % 98)"
   ]
  },
  {
   "cell_type": "code",
   "execution_count": 97,
   "id": "a18d2e53",
   "metadata": {},
   "outputs": [
    {
     "name": "stdout",
     "output_type": "stream",
     "text": [
      "98\n"
     ]
    }
   ],
   "source": [
    "print(\"%i\" % 98)"
   ]
  },
  {
   "cell_type": "code",
   "execution_count": 99,
   "id": "124c3ee8",
   "metadata": {},
   "outputs": [],
   "source": [
    "v=9"
   ]
  },
  {
   "cell_type": "code",
   "execution_count": 100,
   "id": "3aa65162",
   "metadata": {},
   "outputs": [
    {
     "name": "stdout",
     "output_type": "stream",
     "text": [
      "9.000000\n"
     ]
    }
   ],
   "source": [
    "print(\"%f\" % v)"
   ]
  },
  {
   "cell_type": "code",
   "execution_count": 109,
   "id": "a1fb17a1",
   "metadata": {},
   "outputs": [
    {
     "name": "stdout",
     "output_type": "stream",
     "text": [
      "254444545.566\n"
     ]
    }
   ],
   "source": [
    "print(\"%5.3f\" % 254444545.5655554)"
   ]
  },
  {
   "cell_type": "code",
   "execution_count": 110,
   "id": "c222d6be",
   "metadata": {},
   "outputs": [
    {
     "name": "stdout",
     "output_type": "stream",
     "text": [
      "                                                                         2454549797977878691840.0000\n"
     ]
    }
   ],
   "source": [
    "print(\"%100.4f\" % 2454549797977878787878.5884545455545454545457878)"
   ]
  },
  {
   "cell_type": "code",
   "execution_count": 111,
   "id": "bf364b5b",
   "metadata": {},
   "outputs": [
    {
     "name": "stdout",
     "output_type": "stream",
     "text": [
      "I want Python.\n"
     ]
    }
   ],
   "source": [
    "s = 'I' + ' '+ 'want'+ ' ' + 'Python' + '.'\n",
    "print(s)"
   ]
  },
  {
   "cell_type": "code",
   "execution_count": 112,
   "id": "dba241d9",
   "metadata": {},
   "outputs": [
    {
     "name": "stdout",
     "output_type": "stream",
     "text": [
      "I want Python I want Python I want Python \n"
     ]
    }
   ],
   "source": [
    "ss='I want Python '*3\n",
    "print(ss)"
   ]
  },
  {
   "cell_type": "code",
   "execution_count": 113,
   "id": "24b57355",
   "metadata": {},
   "outputs": [],
   "source": [
    "del(s)"
   ]
  },
  {
   "cell_type": "code",
   "execution_count": 114,
   "id": "afd1c537",
   "metadata": {},
   "outputs": [
    {
     "ename": "NameError",
     "evalue": "name 's' is not defined",
     "output_type": "error",
     "traceback": [
      "\u001b[1;31m---------------------------------------------------------------------------\u001b[0m",
      "\u001b[1;31mNameError\u001b[0m                                 Traceback (most recent call last)",
      "Cell \u001b[1;32mIn[114], line 1\u001b[0m\n\u001b[1;32m----> 1\u001b[0m \u001b[43ms\u001b[49m\n",
      "\u001b[1;31mNameError\u001b[0m: name 's' is not defined"
     ]
    }
   ],
   "source": [
    "s"
   ]
  },
  {
   "cell_type": "code",
   "execution_count": 117,
   "id": "41cbf081",
   "metadata": {},
   "outputs": [],
   "source": [
    " def check_password(password):\n",
    "        numberofalphadigits=0\n",
    "        numberofnumberdigits=0\n",
    "        numberofupperletters=0\n",
    "        numberofspecialcharacters=0\n",
    "        for i in password:\n",
    "            if i.isalpha():  numberofalphadigits+=1\n",
    "            if i.isdigit():  numberofnumberdigits+=1\n",
    "            if i.isupper():  numberofupperletters+=1\n",
    "            if i in \"@#_$\":  numberofspecialcharacters+=1\n",
    "        if (len(password)>13 and numberofnumberdigits>2 and numberofalphadigits>10 and numberofspecialcharacters>0 and numberofupperletters>0  ): return True\n",
    "        else : return False"
   ]
  },
  {
   "cell_type": "code",
   "execution_count": 119,
   "id": "b43a756b",
   "metadata": {},
   "outputs": [
    {
     "data": {
      "text/plain": [
       "True"
      ]
     },
     "execution_count": 119,
     "metadata": {},
     "output_type": "execute_result"
    }
   ],
   "source": [
    "check_password('Ahhjhhmedali15234@')"
   ]
  },
  {
   "cell_type": "markdown",
   "id": "a37bc5a1",
   "metadata": {},
   "source": [
    "### Built in Functions for lists"
   ]
  },
  {
   "cell_type": "code",
   "execution_count": 124,
   "id": "42a7f2e1",
   "metadata": {},
   "outputs": [
    {
     "data": {
      "text/plain": [
       "[]"
      ]
     },
     "execution_count": 124,
     "metadata": {},
     "output_type": "execute_result"
    }
   ],
   "source": [
    "#empty\n",
    "L3=[]\n",
    "L3"
   ]
  },
  {
   "cell_type": "code",
   "execution_count": 125,
   "id": "df67d6b8",
   "metadata": {},
   "outputs": [
    {
     "data": {
      "text/plain": [
       "[1, [2, 3], 4]"
      ]
     },
     "execution_count": 125,
     "metadata": {},
     "output_type": "execute_result"
    }
   ],
   "source": [
    "#2D List\n",
    "L4=[1,[2,3],4]\n",
    "L4"
   ]
  },
  {
   "cell_type": "code",
   "execution_count": 131,
   "id": "55a1a8c0",
   "metadata": {},
   "outputs": [
    {
     "data": {
      "text/plain": [
       "[99, 'Bottle of beer', ['on', 'the', 'wall']]"
      ]
     },
     "execution_count": 131,
     "metadata": {},
     "output_type": "execute_result"
    }
   ],
   "source": [
    "L5=[99,\"Bottle of beer\",[\"on\",\"the\",\"wall\"]]\n",
    "L5"
   ]
  },
  {
   "cell_type": "markdown",
   "id": "e0a14385",
   "metadata": {},
   "source": [
    "#### Access Elements in the list using Index"
   ]
  },
  {
   "cell_type": "code",
   "execution_count": 127,
   "id": "5b58a49b",
   "metadata": {},
   "outputs": [
    {
     "name": "stdout",
     "output_type": "stream",
     "text": [
      "element of index 0 is:  99\n"
     ]
    }
   ],
   "source": [
    "print(\"element of index 0 is: \",L5[0])"
   ]
  },
  {
   "cell_type": "code",
   "execution_count": 128,
   "id": "0f4db703",
   "metadata": {},
   "outputs": [
    {
     "name": "stdout",
     "output_type": "stream",
     "text": [
      "element of index 0 is:  Bottle of beer\n"
     ]
    }
   ],
   "source": [
    "print(\"element of index 0 is: \",L5[1])"
   ]
  },
  {
   "cell_type": "code",
   "execution_count": 129,
   "id": "657055e8",
   "metadata": {},
   "outputs": [
    {
     "name": "stdout",
     "output_type": "stream",
     "text": [
      "element of index 0 is:  ['on', 'the', 'wall']\n"
     ]
    }
   ],
   "source": [
    "print(\"element of index 0 is: \",L5[2])"
   ]
  },
  {
   "cell_type": "code",
   "execution_count": 132,
   "id": "87ce37c0",
   "metadata": {},
   "outputs": [
    {
     "data": {
      "text/plain": [
       "'wall'"
      ]
     },
     "execution_count": 132,
     "metadata": {},
     "output_type": "execute_result"
    }
   ],
   "source": [
    "L5[2][2]"
   ]
  },
  {
   "cell_type": "code",
   "execution_count": 133,
   "id": "43aab748",
   "metadata": {},
   "outputs": [
    {
     "data": {
      "text/plain": [
       "'the'"
      ]
     },
     "execution_count": 133,
     "metadata": {},
     "output_type": "execute_result"
    }
   ],
   "source": [
    "L5[2][1]"
   ]
  },
  {
   "cell_type": "code",
   "execution_count": 134,
   "id": "4753b758",
   "metadata": {},
   "outputs": [
    {
     "name": "stdout",
     "output_type": "stream",
     "text": [
      "element of index 0 is:  ['on', 'the', 'wall']\n"
     ]
    }
   ],
   "source": [
    "print(\"element of index 0 is: \",L5[-1])"
   ]
  },
  {
   "cell_type": "code",
   "execution_count": 135,
   "id": "738b2bc8",
   "metadata": {},
   "outputs": [
    {
     "data": {
      "text/plain": [
       "'wall'"
      ]
     },
     "execution_count": 135,
     "metadata": {},
     "output_type": "execute_result"
    }
   ],
   "source": [
    "L5[-1][-1]"
   ]
  },
  {
   "cell_type": "code",
   "execution_count": 136,
   "id": "065b81b1",
   "metadata": {},
   "outputs": [
    {
     "data": {
      "text/plain": [
       "99"
      ]
     },
     "execution_count": 136,
     "metadata": {},
     "output_type": "execute_result"
    }
   ],
   "source": [
    "L5[-3]"
   ]
  },
  {
   "cell_type": "code",
   "execution_count": 137,
   "id": "2d9d95da",
   "metadata": {},
   "outputs": [
    {
     "data": {
      "text/plain": [
       "'t'"
      ]
     },
     "execution_count": 137,
     "metadata": {},
     "output_type": "execute_result"
    }
   ],
   "source": [
    "L5[1][3]"
   ]
  },
  {
   "cell_type": "code",
   "execution_count": 138,
   "id": "cd4f5bad",
   "metadata": {},
   "outputs": [
    {
     "data": {
      "text/plain": [
       "'e'"
      ]
     },
     "execution_count": 138,
     "metadata": {},
     "output_type": "execute_result"
    }
   ],
   "source": [
    "L5[1][-3]"
   ]
  },
  {
   "cell_type": "code",
   "execution_count": 139,
   "id": "b9ddd603",
   "metadata": {},
   "outputs": [
    {
     "data": {
      "text/plain": [
       "['on', 'the', 'wall']"
      ]
     },
     "execution_count": 139,
     "metadata": {},
     "output_type": "execute_result"
    }
   ],
   "source": [
    "L5[len(L5)-1]"
   ]
  },
  {
   "cell_type": "code",
   "execution_count": 140,
   "id": "ed85f867",
   "metadata": {},
   "outputs": [
    {
     "data": {
      "text/plain": [
       "[1, 2, 3, 4, 5]"
      ]
     },
     "execution_count": 140,
     "metadata": {},
     "output_type": "execute_result"
    }
   ],
   "source": [
    "L6=[1,2,3,4,5]\n",
    "L6"
   ]
  },
  {
   "cell_type": "code",
   "execution_count": 141,
   "id": "8e131658",
   "metadata": {},
   "outputs": [
    {
     "data": {
      "text/plain": [
       "[2]"
      ]
     },
     "execution_count": 141,
     "metadata": {},
     "output_type": "execute_result"
    }
   ],
   "source": [
    "L6[1:2]"
   ]
  },
  {
   "cell_type": "code",
   "execution_count": 142,
   "id": "c281458f",
   "metadata": {},
   "outputs": [
    {
     "data": {
      "text/plain": [
       "[2, 3]"
      ]
     },
     "execution_count": 142,
     "metadata": {},
     "output_type": "execute_result"
    }
   ],
   "source": [
    "L6[1:3]"
   ]
  },
  {
   "cell_type": "code",
   "execution_count": 143,
   "id": "38b8cbfa",
   "metadata": {},
   "outputs": [
    {
     "data": {
      "text/plain": [
       "[2, 3, 4, 5]"
      ]
     },
     "execution_count": 143,
     "metadata": {},
     "output_type": "execute_result"
    }
   ],
   "source": [
    "L6[1:]"
   ]
  },
  {
   "cell_type": "code",
   "execution_count": 144,
   "id": "06ee7b49",
   "metadata": {},
   "outputs": [
    {
     "data": {
      "text/plain": [
       "[1]"
      ]
     },
     "execution_count": 144,
     "metadata": {},
     "output_type": "execute_result"
    }
   ],
   "source": [
    "L6[:1]"
   ]
  },
  {
   "cell_type": "code",
   "execution_count": null,
   "id": "a84a0744",
   "metadata": {},
   "outputs": [],
   "source": [
    "L6[:-1]"
   ]
  },
  {
   "cell_type": "code",
   "execution_count": 145,
   "id": "24d5f774",
   "metadata": {},
   "outputs": [
    {
     "name": "stdout",
     "output_type": "stream",
     "text": [
      "0\n",
      "1\n",
      "2\n",
      "3\n"
     ]
    }
   ],
   "source": [
    "for i in [0,1,2,3]:\n",
    "    print(i)"
   ]
  },
  {
   "cell_type": "code",
   "execution_count": 146,
   "id": "235e7ab5",
   "metadata": {},
   "outputs": [
    {
     "name": "stdout",
     "output_type": "stream",
     "text": [
      "100\n",
      "1\n",
      "2\n",
      "3\n"
     ]
    }
   ],
   "source": [
    "for i in [100,1,2,3]:\n",
    "    print(i)"
   ]
  },
  {
   "cell_type": "code",
   "execution_count": 147,
   "id": "ae862862",
   "metadata": {},
   "outputs": [
    {
     "name": "stdout",
     "output_type": "stream",
     "text": [
      "huawei\n",
      "3\n",
      "nti\n"
     ]
    }
   ],
   "source": [
    "for i in [\"huawei\",3,\"nti\"]:\n",
    "    print(i)"
   ]
  },
  {
   "cell_type": "code",
   "execution_count": 148,
   "id": "efde0bdb",
   "metadata": {},
   "outputs": [
    {
     "data": {
      "text/plain": [
       "[range(0, 10)]"
      ]
     },
     "execution_count": 148,
     "metadata": {},
     "output_type": "execute_result"
    }
   ],
   "source": [
    "x=[range(10)]\n",
    "x"
   ]
  },
  {
   "cell_type": "markdown",
   "id": "6f8482e2",
   "metadata": {},
   "source": [
    "#### List Built In Functions"
   ]
  },
  {
   "cell_type": "code",
   "execution_count": 149,
   "id": "e42b3350",
   "metadata": {},
   "outputs": [],
   "source": [
    "names = [\"omar\", \"youssef\", \"omar\", \"khaled\", \"ahmed\"]"
   ]
  },
  {
   "cell_type": "code",
   "execution_count": 150,
   "id": "48e45ba7",
   "metadata": {},
   "outputs": [
    {
     "data": {
      "text/plain": [
       "['ahmed', 'khaled', 'omar', 'omar', 'youssef']"
      ]
     },
     "execution_count": 150,
     "metadata": {},
     "output_type": "execute_result"
    }
   ],
   "source": [
    "names.sort()\n",
    "names"
   ]
  },
  {
   "cell_type": "code",
   "execution_count": 151,
   "id": "387e0b3d",
   "metadata": {},
   "outputs": [
    {
     "data": {
      "text/plain": [
       "{'ahmed', 'khaled', 'omar', 'youssef'}"
      ]
     },
     "execution_count": 151,
     "metadata": {},
     "output_type": "execute_result"
    }
   ],
   "source": [
    "set= {\"omar\", \"youssef\", \"omar\", \"khaled\", \"ahmed\"}\n",
    "set"
   ]
  },
  {
   "cell_type": "code",
   "execution_count": 153,
   "id": "06d3311a",
   "metadata": {},
   "outputs": [
    {
     "data": {
      "text/plain": [
       "['ahmed', 'khaled', 'omar', 'youssef', 'omar']"
      ]
     },
     "execution_count": 153,
     "metadata": {},
     "output_type": "execute_result"
    }
   ],
   "source": [
    "names = [\"omar\", \"youssef\", \"omar\", \"khaled\", \"ahmed\"]\n",
    "names.reverse()\n",
    "names"
   ]
  },
  {
   "cell_type": "code",
   "execution_count": 154,
   "id": "1a663b23",
   "metadata": {},
   "outputs": [],
   "source": [
    "students=[\"omar\", \"tamer\",\"Ali\",\"Ahmed\", \"Ali\",\"Ayamn\"]"
   ]
  },
  {
   "cell_type": "code",
   "execution_count": 155,
   "id": "8dc94ed8",
   "metadata": {},
   "outputs": [
    {
     "data": {
      "text/plain": [
       "['omar', 'tamer', 'Ali', 'Ahmed', 'Ali', 'Ayamn', 'Khaled']"
      ]
     },
     "execution_count": 155,
     "metadata": {},
     "output_type": "execute_result"
    }
   ],
   "source": [
    "students.append(\"Khaled\")\n",
    "students"
   ]
  },
  {
   "cell_type": "code",
   "execution_count": 158,
   "id": "9b55792e",
   "metadata": {},
   "outputs": [
    {
     "data": {
      "text/plain": [
       "['omar', 'Ali', 'tamer', 'Ali', 'Ahmed', 'Ali', 'Ayamn', 'Khaled']"
      ]
     },
     "execution_count": 158,
     "metadata": {},
     "output_type": "execute_result"
    }
   ],
   "source": [
    "students.insert(1,\"Ali\")\n",
    "students"
   ]
  },
  {
   "cell_type": "code",
   "execution_count": 160,
   "id": "72c834dd",
   "metadata": {},
   "outputs": [],
   "source": [
    "x=[1,2,3]\n",
    "y=[4,5]"
   ]
  },
  {
   "cell_type": "code",
   "execution_count": 161,
   "id": "695e4c98",
   "metadata": {},
   "outputs": [
    {
     "data": {
      "text/plain": [
       "[1, 2, 3, [4, 5]]"
      ]
     },
     "execution_count": 161,
     "metadata": {},
     "output_type": "execute_result"
    }
   ],
   "source": [
    "x.append(y)\n",
    "x"
   ]
  },
  {
   "cell_type": "code",
   "execution_count": 164,
   "id": "a24b331e",
   "metadata": {},
   "outputs": [],
   "source": [
    "x=[1,2,3]\n",
    "y=[4,5]"
   ]
  },
  {
   "cell_type": "code",
   "execution_count": 165,
   "id": "5609e088",
   "metadata": {},
   "outputs": [
    {
     "data": {
      "text/plain": [
       "[1, 2, 3]"
      ]
     },
     "execution_count": 165,
     "metadata": {},
     "output_type": "execute_result"
    }
   ],
   "source": [
    "x"
   ]
  },
  {
   "cell_type": "code",
   "execution_count": 166,
   "id": "375cf9ef",
   "metadata": {},
   "outputs": [
    {
     "data": {
      "text/plain": [
       "[4, 5]"
      ]
     },
     "execution_count": 166,
     "metadata": {},
     "output_type": "execute_result"
    }
   ],
   "source": [
    "y"
   ]
  },
  {
   "cell_type": "code",
   "execution_count": 167,
   "id": "64814803",
   "metadata": {},
   "outputs": [
    {
     "data": {
      "text/plain": [
       "[1, 2, 3, 4, 5]"
      ]
     },
     "execution_count": 167,
     "metadata": {},
     "output_type": "execute_result"
    }
   ],
   "source": [
    "x.extend(y)\n",
    "x"
   ]
  },
  {
   "cell_type": "code",
   "execution_count": 168,
   "id": "165c4db0",
   "metadata": {},
   "outputs": [
    {
     "data": {
      "text/plain": [
       "[1, 2, 3, 4, 5, 4, 5]"
      ]
     },
     "execution_count": 168,
     "metadata": {},
     "output_type": "execute_result"
    }
   ],
   "source": [
    "x+y"
   ]
  },
  {
   "cell_type": "code",
   "execution_count": 169,
   "id": "975e5a30",
   "metadata": {},
   "outputs": [],
   "source": [
    "x=[1,2,3]\n",
    "y=[4,5]"
   ]
  },
  {
   "cell_type": "code",
   "execution_count": 170,
   "id": "8bf3ac86",
   "metadata": {},
   "outputs": [
    {
     "name": "stdout",
     "output_type": "stream",
     "text": [
      "[1, 2, 3, 4, 5]\n"
     ]
    }
   ],
   "source": [
    "for i in y:\n",
    "    x.append(i)\n",
    "print(x)"
   ]
  },
  {
   "cell_type": "code",
   "execution_count": 171,
   "id": "684c6c21",
   "metadata": {},
   "outputs": [
    {
     "data": {
      "text/plain": [
       "[40, 1, 2, 3]"
      ]
     },
     "execution_count": 171,
     "metadata": {},
     "output_type": "execute_result"
    }
   ],
   "source": [
    "x=[1,2,3]\n",
    "x.insert(0,40)\n",
    "x"
   ]
  },
  {
   "cell_type": "code",
   "execution_count": 172,
   "id": "82af893c",
   "metadata": {},
   "outputs": [
    {
     "data": {
      "text/plain": [
       "[40, 1, 2]"
      ]
     },
     "execution_count": 172,
     "metadata": {},
     "output_type": "execute_result"
    }
   ],
   "source": [
    "x.pop()\n",
    "x"
   ]
  },
  {
   "cell_type": "code",
   "execution_count": 173,
   "id": "1eba57fa",
   "metadata": {},
   "outputs": [
    {
     "data": {
      "text/plain": [
       "[40, 2]"
      ]
     },
     "execution_count": 173,
     "metadata": {},
     "output_type": "execute_result"
    }
   ],
   "source": [
    "x.pop(1)\n",
    "x"
   ]
  },
  {
   "cell_type": "code",
   "execution_count": 176,
   "id": "7287efa5",
   "metadata": {},
   "outputs": [
    {
     "ename": "IndexError",
     "evalue": "pop from empty list",
     "output_type": "error",
     "traceback": [
      "\u001b[1;31m---------------------------------------------------------------------------\u001b[0m",
      "\u001b[1;31mIndexError\u001b[0m                                Traceback (most recent call last)",
      "Cell \u001b[1;32mIn[176], line 1\u001b[0m\n\u001b[1;32m----> 1\u001b[0m \u001b[43mx\u001b[49m\u001b[38;5;241;43m.\u001b[39;49m\u001b[43mpop\u001b[49m\u001b[43m(\u001b[49m\u001b[43m)\u001b[49m\n\u001b[0;32m      2\u001b[0m x\n",
      "\u001b[1;31mIndexError\u001b[0m: pop from empty list"
     ]
    }
   ],
   "source": [
    "x.pop()\n",
    "x"
   ]
  },
  {
   "cell_type": "code",
   "execution_count": 177,
   "id": "fafd4f63",
   "metadata": {},
   "outputs": [],
   "source": [
    "x=[1,2,3]"
   ]
  },
  {
   "cell_type": "code",
   "execution_count": 182,
   "id": "b274829c",
   "metadata": {},
   "outputs": [],
   "source": [
    "def isempty(list):\n",
    "    if len(x)==0 : return True\n",
    "    else: return False"
   ]
  },
  {
   "cell_type": "code",
   "execution_count": 183,
   "id": "1584a208",
   "metadata": {},
   "outputs": [
    {
     "data": {
      "text/plain": [
       "False"
      ]
     },
     "execution_count": 183,
     "metadata": {},
     "output_type": "execute_result"
    }
   ],
   "source": [
    "isempty(x)"
   ]
  },
  {
   "cell_type": "code",
   "execution_count": 185,
   "id": "d470f3ed",
   "metadata": {},
   "outputs": [
    {
     "data": {
      "text/plain": [
       "[2, 3]"
      ]
     },
     "execution_count": 185,
     "metadata": {},
     "output_type": "execute_result"
    }
   ],
   "source": [
    "x.remove(1)\n",
    "x"
   ]
  },
  {
   "cell_type": "code",
   "execution_count": 186,
   "id": "6e94b3cc",
   "metadata": {},
   "outputs": [
    {
     "data": {
      "text/plain": [
       "['Khaled', 'Ayamn', 'Ali', 'Ahmed', 'Ali', 'tamer', 'Ali', 'omar']"
      ]
     },
     "execution_count": 186,
     "metadata": {},
     "output_type": "execute_result"
    }
   ],
   "source": [
    "students.reverse()\n",
    "students"
   ]
  },
  {
   "cell_type": "code",
   "execution_count": 187,
   "id": "df5e0585",
   "metadata": {},
   "outputs": [],
   "source": [
    "names=[\"omar\",\"Ali\",\"mahmoud\"]"
   ]
  },
  {
   "cell_type": "code",
   "execution_count": 188,
   "id": "f5c1cfb6",
   "metadata": {},
   "outputs": [
    {
     "data": {
      "text/plain": [
       "[]"
      ]
     },
     "execution_count": 188,
     "metadata": {},
     "output_type": "execute_result"
    }
   ],
   "source": [
    "names.clear()\n",
    "names"
   ]
  },
  {
   "cell_type": "code",
   "execution_count": 190,
   "id": "8f118744",
   "metadata": {},
   "outputs": [],
   "source": [
    "del(names)"
   ]
  },
  {
   "cell_type": "code",
   "execution_count": 191,
   "id": "e89b741d",
   "metadata": {},
   "outputs": [
    {
     "ename": "NameError",
     "evalue": "name 'names' is not defined",
     "output_type": "error",
     "traceback": [
      "\u001b[1;31m---------------------------------------------------------------------------\u001b[0m",
      "\u001b[1;31mNameError\u001b[0m                                 Traceback (most recent call last)",
      "Cell \u001b[1;32mIn[191], line 1\u001b[0m\n\u001b[1;32m----> 1\u001b[0m \u001b[38;5;28;01mdel\u001b[39;00m names\n",
      "\u001b[1;31mNameError\u001b[0m: name 'names' is not defined"
     ]
    }
   ],
   "source": [
    "del names"
   ]
  },
  {
   "cell_type": "code",
   "execution_count": 193,
   "id": "1c74fee8",
   "metadata": {},
   "outputs": [
    {
     "data": {
      "text/plain": [
       "[1, 2, 3, 4]"
      ]
     },
     "execution_count": 193,
     "metadata": {},
     "output_type": "execute_result"
    }
   ],
   "source": [
    "x=[1,2,3,4]\n",
    "y1=x[:]\n",
    "y1"
   ]
  },
  {
   "cell_type": "code",
   "execution_count": 194,
   "id": "3714c038",
   "metadata": {},
   "outputs": [
    {
     "data": {
      "text/plain": [
       "[1, 2, 3, 4]"
      ]
     },
     "execution_count": 194,
     "metadata": {},
     "output_type": "execute_result"
    }
   ],
   "source": [
    "x"
   ]
  },
  {
   "cell_type": "code",
   "execution_count": 197,
   "id": "7d255ce3",
   "metadata": {},
   "outputs": [
    {
     "data": {
      "text/plain": [
       "False"
      ]
     },
     "execution_count": 197,
     "metadata": {},
     "output_type": "execute_result"
    }
   ],
   "source": [
    "y1 is x"
   ]
  },
  {
   "cell_type": "code",
   "execution_count": 198,
   "id": "93b94ef4",
   "metadata": {},
   "outputs": [
    {
     "name": "stdout",
     "output_type": "stream",
     "text": [
      "y1 is : [1, 2, 3, 4]\n",
      "y1 is : [1, 2, 3, 100]\n",
      "x is : [1, 2, 3, 4]\n"
     ]
    }
   ],
   "source": [
    "print(\"y1 is :\",y1)\n",
    "y1[-1]=100\n",
    "print(\"y1 is :\",y1)\n",
    "print(\"x is :\",x)"
   ]
  },
  {
   "cell_type": "code",
   "execution_count": 201,
   "id": "bd4052f2",
   "metadata": {},
   "outputs": [],
   "source": [
    "x=[1,2,3,4]\n",
    "y=x"
   ]
  },
  {
   "cell_type": "code",
   "execution_count": 202,
   "id": "00eab799",
   "metadata": {},
   "outputs": [
    {
     "data": {
      "text/plain": [
       "[1, 2, 3, 4]"
      ]
     },
     "execution_count": 202,
     "metadata": {},
     "output_type": "execute_result"
    }
   ],
   "source": [
    "x"
   ]
  },
  {
   "cell_type": "code",
   "execution_count": 203,
   "id": "7c3bc8ef",
   "metadata": {},
   "outputs": [
    {
     "data": {
      "text/plain": [
       "[1, 2, 3, 4]"
      ]
     },
     "execution_count": 203,
     "metadata": {},
     "output_type": "execute_result"
    }
   ],
   "source": [
    "y"
   ]
  },
  {
   "cell_type": "code",
   "execution_count": 204,
   "id": "d7d1f9e0",
   "metadata": {},
   "outputs": [
    {
     "data": {
      "text/plain": [
       "True"
      ]
     },
     "execution_count": 204,
     "metadata": {},
     "output_type": "execute_result"
    }
   ],
   "source": [
    "y is x"
   ]
  },
  {
   "cell_type": "code",
   "execution_count": 205,
   "id": "f91d1e6b",
   "metadata": {},
   "outputs": [],
   "source": [
    "x[-1]=60"
   ]
  },
  {
   "cell_type": "code",
   "execution_count": 206,
   "id": "125c86e8",
   "metadata": {},
   "outputs": [
    {
     "data": {
      "text/plain": [
       "[1, 2, 3, 60]"
      ]
     },
     "execution_count": 206,
     "metadata": {},
     "output_type": "execute_result"
    }
   ],
   "source": [
    "y"
   ]
  },
  {
   "cell_type": "code",
   "execution_count": 207,
   "id": "0347639a",
   "metadata": {},
   "outputs": [
    {
     "data": {
      "text/plain": [
       "[1, 2, 3, 60]"
      ]
     },
     "execution_count": 207,
     "metadata": {},
     "output_type": "execute_result"
    }
   ],
   "source": [
    "x"
   ]
  },
  {
   "cell_type": "code",
   "execution_count": 208,
   "id": "d0641365",
   "metadata": {},
   "outputs": [],
   "source": [
    "x=[1,2,3,4]\n",
    "y1=x[:]"
   ]
  },
  {
   "cell_type": "code",
   "execution_count": 209,
   "id": "26f8df20",
   "metadata": {},
   "outputs": [
    {
     "data": {
      "text/plain": [
       "[1, 2, 3, 4]"
      ]
     },
     "execution_count": 209,
     "metadata": {},
     "output_type": "execute_result"
    }
   ],
   "source": [
    "x"
   ]
  },
  {
   "cell_type": "code",
   "execution_count": 210,
   "id": "287ad854",
   "metadata": {},
   "outputs": [
    {
     "data": {
      "text/plain": [
       "[1, 2, 3, 4]"
      ]
     },
     "execution_count": 210,
     "metadata": {},
     "output_type": "execute_result"
    }
   ],
   "source": [
    "y1"
   ]
  },
  {
   "cell_type": "code",
   "execution_count": 211,
   "id": "29cc9cea",
   "metadata": {},
   "outputs": [],
   "source": [
    "x[-1]=55"
   ]
  },
  {
   "cell_type": "code",
   "execution_count": 212,
   "id": "85679ae9",
   "metadata": {},
   "outputs": [
    {
     "data": {
      "text/plain": [
       "[1, 2, 3, 55]"
      ]
     },
     "execution_count": 212,
     "metadata": {},
     "output_type": "execute_result"
    }
   ],
   "source": [
    "x"
   ]
  },
  {
   "cell_type": "code",
   "execution_count": 214,
   "id": "a8f09e89",
   "metadata": {},
   "outputs": [
    {
     "data": {
      "text/plain": [
       "[1, 2, 3, 4]"
      ]
     },
     "execution_count": 214,
     "metadata": {},
     "output_type": "execute_result"
    }
   ],
   "source": [
    "y1"
   ]
  },
  {
   "cell_type": "code",
   "execution_count": 215,
   "id": "93ba6809",
   "metadata": {},
   "outputs": [
    {
     "name": "stdout",
     "output_type": "stream",
     "text": [
      "y is : [1, 2, 3, 60]\n",
      "y is : [1, 2, 3, 100]\n",
      "x is : [1, 2, 3, 55]\n"
     ]
    }
   ],
   "source": [
    "print(\"y is :\",y)\n",
    "y[-1]=100\n",
    "print(\"y is :\",y)\n",
    "print(\"x is :\",x)"
   ]
  },
  {
   "cell_type": "code",
   "execution_count": 216,
   "id": "d866a06c",
   "metadata": {},
   "outputs": [
    {
     "data": {
      "text/plain": [
       "[1, 2, 3, 4]"
      ]
     },
     "execution_count": 216,
     "metadata": {},
     "output_type": "execute_result"
    }
   ],
   "source": [
    "x=[1,2,3,4]\n",
    "y2=list(x)\n",
    "y2"
   ]
  },
  {
   "cell_type": "code",
   "execution_count": 217,
   "id": "b01dc22e",
   "metadata": {},
   "outputs": [
    {
     "data": {
      "text/plain": [
       "False"
      ]
     },
     "execution_count": 217,
     "metadata": {},
     "output_type": "execute_result"
    }
   ],
   "source": [
    "x is y2"
   ]
  },
  {
   "cell_type": "code",
   "execution_count": 229,
   "id": "b78e4045",
   "metadata": {},
   "outputs": [],
   "source": [
    "import copy\n",
    "x=[1,2,3,4]"
   ]
  },
  {
   "cell_type": "code",
   "execution_count": 230,
   "id": "6661c080",
   "metadata": {},
   "outputs": [
    {
     "data": {
      "text/plain": [
       "[1, 2, 3, 4]"
      ]
     },
     "execution_count": 230,
     "metadata": {},
     "output_type": "execute_result"
    }
   ],
   "source": [
    "y3=copy.copy(x)\n",
    "y3"
   ]
  },
  {
   "cell_type": "code",
   "execution_count": 231,
   "id": "a553c6dc",
   "metadata": {},
   "outputs": [
    {
     "data": {
      "text/plain": [
       "False"
      ]
     },
     "execution_count": 231,
     "metadata": {},
     "output_type": "execute_result"
    }
   ],
   "source": [
    "y3 is x"
   ]
  },
  {
   "cell_type": "code",
   "execution_count": 232,
   "id": "05903628",
   "metadata": {},
   "outputs": [],
   "source": [
    "y4=x.copy()"
   ]
  },
  {
   "cell_type": "code",
   "execution_count": 233,
   "id": "a9f67762",
   "metadata": {},
   "outputs": [
    {
     "data": {
      "text/plain": [
       "[1, 2, 3, 4]"
      ]
     },
     "execution_count": 233,
     "metadata": {},
     "output_type": "execute_result"
    }
   ],
   "source": [
    "x"
   ]
  },
  {
   "cell_type": "code",
   "execution_count": 235,
   "id": "33ccaf05",
   "metadata": {},
   "outputs": [
    {
     "data": {
      "text/plain": [
       "[1, 2, 3, 4]"
      ]
     },
     "execution_count": 235,
     "metadata": {},
     "output_type": "execute_result"
    }
   ],
   "source": [
    "y4"
   ]
  },
  {
   "cell_type": "code",
   "execution_count": 236,
   "id": "c06dca3a",
   "metadata": {},
   "outputs": [
    {
     "data": {
      "text/plain": [
       "False"
      ]
     },
     "execution_count": 236,
     "metadata": {},
     "output_type": "execute_result"
    }
   ],
   "source": [
    "x is y4"
   ]
  },
  {
   "cell_type": "code",
   "execution_count": 237,
   "id": "cf3f5ac8",
   "metadata": {},
   "outputs": [],
   "source": [
    "x[-1]=99"
   ]
  },
  {
   "cell_type": "code",
   "execution_count": 238,
   "id": "5e799040",
   "metadata": {},
   "outputs": [
    {
     "data": {
      "text/plain": [
       "[1, 2, 3, 99]"
      ]
     },
     "execution_count": 238,
     "metadata": {},
     "output_type": "execute_result"
    }
   ],
   "source": [
    "x"
   ]
  },
  {
   "cell_type": "code",
   "execution_count": 240,
   "id": "37ac0eab",
   "metadata": {},
   "outputs": [
    {
     "data": {
      "text/plain": [
       "[1, 2, 3, 4]"
      ]
     },
     "execution_count": 240,
     "metadata": {},
     "output_type": "execute_result"
    }
   ],
   "source": [
    "y4"
   ]
  },
  {
   "cell_type": "code",
   "execution_count": 242,
   "id": "a0abcb7e",
   "metadata": {},
   "outputs": [
    {
     "data": {
      "text/plain": [
       "[1, 2, 3, 4]"
      ]
     },
     "execution_count": 242,
     "metadata": {},
     "output_type": "execute_result"
    }
   ],
   "source": [
    "x=[1,2,3,4]\n",
    "y4=copy.deepcopy(x)\n",
    "y4"
   ]
  },
  {
   "cell_type": "code",
   "execution_count": 243,
   "id": "7f31c410",
   "metadata": {},
   "outputs": [
    {
     "data": {
      "text/plain": [
       "False"
      ]
     },
     "execution_count": 243,
     "metadata": {},
     "output_type": "execute_result"
    }
   ],
   "source": [
    "x is y4"
   ]
  },
  {
   "cell_type": "code",
   "execution_count": 245,
   "id": "b9342349",
   "metadata": {},
   "outputs": [
    {
     "name": "stdout",
     "output_type": "stream",
     "text": [
      "x is  [1, 2, 3, 4]\n",
      "y is  [1, 2, 3, 7]\n"
     ]
    }
   ],
   "source": [
    "y=copy.copy(x)\n",
    "y[-1]=7\n",
    "print(\"x is \",x)\n",
    "print(\"y is \",y)"
   ]
  },
  {
   "cell_type": "code",
   "execution_count": 248,
   "id": "8be41e16",
   "metadata": {},
   "outputs": [
    {
     "name": "stdout",
     "output_type": "stream",
     "text": [
      "x is  [1, 2, 3, 4, 5]\n",
      "y is  [1, 2, 3, 4, 7]\n"
     ]
    }
   ],
   "source": [
    "x=[1,2,3,4,5]\n",
    "y=copy.deepcopy(x)\n",
    "y[-1]=7\n",
    "print(\"x is \",x)\n",
    "print(\"y is \",y)"
   ]
  },
  {
   "cell_type": "code",
   "execution_count": null,
   "id": "842a77ca",
   "metadata": {},
   "outputs": [],
   "source": [
    "x=[2,3,4,5]\n",
    "print(\"max of x:\",max(x))\n",
    "print(\"min of x:\",min(x))"
   ]
  },
  {
   "cell_type": "code",
   "execution_count": null,
   "id": "e7c5a244",
   "metadata": {},
   "outputs": [],
   "source": [
    "x=[1,2,3,4]\n",
    "type(x)"
   ]
  },
  {
   "cell_type": "code",
   "execution_count": null,
   "id": "4af1a996",
   "metadata": {},
   "outputs": [],
   "source": [
    "x[-1]=100\n",
    "x"
   ]
  },
  {
   "cell_type": "markdown",
   "id": "b191ad71",
   "metadata": {},
   "source": [
    "### Shorthand / compresssed list"
   ]
  },
  {
   "cell_type": "code",
   "execution_count": 249,
   "id": "bd8dc500",
   "metadata": {},
   "outputs": [
    {
     "data": {
      "text/plain": [
       "[range(0, 10)]"
      ]
     },
     "execution_count": 249,
     "metadata": {},
     "output_type": "execute_result"
    }
   ],
   "source": [
    "x=[range(10)]\n",
    "x"
   ]
  },
  {
   "cell_type": "code",
   "execution_count": 250,
   "id": "a1e7f116",
   "metadata": {},
   "outputs": [
    {
     "data": {
      "text/plain": [
       "[0, 1, 2, 3, 4, 5, 6, 7, 8, 9]"
      ]
     },
     "execution_count": 250,
     "metadata": {},
     "output_type": "execute_result"
    }
   ],
   "source": [
    "x=[i for i in range(10)]\n",
    "x"
   ]
  },
  {
   "cell_type": "code",
   "execution_count": 251,
   "id": "d77ad4ad",
   "metadata": {},
   "outputs": [
    {
     "data": {
      "text/plain": [
       "['Mahmoud', 'Omar', 'youssef']"
      ]
     },
     "execution_count": 251,
     "metadata": {},
     "output_type": "execute_result"
    }
   ],
   "source": [
    "x=[\"Ahmed\", \"Ali\", \"Alaa\",\"Mahmoud\",\"Omar\",\"youssef\"]\n",
    "newlist = [ i for i in x if \"o\".upper() in i.upper() ]\n",
    "newlist"
   ]
  },
  {
   "cell_type": "code",
   "execution_count": 252,
   "id": "c956f89a",
   "metadata": {},
   "outputs": [
    {
     "data": {
      "text/plain": [
       "[4, 6, 8]"
      ]
     },
     "execution_count": 252,
     "metadata": {},
     "output_type": "execute_result"
    }
   ],
   "source": [
    "x=[i for i in range(4,10,2)]\n",
    "x"
   ]
  },
  {
   "cell_type": "code",
   "execution_count": 253,
   "id": "ef97d033",
   "metadata": {},
   "outputs": [
    {
     "data": {
      "text/plain": [
       "[16, 36, 64]"
      ]
     },
     "execution_count": 253,
     "metadata": {},
     "output_type": "execute_result"
    }
   ],
   "source": [
    "x=[i*i for i in range(4,10,2)]\n",
    "x"
   ]
  },
  {
   "cell_type": "code",
   "execution_count": 257,
   "id": "16a5c739",
   "metadata": {},
   "outputs": [
    {
     "data": {
      "text/plain": [
       "[18, 48, 64, 42]"
      ]
     },
     "execution_count": 257,
     "metadata": {},
     "output_type": "execute_result"
    }
   ],
   "source": [
    "x=[i*j for i,j in [(2,9),(6,8),(8,8),(6,7)]]\n",
    "x"
   ]
  },
  {
   "cell_type": "code",
   "execution_count": 259,
   "id": "f8d7e799",
   "metadata": {},
   "outputs": [
    {
     "data": {
      "text/plain": [
       "['Khaled', 'Ayamn', 'Ali', 'Ahmed', 'Ali', 'tamer', 'Ali', 'omar']"
      ]
     },
     "execution_count": 259,
     "metadata": {},
     "output_type": "execute_result"
    }
   ],
   "source": [
    "students"
   ]
  },
  {
   "cell_type": "code",
   "execution_count": 260,
   "id": "192507f6",
   "metadata": {},
   "outputs": [
    {
     "data": {
      "text/plain": [
       "['Khaled', 'Ayamn', 'Ali', 'Ahmed', 'Ali', 'tamer', 'Ali', 'omar']"
      ]
     },
     "execution_count": 260,
     "metadata": {},
     "output_type": "execute_result"
    }
   ],
   "source": [
    "#compressed list\n",
    "def get_names(names, letter):\n",
    "    containing = [x for x in names if letter.upper() in x.upper()]\n",
    "    return containing\n",
    "get_names(students,\"A\")"
   ]
  },
  {
   "cell_type": "code",
   "execution_count": 263,
   "id": "5fb15d18",
   "metadata": {},
   "outputs": [
    {
     "data": {
      "text/plain": [
       "[['Nancy', 'Engineer'],\n",
       " ['Ahmed', 'CEO'],\n",
       " ['Farida', 'hr'],\n",
       " ['Rayan', 'Accountant']]"
      ]
     },
     "execution_count": 263,
     "metadata": {},
     "output_type": "execute_result"
    }
   ],
   "source": [
    "data=[(\"Nancy\",\"Engineer\",37),(\"Ahmed\",\"CEO\",40),(\"Farida\",\"hr\",27),(\"Rayan\",\"Accountant\",24)]\n",
    "name=[ [x,y] for x,y,z in data]\n",
    "name"
   ]
  },
  {
   "cell_type": "markdown",
   "id": "4b57e4bc",
   "metadata": {},
   "source": [
    "#### Tuples"
   ]
  },
  {
   "cell_type": "code",
   "execution_count": 264,
   "id": "bfa7a620",
   "metadata": {},
   "outputs": [
    {
     "data": {
      "text/plain": [
       "tuple"
      ]
     },
     "execution_count": 264,
     "metadata": {},
     "output_type": "execute_result"
    }
   ],
   "source": [
    "x=(1,2,3,4)\n",
    "type(x)"
   ]
  },
  {
   "cell_type": "code",
   "execution_count": 265,
   "id": "5c44c286",
   "metadata": {},
   "outputs": [
    {
     "data": {
      "text/plain": [
       "tuple"
      ]
     },
     "execution_count": 265,
     "metadata": {},
     "output_type": "execute_result"
    }
   ],
   "source": [
    "x=(1,)\n",
    "type(x)"
   ]
  },
  {
   "cell_type": "code",
   "execution_count": 266,
   "id": "928e751a",
   "metadata": {},
   "outputs": [
    {
     "data": {
      "text/plain": [
       "(1, 2, 3)"
      ]
     },
     "execution_count": 266,
     "metadata": {},
     "output_type": "execute_result"
    }
   ],
   "source": [
    "x=(1,2,3,4)\n",
    "x[:-1]"
   ]
  },
  {
   "cell_type": "code",
   "execution_count": 267,
   "id": "bf3d0d03",
   "metadata": {},
   "outputs": [
    {
     "data": {
      "text/plain": [
       "4"
      ]
     },
     "execution_count": 267,
     "metadata": {},
     "output_type": "execute_result"
    }
   ],
   "source": [
    "x[-1]"
   ]
  },
  {
   "cell_type": "code",
   "execution_count": 268,
   "id": "d4507bc0",
   "metadata": {},
   "outputs": [
    {
     "data": {
      "text/plain": [
       "(2, 3)"
      ]
     },
     "execution_count": 268,
     "metadata": {},
     "output_type": "execute_result"
    }
   ],
   "source": [
    "x[1:3]"
   ]
  },
  {
   "cell_type": "code",
   "execution_count": 269,
   "id": "aa6ed5c2",
   "metadata": {},
   "outputs": [
    {
     "data": {
      "text/plain": [
       "(1, 2, 3, 4, [6])"
      ]
     },
     "execution_count": 269,
     "metadata": {},
     "output_type": "execute_result"
    }
   ],
   "source": [
    "x=(1,2,3,4,[6])\n",
    "x"
   ]
  },
  {
   "cell_type": "code",
   "execution_count": 270,
   "id": "b99ee158",
   "metadata": {},
   "outputs": [
    {
     "data": {
      "text/plain": [
       "tuple"
      ]
     },
     "execution_count": 270,
     "metadata": {},
     "output_type": "execute_result"
    }
   ],
   "source": [
    "type(x)"
   ]
  },
  {
   "cell_type": "code",
   "execution_count": 271,
   "id": "6efb043a",
   "metadata": {},
   "outputs": [
    {
     "data": {
      "text/plain": [
       "(1, 2, 3, 4, [100])"
      ]
     },
     "execution_count": 271,
     "metadata": {},
     "output_type": "execute_result"
    }
   ],
   "source": [
    "x[-1][0]=100\n",
    "x"
   ]
  },
  {
   "cell_type": "code",
   "execution_count": 272,
   "id": "684856c5",
   "metadata": {},
   "outputs": [
    {
     "data": {
      "text/plain": [
       "(1, 2, 3, 4, [100, 200, 300])"
      ]
     },
     "execution_count": 272,
     "metadata": {},
     "output_type": "execute_result"
    }
   ],
   "source": [
    "x[-1].extend([200,300])\n",
    "x"
   ]
  },
  {
   "cell_type": "code",
   "execution_count": 273,
   "id": "0245de2a",
   "metadata": {},
   "outputs": [
    {
     "data": {
      "text/plain": [
       "['apple', 'kiwi', 'cherry']"
      ]
     },
     "execution_count": 273,
     "metadata": {},
     "output_type": "execute_result"
    }
   ],
   "source": [
    "#Convert tupe to list and performing operations\n",
    "a = (\"apple\", \"banana\", \"cherry\")\n",
    "y = __builtins__.list(a)\n",
    "y[1] = \"kiwi\"\n",
    "y"
   ]
  },
  {
   "cell_type": "code",
   "execution_count": 274,
   "id": "19d810fa",
   "metadata": {},
   "outputs": [],
   "source": [
    "x = tuple(y)"
   ]
  },
  {
   "cell_type": "code",
   "execution_count": 275,
   "id": "b85d3b0f",
   "metadata": {},
   "outputs": [],
   "source": [
    "x={\"Ali\",\"Ali\",\"omar\"}"
   ]
  },
  {
   "cell_type": "markdown",
   "id": "82202a15",
   "metadata": {},
   "source": [
    "#### Dictionaries"
   ]
  },
  {
   "cell_type": "code",
   "execution_count": 276,
   "id": "0e9b5cb3",
   "metadata": {},
   "outputs": [
    {
     "data": {
      "text/plain": [
       "{'name': 'ahmed', 'age': 27, 'Address': 'benha'}"
      ]
     },
     "execution_count": 276,
     "metadata": {},
     "output_type": "execute_result"
    }
   ],
   "source": [
    "d1={\"name\":\"ahmed\",\"age\":27, \"Address\":\"benha\"}\n",
    "d1"
   ]
  },
  {
   "cell_type": "code",
   "execution_count": 277,
   "id": "b2d94292",
   "metadata": {},
   "outputs": [
    {
     "data": {
      "text/plain": [
       "'ahmed'"
      ]
     },
     "execution_count": 277,
     "metadata": {},
     "output_type": "execute_result"
    }
   ],
   "source": [
    "d1[\"name\"]"
   ]
  },
  {
   "cell_type": "code",
   "execution_count": 279,
   "id": "61b16b14",
   "metadata": {},
   "outputs": [
    {
     "data": {
      "text/plain": [
       "{1: 'ahmed', 1.5: 27}"
      ]
     },
     "execution_count": 279,
     "metadata": {},
     "output_type": "execute_result"
    }
   ],
   "source": [
    "d1={1:\"ahmed\",1.5:27}\n",
    "d1"
   ]
  },
  {
   "cell_type": "code",
   "execution_count": 280,
   "id": "248995fe",
   "metadata": {},
   "outputs": [
    {
     "data": {
      "text/plain": [
       "27"
      ]
     },
     "execution_count": 280,
     "metadata": {},
     "output_type": "execute_result"
    }
   ],
   "source": [
    "d1[1.5]"
   ]
  },
  {
   "cell_type": "code",
   "execution_count": 281,
   "id": "47d28e2f",
   "metadata": {},
   "outputs": [
    {
     "data": {
      "text/plain": [
       "dict"
      ]
     },
     "execution_count": 281,
     "metadata": {},
     "output_type": "execute_result"
    }
   ],
   "source": [
    "type(d1)"
   ]
  },
  {
   "cell_type": "code",
   "execution_count": 282,
   "id": "bbc6afee",
   "metadata": {},
   "outputs": [
    {
     "data": {
      "text/plain": [
       "dict_keys([1, 1.5])"
      ]
     },
     "execution_count": 282,
     "metadata": {},
     "output_type": "execute_result"
    }
   ],
   "source": [
    "d1.keys()"
   ]
  },
  {
   "cell_type": "code",
   "execution_count": 283,
   "id": "b93abc3a",
   "metadata": {},
   "outputs": [
    {
     "data": {
      "text/plain": [
       "dict_values(['ahmed', 27])"
      ]
     },
     "execution_count": 283,
     "metadata": {},
     "output_type": "execute_result"
    }
   ],
   "source": [
    "d1.values()"
   ]
  },
  {
   "cell_type": "code",
   "execution_count": 284,
   "id": "e2a244b9",
   "metadata": {},
   "outputs": [
    {
     "data": {
      "text/plain": [
       "dict_items([(1, 'ahmed'), (1.5, 27)])"
      ]
     },
     "execution_count": 284,
     "metadata": {},
     "output_type": "execute_result"
    }
   ],
   "source": [
    "d1.items()"
   ]
  },
  {
   "cell_type": "code",
   "execution_count": 285,
   "id": "d86f386a",
   "metadata": {},
   "outputs": [
    {
     "data": {
      "text/plain": [
       "{'one': 1, 'two': 2, 'three': 3}"
      ]
     },
     "execution_count": 285,
     "metadata": {},
     "output_type": "execute_result"
    }
   ],
   "source": [
    "#first method\n",
    "d1={'one':1,'two':2,'three':3}\n",
    "d1"
   ]
  },
  {
   "cell_type": "code",
   "execution_count": 286,
   "id": "c39647c3",
   "metadata": {},
   "outputs": [
    {
     "data": {
      "text/plain": [
       "{'one': [1, 2, 'ahmed'], 'two': 2, 'three': 3}"
      ]
     },
     "execution_count": 286,
     "metadata": {},
     "output_type": "execute_result"
    }
   ],
   "source": [
    "d1={'one':[1,2,\"ahmed\"],'two':2,'three':3}\n",
    "d1"
   ]
  },
  {
   "cell_type": "code",
   "execution_count": 287,
   "id": "b2b5737e",
   "metadata": {},
   "outputs": [
    {
     "data": {
      "text/plain": [
       "dict_keys(['one', 'two', 'three'])"
      ]
     },
     "execution_count": 287,
     "metadata": {},
     "output_type": "execute_result"
    }
   ],
   "source": [
    "d1.keys()"
   ]
  },
  {
   "cell_type": "code",
   "execution_count": 288,
   "id": "daedc8de",
   "metadata": {},
   "outputs": [
    {
     "data": {
      "text/plain": [
       "[1, 2, 'ahmed']"
      ]
     },
     "execution_count": 288,
     "metadata": {},
     "output_type": "execute_result"
    }
   ],
   "source": [
    "d1[\"one\"]"
   ]
  },
  {
   "cell_type": "code",
   "execution_count": 290,
   "id": "9b5cf336",
   "metadata": {},
   "outputs": [
    {
     "data": {
      "text/plain": [
       "{'one': 1, 'two': 2, 'three': 3}"
      ]
     },
     "execution_count": 290,
     "metadata": {},
     "output_type": "execute_result"
    }
   ],
   "source": [
    "#second method\n",
    "d2=dict(one=1,two=2,three=3)\n",
    "d2"
   ]
  },
  {
   "cell_type": "code",
   "execution_count": 291,
   "id": "d75f9de2",
   "metadata": {},
   "outputs": [
    {
     "data": {
      "text/plain": [
       "{'one': [1, 2, 'ahmed'], 'two': 2, 'three': 3}"
      ]
     },
     "execution_count": 291,
     "metadata": {},
     "output_type": "execute_result"
    }
   ],
   "source": [
    "d2=dict(one=[1,2,\"ahmed\"],two=2,three=3)\n",
    "d2"
   ]
  },
  {
   "cell_type": "code",
   "execution_count": 292,
   "id": "6ef268c4",
   "metadata": {},
   "outputs": [
    {
     "data": {
      "text/plain": [
       "{'one': 1, 'two': 2, 'three': 3}"
      ]
     },
     "execution_count": 292,
     "metadata": {},
     "output_type": "execute_result"
    }
   ],
   "source": [
    "#third method\n",
    "d3=dict([('one',1),('two',2),('three',3)])\n",
    "d3"
   ]
  },
  {
   "cell_type": "code",
   "execution_count": 294,
   "id": "1b745a1a",
   "metadata": {},
   "outputs": [],
   "source": [
    "d=zip(['one','two','three'],[1,2,3])"
   ]
  },
  {
   "cell_type": "code",
   "execution_count": 296,
   "id": "1bfc2080",
   "metadata": {},
   "outputs": [
    {
     "data": {
      "text/plain": [
       "[('one', 1), ('two', 2), ('three', 3)]"
      ]
     },
     "execution_count": 296,
     "metadata": {},
     "output_type": "execute_result"
    }
   ],
   "source": [
    "list(d)"
   ]
  },
  {
   "cell_type": "code",
   "execution_count": 301,
   "id": "691e4546",
   "metadata": {},
   "outputs": [
    {
     "data": {
      "text/plain": [
       "{'one': 1, 'two': 2, 'three': 3}"
      ]
     },
     "execution_count": 301,
     "metadata": {},
     "output_type": "execute_result"
    }
   ],
   "source": [
    "#fourth method\n",
    "d4=dict(zip(['one','two','three'],[1,2,3]))\n",
    "d4"
   ]
  },
  {
   "cell_type": "code",
   "execution_count": 302,
   "id": "1f830e76",
   "metadata": {},
   "outputs": [
    {
     "data": {
      "text/plain": [
       "{'one': 1, 'two': 2, 'three': 3}"
      ]
     },
     "execution_count": 302,
     "metadata": {},
     "output_type": "execute_result"
    }
   ],
   "source": [
    "#fifth method\n",
    "d5=dict({'one':1,'two':2,'three':3})\n",
    "d5"
   ]
  },
  {
   "cell_type": "code",
   "execution_count": 303,
   "id": "6db151e3",
   "metadata": {},
   "outputs": [
    {
     "name": "stdout",
     "output_type": "stream",
     "text": [
      "True\n"
     ]
    }
   ],
   "source": [
    "print(d3==d4==d5)"
   ]
  },
  {
   "cell_type": "code",
   "execution_count": 306,
   "id": "2f77a4de",
   "metadata": {},
   "outputs": [
    {
     "data": {
      "text/plain": [
       "{'names': ['ali', 'Mostafa'],\n",
       " 'emails': ['Ali@yahoo.com', 'Mostafa@yahoo'],\n",
       " 'Adresses': ['cairo', 'Alex']}"
      ]
     },
     "execution_count": 306,
     "metadata": {},
     "output_type": "execute_result"
    }
   ],
   "source": [
    "students={\"names\":[\"ali\",\"Mostafa\"]  , \"emails\":[\"Ali@yahoo.com\",\"Mostafa@yahoo\"],\"Adresses\":[\"cairo\",\"Alex\"]}\n",
    "students"
   ]
  },
  {
   "cell_type": "code",
   "execution_count": 307,
   "id": "a035dd60",
   "metadata": {},
   "outputs": [
    {
     "data": {
      "text/plain": [
       "{'names': ['ali'],\n",
       " 'emails': ['Ali@yahoo.com', 'Mostafa@yahoo'],\n",
       " 'Adresses': ['cairo', 'Alex']}"
      ]
     },
     "execution_count": 307,
     "metadata": {},
     "output_type": "execute_result"
    }
   ],
   "source": [
    "students.update({\"names\":[\"ali\"]})\n",
    "students"
   ]
  },
  {
   "cell_type": "code",
   "execution_count": 308,
   "id": "48700324",
   "metadata": {},
   "outputs": [
    {
     "data": {
      "text/plain": [
       "{'Nancy': 'Engineer', 'Ahmed': 'CEO', 'Farida': 'hr', 'Rayan': 'Accountant'}"
      ]
     },
     "execution_count": 308,
     "metadata": {},
     "output_type": "execute_result"
    }
   ],
   "source": [
    "data=[(\"Nancy\",\"Engineer\",37),(\"Ahmed\",\"CEO\",40),(\"Farida\",\"hr\",27),(\"Rayan\",\"Accountant\",24)]\n",
    "Employee={name:job for name,job,Age in data } \n",
    "Employee"
   ]
  },
  {
   "cell_type": "code",
   "execution_count": 309,
   "id": "c6cc09b7",
   "metadata": {},
   "outputs": [
    {
     "name": "stdout",
     "output_type": "stream",
     "text": [
      "Engineer\n"
     ]
    }
   ],
   "source": [
    "print (Employee[\"Nancy\"])"
   ]
  },
  {
   "cell_type": "code",
   "execution_count": 310,
   "id": "0a2664bc",
   "metadata": {},
   "outputs": [
    {
     "name": "stdout",
     "output_type": "stream",
     "text": [
      "Engineer\n"
     ]
    }
   ],
   "source": [
    "print (Employee.get(\"Nancy\"))"
   ]
  },
  {
   "cell_type": "code",
   "execution_count": 311,
   "id": "287ae00e",
   "metadata": {},
   "outputs": [
    {
     "name": "stdout",
     "output_type": "stream",
     "text": [
      "None\n"
     ]
    }
   ],
   "source": [
    "print (Employee.get(\"Nanc\"))"
   ]
  },
  {
   "cell_type": "code",
   "execution_count": 312,
   "id": "24cfbe98",
   "metadata": {},
   "outputs": [
    {
     "name": "stdout",
     "output_type": "stream",
     "text": [
      "Not in my Staff\n"
     ]
    }
   ],
   "source": [
    "print (Employee.get(\"Nanc\",\"Not in my Staff\"))"
   ]
  },
  {
   "cell_type": "code",
   "execution_count": 313,
   "id": "86d27c55",
   "metadata": {},
   "outputs": [
    {
     "name": "stdout",
     "output_type": "stream",
     "text": [
      "Engineer\n"
     ]
    }
   ],
   "source": [
    "print (Employee.get(\"Nancy\",\"Not in my Staff\"))"
   ]
  },
  {
   "cell_type": "code",
   "execution_count": 314,
   "id": "052e9d72",
   "metadata": {},
   "outputs": [
    {
     "name": "stdout",
     "output_type": "stream",
     "text": [
      "Employee as dic is  {'Nancy': 'Engineer', 'Ahmed': 'CEO', 'Farida': 'hr', 'Rayan': 'Accountant'}\n",
      "emp      as dic is  {'Nancy': 'Engineer', 'Ahmed': 'CEO', 'Farida': 'hr', 'Rayan': 'Doctor'}\n"
     ]
    }
   ],
   "source": [
    "import copy\n",
    "emp=Employee.copy()\n",
    "emp[\"Rayan\"]=\"Doctor\"\n",
    "print(\"Employee as dic is \",Employee)\n",
    "print(\"emp      as dic is \",emp)"
   ]
  },
  {
   "cell_type": "code",
   "execution_count": 315,
   "id": "08f8f09e",
   "metadata": {},
   "outputs": [
    {
     "data": {
      "text/plain": [
       "{'Nancy': 'Engineer', 'Ahmed': 'CEO', 'Farida': 'hr', 'Rayan': 'Accountant'}"
      ]
     },
     "execution_count": 315,
     "metadata": {},
     "output_type": "execute_result"
    }
   ],
   "source": [
    "X=Employee.copy()\n",
    "X"
   ]
  },
  {
   "cell_type": "code",
   "execution_count": 316,
   "id": "38ad6dd8",
   "metadata": {},
   "outputs": [
    {
     "data": {
      "text/plain": [
       "'Accountant'"
      ]
     },
     "execution_count": 316,
     "metadata": {},
     "output_type": "execute_result"
    }
   ],
   "source": [
    "X[\"Rayan\"]"
   ]
  },
  {
   "cell_type": "code",
   "execution_count": 317,
   "id": "183ae408",
   "metadata": {},
   "outputs": [],
   "source": [
    "X[\"Rayan\"]=\"Manager\""
   ]
  },
  {
   "cell_type": "code",
   "execution_count": 318,
   "id": "911f8ff5",
   "metadata": {},
   "outputs": [],
   "source": [
    "X.clear()"
   ]
  },
  {
   "cell_type": "code",
   "execution_count": 319,
   "id": "46f985af",
   "metadata": {},
   "outputs": [
    {
     "data": {
      "text/plain": [
       "{}"
      ]
     },
     "execution_count": 319,
     "metadata": {},
     "output_type": "execute_result"
    }
   ],
   "source": [
    "X"
   ]
  },
  {
   "cell_type": "code",
   "execution_count": 320,
   "id": "75bc0dd2",
   "metadata": {},
   "outputs": [],
   "source": [
    "del(X)"
   ]
  },
  {
   "cell_type": "code",
   "execution_count": 322,
   "id": "d7f32a50",
   "metadata": {},
   "outputs": [
    {
     "ename": "NameError",
     "evalue": "name 'X' is not defined",
     "output_type": "error",
     "traceback": [
      "\u001b[1;31m---------------------------------------------------------------------------\u001b[0m",
      "\u001b[1;31mNameError\u001b[0m                                 Traceback (most recent call last)",
      "Cell \u001b[1;32mIn[322], line 1\u001b[0m\n\u001b[1;32m----> 1\u001b[0m \u001b[43mX\u001b[49m\n",
      "\u001b[1;31mNameError\u001b[0m: name 'X' is not defined"
     ]
    }
   ],
   "source": [
    "X"
   ]
  },
  {
   "cell_type": "markdown",
   "id": "08253276",
   "metadata": {},
   "source": [
    "### Object Oriented in python"
   ]
  },
  {
   "cell_type": "code",
   "execution_count": 336,
   "id": "44dd48fb",
   "metadata": {},
   "outputs": [],
   "source": [
    "#Creating The Class without constructor\n",
    "class student:\n",
    "    name =\"Ali\"\n",
    "    email=\"Ali@yahoo\"\n",
    "    def  name_length(self):\n",
    "        return len(self.name)"
   ]
  },
  {
   "cell_type": "code",
   "execution_count": 337,
   "id": "c57a31a3",
   "metadata": {},
   "outputs": [],
   "source": [
    "#Creating The Object ( with no parameteres because there are no constructors)\n",
    "a = student()"
   ]
  },
  {
   "cell_type": "code",
   "execution_count": 338,
   "id": "2534bb66",
   "metadata": {},
   "outputs": [
    {
     "data": {
      "text/plain": [
       "'Ali'"
      ]
     },
     "execution_count": 338,
     "metadata": {},
     "output_type": "execute_result"
    }
   ],
   "source": [
    "a.name"
   ]
  },
  {
   "cell_type": "code",
   "execution_count": 339,
   "id": "39494772",
   "metadata": {},
   "outputs": [
    {
     "data": {
      "text/plain": [
       "'Ali@yahoo'"
      ]
     },
     "execution_count": 339,
     "metadata": {},
     "output_type": "execute_result"
    }
   ],
   "source": [
    "a.email"
   ]
  },
  {
   "cell_type": "code",
   "execution_count": 340,
   "id": "3ccb73d3",
   "metadata": {},
   "outputs": [],
   "source": [
    "b= student()"
   ]
  },
  {
   "cell_type": "code",
   "execution_count": 334,
   "id": "2b0fb847",
   "metadata": {},
   "outputs": [
    {
     "data": {
      "text/plain": [
       "'Ali'"
      ]
     },
     "execution_count": 334,
     "metadata": {},
     "output_type": "execute_result"
    }
   ],
   "source": [
    "b.name"
   ]
  },
  {
   "cell_type": "code",
   "execution_count": 341,
   "id": "93eb00a1",
   "metadata": {},
   "outputs": [
    {
     "data": {
      "text/plain": [
       "3"
      ]
     },
     "execution_count": 341,
     "metadata": {},
     "output_type": "execute_result"
    }
   ],
   "source": [
    "a.name_length()"
   ]
  },
  {
   "cell_type": "code",
   "execution_count": 335,
   "id": "2c2b581f",
   "metadata": {},
   "outputs": [
    {
     "data": {
      "text/plain": [
       "'Ali@yahoo'"
      ]
     },
     "execution_count": 335,
     "metadata": {},
     "output_type": "execute_result"
    }
   ],
   "source": [
    "b.email"
   ]
  },
  {
   "cell_type": "code",
   "execution_count": 342,
   "id": "03843bcb",
   "metadata": {},
   "outputs": [
    {
     "data": {
      "text/plain": [
       "3"
      ]
     },
     "execution_count": 342,
     "metadata": {},
     "output_type": "execute_result"
    }
   ],
   "source": [
    "b.name_length()"
   ]
  },
  {
   "cell_type": "code",
   "execution_count": 343,
   "id": "d63ca9a3",
   "metadata": {},
   "outputs": [],
   "source": [
    "#Creating The Class with constructor\n",
    "class student:\n",
    "    name =\"Ali\"\n",
    "    email=\"Ali@yahoo\"\n",
    "    def __init__(self,name,email):\n",
    "        self.name=name\n",
    "        self.email=email\n",
    "    def  name_length(self):\n",
    "        return len(self.name)"
   ]
  },
  {
   "cell_type": "code",
   "execution_count": 344,
   "id": "914beea0",
   "metadata": {},
   "outputs": [],
   "source": [
    "b= student (\"Ali\",\"Ali@yahoo\")    "
   ]
  },
  {
   "cell_type": "code",
   "execution_count": 345,
   "id": "873c91da",
   "metadata": {},
   "outputs": [
    {
     "data": {
      "text/plain": [
       "3"
      ]
     },
     "execution_count": 345,
     "metadata": {},
     "output_type": "execute_result"
    }
   ],
   "source": [
    "b.name_length()"
   ]
  },
  {
   "cell_type": "code",
   "execution_count": 346,
   "id": "1fae5067",
   "metadata": {},
   "outputs": [],
   "source": [
    "c= student(\"Khaled\",\"Khaled@yahoo.com\")"
   ]
  },
  {
   "cell_type": "code",
   "execution_count": 347,
   "id": "9f464d62",
   "metadata": {},
   "outputs": [
    {
     "data": {
      "text/plain": [
       "'Khaled@yahoo.com'"
      ]
     },
     "execution_count": 347,
     "metadata": {},
     "output_type": "execute_result"
    }
   ],
   "source": [
    "c.email"
   ]
  },
  {
   "cell_type": "code",
   "execution_count": 348,
   "id": "a8ecbc2c",
   "metadata": {},
   "outputs": [
    {
     "data": {
      "text/plain": [
       "6"
      ]
     },
     "execution_count": 348,
     "metadata": {},
     "output_type": "execute_result"
    }
   ],
   "source": [
    "c.name_length()"
   ]
  },
  {
   "cell_type": "code",
   "execution_count": 349,
   "id": "02b8f967",
   "metadata": {},
   "outputs": [
    {
     "ename": "TypeError",
     "evalue": "__init__() missing 1 required positional argument: 'email'",
     "output_type": "error",
     "traceback": [
      "\u001b[1;31m---------------------------------------------------------------------------\u001b[0m",
      "\u001b[1;31mTypeError\u001b[0m                                 Traceback (most recent call last)",
      "Cell \u001b[1;32mIn[349], line 1\u001b[0m\n\u001b[1;32m----> 1\u001b[0m d\u001b[38;5;241m=\u001b[39m \u001b[43mstudent\u001b[49m\u001b[43m(\u001b[49m\u001b[38;5;124;43m\"\u001b[39;49m\u001b[38;5;124;43mKhaled\u001b[39;49m\u001b[38;5;124;43m\"\u001b[39;49m\u001b[43m)\u001b[49m\n",
      "\u001b[1;31mTypeError\u001b[0m: __init__() missing 1 required positional argument: 'email'"
     ]
    }
   ],
   "source": [
    "d= student(\"Khaled\")"
   ]
  },
  {
   "cell_type": "code",
   "execution_count": 381,
   "id": "735c5c4a",
   "metadata": {},
   "outputs": [],
   "source": [
    "#creating the super class / parent class\n",
    "class student :\n",
    "    name = \"ali\"\n",
    "    email= \"ali@yahoo.com\"\n",
    "    password=\"Ahmed1235#shdjsj\"\n",
    "    def __init__(self, name , email, password):\n",
    "        self.name = name\n",
    "        self.email = email\n",
    "        self.password = password\n",
    "    def  name_len(self): \n",
    "         return len(self.name) \n",
    "    def check_password(self):\n",
    "        numberofalphadigits=0\n",
    "        numberofnumberdigits=0\n",
    "        numberofupperletters=0\n",
    "        numberofspecialcharacters=0\n",
    "        for i in self.password:\n",
    "            if i.isalpha():  numberofalphadigits+=1\n",
    "            if i.isalnum():  numberofnumberdigits+=1\n",
    "            if i.isupper():  numberofupperletters+=1\n",
    "            if i in \"@#_$\":  numberofspecialcharacters+=1\n",
    "        if (len(self.password)>10 and numberofnumberdigits>3 and numberofalphadigits>7 and numberofspecialcharacters>0 and numberofupperletters>0  ): return True\n",
    "        else : return False"
   ]
  },
  {
   "cell_type": "code",
   "execution_count": 382,
   "id": "08dea969",
   "metadata": {},
   "outputs": [],
   "source": [
    "a= student (\"ahmed\", \"Ahmed@yahoo.com\", \"AhmedArafa@yahoo5566\")"
   ]
  },
  {
   "cell_type": "code",
   "execution_count": 383,
   "id": "8c95b0eb",
   "metadata": {},
   "outputs": [
    {
     "data": {
      "text/plain": [
       "5"
      ]
     },
     "execution_count": 383,
     "metadata": {},
     "output_type": "execute_result"
    }
   ],
   "source": [
    "a.name_len()"
   ]
  },
  {
   "cell_type": "code",
   "execution_count": 384,
   "id": "e0a4dabb",
   "metadata": {},
   "outputs": [
    {
     "data": {
      "text/plain": [
       "True"
      ]
     },
     "execution_count": 384,
     "metadata": {},
     "output_type": "execute_result"
    }
   ],
   "source": [
    "a.check_password()"
   ]
  },
  {
   "cell_type": "code",
   "execution_count": 385,
   "id": "f884254b",
   "metadata": {},
   "outputs": [],
   "source": [
    "#Inheritance: creating the sub class / child class\n",
    "class graduate(student):           #inheritance\n",
    "    degree= 50\n",
    "    def grade (self):\n",
    "        if self.degree<50 : return \"Fail\"\n",
    "        elif self.degree>=50 and self.degree<65 : return \"pass\"\n",
    "        elif self.degree>=65 and self.degree<75 : return \"good\"\n",
    "        elif self.degree>=75 and self.degree<85 : return \"Very Good\"\n",
    "        else : return \"Excellent\"\n",
    "    def __init__(self,degree,name,email,password):\n",
    "        self.degree = degree\n",
    "        student.__init__(self,name,email,password)  # go to the parent constructor when there are no defualt variables in the parent class"
   ]
  },
  {
   "cell_type": "code",
   "execution_count": 386,
   "id": "8aab5420",
   "metadata": {},
   "outputs": [
    {
     "data": {
      "text/plain": [
       "'Mostafa AHmed'"
      ]
     },
     "execution_count": 386,
     "metadata": {},
     "output_type": "execute_result"
    }
   ],
   "source": [
    "s = graduate(77,\"Mostafa AHmed\",\"Mostafa@yahoo\",\"Abbsgsgsgd1223@\")\n",
    "s.name"
   ]
  },
  {
   "cell_type": "code",
   "execution_count": 387,
   "id": "5ef57ab0",
   "metadata": {},
   "outputs": [
    {
     "name": "stdout",
     "output_type": "stream",
     "text": [
      "Very Good\n"
     ]
    }
   ],
   "source": [
    "print(s.grade())"
   ]
  },
  {
   "cell_type": "code",
   "execution_count": 388,
   "id": "0524a967",
   "metadata": {},
   "outputs": [
    {
     "data": {
      "text/plain": [
       "13"
      ]
     },
     "execution_count": 388,
     "metadata": {},
     "output_type": "execute_result"
    }
   ],
   "source": [
    "s.name_len()"
   ]
  },
  {
   "cell_type": "markdown",
   "id": "93d3a9ba",
   "metadata": {},
   "source": [
    "### Time"
   ]
  },
  {
   "cell_type": "code",
   "execution_count": 389,
   "id": "aac0bff9",
   "metadata": {},
   "outputs": [],
   "source": [
    "import time as t\n",
    "from time import sleep"
   ]
  },
  {
   "cell_type": "code",
   "execution_count": 391,
   "id": "e22128f1",
   "metadata": {},
   "outputs": [
    {
     "name": "stdout",
     "output_type": "stream",
     "text": [
      "0\n",
      "1\n",
      "2\n",
      "3\n",
      "4\n",
      "5\n",
      "6\n",
      "7\n",
      "8\n",
      "9\n"
     ]
    }
   ],
   "source": [
    "for i in range(10):\n",
    "     sleep(2)\n",
    "     print(i)"
   ]
  },
  {
   "cell_type": "code",
   "execution_count": 396,
   "id": "2396d9ab",
   "metadata": {},
   "outputs": [
    {
     "name": "stdout",
     "output_type": "stream",
     "text": [
      "   February 2019\n",
      "Mo Tu We Th Fr Sa Su\n",
      "             1  2  3\n",
      " 4  5  6  7  8  9 10\n",
      "11 12 13 14 15 16 17\n",
      "18 19 20 21 22 23 24\n",
      "25 26 27 28\n",
      "\n"
     ]
    }
   ],
   "source": [
    "import calendar as cal\n",
    "print(cal.month(2019,2))"
   ]
  },
  {
   "cell_type": "code",
   "execution_count": 407,
   "id": "6db692f4",
   "metadata": {},
   "outputs": [
    {
     "name": "stdout",
     "output_type": "stream",
     "text": [
      "                                  2025\n",
      "\n",
      "      January                   February                   March\n",
      "Mo Tu We Th Fr Sa Su      Mo Tu We Th Fr Sa Su      Mo Tu We Th Fr Sa Su\n",
      "       1  2  3  4  5                      1  2                      1  2\n",
      " 6  7  8  9 10 11 12       3  4  5  6  7  8  9       3  4  5  6  7  8  9\n",
      "13 14 15 16 17 18 19      10 11 12 13 14 15 16      10 11 12 13 14 15 16\n",
      "20 21 22 23 24 25 26      17 18 19 20 21 22 23      17 18 19 20 21 22 23\n",
      "27 28 29 30 31            24 25 26 27 28            24 25 26 27 28 29 30\n",
      "                                                    31\n",
      "\n",
      "       April                      May                       June\n",
      "Mo Tu We Th Fr Sa Su      Mo Tu We Th Fr Sa Su      Mo Tu We Th Fr Sa Su\n",
      "    1  2  3  4  5  6                1  2  3  4                         1\n",
      " 7  8  9 10 11 12 13       5  6  7  8  9 10 11       2  3  4  5  6  7  8\n",
      "14 15 16 17 18 19 20      12 13 14 15 16 17 18       9 10 11 12 13 14 15\n",
      "21 22 23 24 25 26 27      19 20 21 22 23 24 25      16 17 18 19 20 21 22\n",
      "28 29 30                  26 27 28 29 30 31         23 24 25 26 27 28 29\n",
      "                                                    30\n",
      "\n",
      "        July                     August                  September\n",
      "Mo Tu We Th Fr Sa Su      Mo Tu We Th Fr Sa Su      Mo Tu We Th Fr Sa Su\n",
      "    1  2  3  4  5  6                   1  2  3       1  2  3  4  5  6  7\n",
      " 7  8  9 10 11 12 13       4  5  6  7  8  9 10       8  9 10 11 12 13 14\n",
      "14 15 16 17 18 19 20      11 12 13 14 15 16 17      15 16 17 18 19 20 21\n",
      "21 22 23 24 25 26 27      18 19 20 21 22 23 24      22 23 24 25 26 27 28\n",
      "28 29 30 31               25 26 27 28 29 30 31      29 30\n",
      "\n",
      "      October                   November                  December\n",
      "Mo Tu We Th Fr Sa Su      Mo Tu We Th Fr Sa Su      Mo Tu We Th Fr Sa Su\n",
      "       1  2  3  4  5                      1  2       1  2  3  4  5  6  7\n",
      " 6  7  8  9 10 11 12       3  4  5  6  7  8  9       8  9 10 11 12 13 14\n",
      "13 14 15 16 17 18 19      10 11 12 13 14 15 16      15 16 17 18 19 20 21\n",
      "20 21 22 23 24 25 26      17 18 19 20 21 22 23      22 23 24 25 26 27 28\n",
      "27 28 29 30 31            24 25 26 27 28 29 30      29 30 31\n",
      "None\n"
     ]
    }
   ],
   "source": [
    "print(cal.prcal(2025))"
   ]
  },
  {
   "cell_type": "code",
   "execution_count": 415,
   "id": "b14c2fd3",
   "metadata": {},
   "outputs": [
    {
     "name": "stdout",
     "output_type": "stream",
     "text": [
      "20 / 09 /2024 17:32:23\n"
     ]
    }
   ],
   "source": [
    "import time\n",
    "# Format into 2016-03-20 11:45:39\n",
    "print(time.strftime(\"%d / %m /%Y %H:%M:%S\", time.localtime()))"
   ]
  },
  {
   "cell_type": "code",
   "execution_count": 416,
   "id": "3ad3a40f",
   "metadata": {},
   "outputs": [
    {
     "name": "stdout",
     "output_type": "stream",
     "text": [
      "Elapsed time: 15.00 seconds\n"
     ]
    }
   ],
   "source": [
    "# Record the start time\n",
    "start_time = time.time()\n",
    "# Perform some time-consuming operation (Sleep for example)\n",
    "time.sleep(15)\n",
    "# Record the end time\n",
    "end_time = time.time()\n",
    "\n",
    "# Calculate the elapsed time\n",
    "elapsed_time = end_time - start_time\n",
    "\n",
    "print(\"Elapsed time: {:.2f} seconds\".format(elapsed_time)) # Elapsed time: 2.01 seconds"
   ]
  }
 ],
 "metadata": {
  "kernelspec": {
   "display_name": "Python 3 (ipykernel)",
   "language": "python",
   "name": "python3"
  },
  "language_info": {
   "codemirror_mode": {
    "name": "ipython",
    "version": 3
   },
   "file_extension": ".py",
   "mimetype": "text/x-python",
   "name": "python",
   "nbconvert_exporter": "python",
   "pygments_lexer": "ipython3",
   "version": "3.9.16"
  }
 },
 "nbformat": 4,
 "nbformat_minor": 5
}
