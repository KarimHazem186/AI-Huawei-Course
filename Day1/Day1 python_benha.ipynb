{
 "cells": [
  {
   "cell_type": "markdown",
   "id": "d85fa531",
   "metadata": {},
   "source": [
    "### Python Basics for Machine Learning\n",
    "1. Environments  Anaconda or Colab\n",
    "2. What is The program and what programing languages Do.\n",
    "3. What is the structure of the python programs and types of python files.\n",
    "4. O/P and I/P statements in python\n",
    "5. Variables and Operators in python\n",
    "6. Control Structures in python\n",
    "7. Data structures in python (Lists, Tuple, Dictionaries and Data Frames in Python)\n",
    "8. Working with files with different Extensions\n",
    "9. Functions in python\n",
    "10. Object Oriented in Python"
   ]
  },
  {
   "cell_type": "markdown",
   "id": "0bdd37ff",
   "metadata": {},
   "source": [
    "## 1. Environments  Anaconda or Colab\n",
    "#### There are 4 types of Environments in Colab \n",
    "1. code cells to Wrire code to be excuted\n",
    "2. Markdown cells and used for body-text, and contain markdown, as defined in GitHub-flavored markdown\n",
    "3. A raw NB convert cell is defined as content that should be included unmodified in nbconvert output. \n",
    "4. Heading Cells for making headings"
   ]
  },
  {
   "cell_type": "markdown",
   "id": "8df1dc39",
   "metadata": {},
   "source": [
    "### Get the python version "
   ]
  },
  {
   "cell_type": "code",
   "execution_count": 1,
   "id": "af952e44",
   "metadata": {},
   "outputs": [
    {
     "name": "stdout",
     "output_type": "stream",
     "text": [
      "3.9.16 (main, Jan 11 2023, 16:16:36) [MSC v.1916 64 bit (AMD64)]\n"
     ]
    }
   ],
   "source": [
    "import sys                \n",
    "sys.version_info\n",
    "print(sys.version)"
   ]
  },
  {
   "cell_type": "markdown",
   "id": "21361a78",
   "metadata": {},
   "source": [
    "### List all libraries in python (note book or cmd)"
   ]
  },
  {
   "cell_type": "code",
   "execution_count": 2,
   "id": "c9b4e2fe",
   "metadata": {},
   "outputs": [
    {
     "name": "stdout",
     "output_type": "stream",
     "text": [
      "Package                           Version\n",
      "--------------------------------- --------------\n",
      "absl-py                           1.3.0\n",
      "aiohttp                           3.8.3\n",
      "aiosignal                         1.2.0\n",
      "anyio                             3.5.0\n",
      "appdirs                           1.4.4\n",
      "argon2-cffi                       20.1.0\n",
      "astor                             0.8.1\n",
      "asttokens                         2.0.5\n",
      "astunparse                        1.6.3\n",
      "async-timeout                     4.0.2\n",
      "attrs                             22.1.0\n",
      "backcall                          0.2.0\n",
      "bayesian-optimization             1.4.3\n",
      "beautifulsoup4                    4.12.2\n",
      "bleach                            4.1.0\n",
      "blinker                           1.4\n",
      "Bottleneck                        1.3.5\n",
      "brotlipy                          0.7.0\n",
      "cachetools                        4.2.2\n",
      "certifi                           2023.7.22\n",
      "cffi                              1.15.1\n",
      "charset-normalizer                2.0.4\n",
      "click                             8.0.4\n",
      "cloudpickle                       2.2.1\n",
      "colorama                          0.4.6\n",
      "comm                              0.1.2\n",
      "contourpy                         1.1.0\n",
      "cryptography                      38.0.4\n",
      "cycler                            0.11.0\n",
      "debugpy                           1.6.7\n",
      "decorator                         5.1.1\n",
      "defusedxml                        0.7.1\n",
      "entrypoints                       0.4\n",
      "executing                         0.8.3\n",
      "fastjsonschema                    2.16.2\n",
      "flatbuffers                       20210226132247\n",
      "flit_core                         3.6.0\n",
      "fonttools                         4.42.1\n",
      "frozenlist                        1.3.3\n",
      "future                            0.18.3\n",
      "gast                              0.4.0\n",
      "google-auth                       2.6.0\n",
      "google-auth-oauthlib              0.4.1\n",
      "google-pasta                      0.2.0\n",
      "grpcio                            1.42.0\n",
      "h5py                              3.7.0\n",
      "hyperopt                          0.2.7\n",
      "idna                              3.4\n",
      "imbalanced-learn                  0.11.0\n",
      "importlib-metadata                4.11.3\n",
      "importlib-resources               6.0.1\n",
      "ipykernel                         6.25.0\n",
      "ipython                           8.12.2\n",
      "ipython-genutils                  0.2.0\n",
      "jedi                              0.18.1\n",
      "Jinja2                            3.1.2\n",
      "joblib                            1.2.0\n",
      "jsonschema                        4.17.3\n",
      "jupyter_client                    7.4.9\n",
      "jupyter-contrib-core              0.4.0\n",
      "jupyter-contrib-nbextensions      0.7.0\n",
      "jupyter_core                      5.3.0\n",
      "jupyter-highlight-selected-word   0.2.0\n",
      "jupyter-latex-envs                1.4.6\n",
      "jupyter-nbextensions-configurator 0.6.1\n",
      "jupyter-server                    1.13.5\n",
      "jupyterlab-pygments               0.2.2\n",
      "Keras-Preprocessing               1.1.2\n",
      "kiwisolver                        1.4.5\n",
      "lazylearn                         0.0.4\n",
      "lazypredict                       0.2.12\n",
      "lightgbm                          4.0.0\n",
      "lxml                              4.9.2\n",
      "Markdown                          3.4.1\n",
      "MarkupSafe                        2.1.1\n",
      "matplotlib                        3.7.2\n",
      "matplotlib-inline                 0.1.6\n",
      "mistune                           3.0.1\n",
      "mkl-fft                           1.3.1\n",
      "mkl-random                        1.2.2\n",
      "mkl-service                       2.4.0\n",
      "multidict                         6.0.2\n",
      "nbclassic                         0.5.5\n",
      "nbclient                          0.8.0\n",
      "nbconvert                         7.8.0\n",
      "nbformat                          5.7.0\n",
      "nest-asyncio                      1.5.6\n",
      "networkx                          3.1\n",
      "notebook                          6.5.4\n",
      "notebook_shim                     0.2.2\n",
      "numexpr                           2.8.4\n",
      "numpy                             1.23.5\n",
      "oauthlib                          3.2.1\n",
      "opt-einsum                        3.3.0\n",
      "packaging                         22.0\n",
      "pandas                            2.0.3\n",
      "pandocfilters                     1.5.0\n",
      "parso                             0.8.3\n",
      "pickleshare                       0.7.5\n",
      "Pillow                            10.0.0\n",
      "pip                               22.3.1\n",
      "platformdirs                      3.10.0\n",
      "pooch                             1.4.0\n",
      "prometheus-client                 0.14.1\n",
      "prompt-toolkit                    3.0.36\n",
      "protobuf                          3.17.2\n",
      "psutil                            5.9.0\n",
      "pure-eval                         0.2.2\n",
      "py4j                              0.10.9.7\n",
      "pyasn1                            0.4.8\n",
      "pyasn1-modules                    0.2.8\n",
      "pycparser                         2.21\n",
      "Pygments                          2.15.1\n",
      "PyJWT                             2.4.0\n",
      "pyOpenSSL                         22.0.0\n",
      "pyparsing                         3.0.9\n",
      "pyrsistent                        0.18.0\n",
      "PySocks                           1.7.1\n",
      "python-dateutil                   2.8.2\n",
      "pytz                              2022.7\n",
      "pywin32                           305.1\n",
      "pywinpty                          2.0.10\n",
      "PyYAML                            6.0\n",
      "pyzmq                             23.2.0\n",
      "requests                          2.28.1\n",
      "requests-oauthlib                 1.3.0\n",
      "rsa                               4.7.2\n",
      "scikit-learn                      1.3.0\n",
      "scipy                             1.10.0\n",
      "seaborn                           0.12.2\n",
      "Send2Trash                        1.8.0\n",
      "setuptools                        65.6.3\n",
      "six                               1.16.0\n",
      "sniffio                           1.2.0\n",
      "soupsieve                         2.5\n",
      "stack-data                        0.2.0\n",
      "tensorboard                       2.6.0\n",
      "tensorboard-data-server           0.6.1\n",
      "tensorboard-plugin-wit            1.8.1\n",
      "tensorflow                        2.6.0\n",
      "tensorflow-estimator              2.6.0\n",
      "termcolor                         2.1.0\n",
      "terminado                         0.17.1\n",
      "testpath                          0.6.0\n",
      "threadpoolctl                     2.2.0\n",
      "tinycss2                          1.2.1\n",
      "tornado                           6.3.2\n",
      "tqdm                              4.66.1\n",
      "traitlets                         5.7.1\n",
      "typing_extensions                 4.4.0\n",
      "tzdata                            2023.3\n",
      "urllib3                           1.26.14\n",
      "wcwidth                           0.2.5\n",
      "webencodings                      0.5.1\n",
      "websocket-client                  0.58.0\n",
      "Werkzeug                          2.2.2\n",
      "wheel                             0.35.1\n",
      "win-inet-pton                     1.1.0\n",
      "wincertstore                      0.2\n",
      "wrapt                             1.14.1\n",
      "xgboost                           1.7.6\n",
      "yarl                              1.8.1\n",
      "zipp                              3.11.0\n",
      "Note: you may need to restart the kernel to use updated packages.\n"
     ]
    }
   ],
   "source": [
    "pip list"
   ]
  },
  {
   "cell_type": "code",
   "execution_count": null,
   "id": "bad78a0f",
   "metadata": {},
   "outputs": [],
   "source": [
    "conda info"
   ]
  },
  {
   "cell_type": "markdown",
   "id": "7c0f799f",
   "metadata": {},
   "source": [
    "### Import a python library and print its version"
   ]
  },
  {
   "cell_type": "code",
   "execution_count": 3,
   "id": "cddc53cd",
   "metadata": {},
   "outputs": [
    {
     "name": "stdout",
     "output_type": "stream",
     "text": [
      "1.23.5\n"
     ]
    }
   ],
   "source": [
    "import pandas as pd\n",
    "import numpy as n\n",
    "print(n.__version__)"
   ]
  },
  {
   "cell_type": "markdown",
   "id": "1cf97fea",
   "metadata": {},
   "source": [
    "### Program in Programming Languages\n",
    "1. Program is a sequence of instructions written in a programming language to solve a specific Task.\n",
    "2. We can write .py programs or .ipynb notebooks\n",
    "3. O/P statement : print( )  , i/P statement input( )\n",
    "4. Variables in python :Python has no command for declaring a variable. It is created the moment you first assign a value to it.\n",
    "5. Operators and Functions: Performing processing of the given input. This processing depends on the input type."
   ]
  },
  {
   "cell_type": "markdown",
   "id": "3bccc0b1",
   "metadata": {},
   "source": [
    "### Built-in Datatypes in Python\n",
    "1. Text Type:  str\n",
    "2. Numeric Types:\tint, float, complex\n",
    "3. Sequence Types:\tlist, tuple, range\n",
    "4. Mapping Type:\tdict\n",
    "5. Set Types:\t        set, frozenset\n",
    "6. Boolean Type:\tbool\n",
    "7. Binary Types:\tbytes, bytearray, memoryview\n"
   ]
  },
  {
   "cell_type": "markdown",
   "id": "f9f0acdd",
   "metadata": {},
   "source": [
    "### Print Statement"
   ]
  },
  {
   "cell_type": "code",
   "execution_count": 4,
   "id": "5d8cf37d",
   "metadata": {},
   "outputs": [
    {
     "name": "stdout",
     "output_type": "stream",
     "text": [
      "Welcome to the second session in AI training Ali  mostafa\n"
     ]
    }
   ],
   "source": [
    "print (\"Welcome to the second session in AI training\" ,  \"Ali \" , \"mostafa\")"
   ]
  },
  {
   "cell_type": "markdown",
   "id": "4e17a2c2",
   "metadata": {},
   "source": [
    "### Concatenation in Print "
   ]
  },
  {
   "cell_type": "code",
   "execution_count": 5,
   "id": "abe8da04",
   "metadata": {},
   "outputs": [
    {
     "name": "stdout",
     "output_type": "stream",
     "text": [
      "Welcome to the second session in AI trainingAli \n"
     ]
    }
   ],
   "source": [
    "print (\"Welcome to the second session in AI training\" +  \"Ali \")"
   ]
  },
  {
   "cell_type": "markdown",
   "id": "ca693cc7",
   "metadata": {},
   "source": [
    "### Repeatting String"
   ]
  },
  {
   "cell_type": "code",
   "execution_count": 6,
   "id": "4132fa7f",
   "metadata": {},
   "outputs": [
    {
     "name": "stdout",
     "output_type": "stream",
     "text": [
      "Welcome to the second session in AI trainingWelcome to the second session in AI trainingWelcome to the second session in AI training\n"
     ]
    }
   ],
   "source": [
    "print (\"Welcome to the second session in AI training\" * 3)"
   ]
  },
  {
   "cell_type": "markdown",
   "id": "3ff5830a",
   "metadata": {},
   "source": [
    "### Declaring Scalary Variable"
   ]
  },
  {
   "cell_type": "code",
   "execution_count": 7,
   "id": "c7ac439d",
   "metadata": {},
   "outputs": [],
   "source": [
    "x=10"
   ]
  },
  {
   "cell_type": "code",
   "execution_count": 8,
   "id": "a70d2212",
   "metadata": {},
   "outputs": [
    {
     "name": "stdout",
     "output_type": "stream",
     "text": [
      "10\n"
     ]
    }
   ],
   "source": [
    "print(x)"
   ]
  },
  {
   "cell_type": "code",
   "execution_count": 9,
   "id": "b71eb4ed",
   "metadata": {},
   "outputs": [
    {
     "data": {
      "text/plain": [
       "int"
      ]
     },
     "execution_count": 9,
     "metadata": {},
     "output_type": "execute_result"
    }
   ],
   "source": [
    "type (x)"
   ]
  },
  {
   "cell_type": "code",
   "execution_count": 10,
   "id": "1437662e",
   "metadata": {},
   "outputs": [],
   "source": [
    "y=10.33"
   ]
  },
  {
   "cell_type": "code",
   "execution_count": 11,
   "id": "32be0d90",
   "metadata": {},
   "outputs": [
    {
     "data": {
      "text/plain": [
       "float"
      ]
     },
     "execution_count": 11,
     "metadata": {},
     "output_type": "execute_result"
    }
   ],
   "source": [
    "type(y)"
   ]
  },
  {
   "cell_type": "code",
   "execution_count": 12,
   "id": "2f73154c",
   "metadata": {},
   "outputs": [],
   "source": [
    "R= \"Ali\""
   ]
  },
  {
   "cell_type": "code",
   "execution_count": 13,
   "id": "acf6810a",
   "metadata": {},
   "outputs": [
    {
     "data": {
      "text/plain": [
       "str"
      ]
     },
     "execution_count": 13,
     "metadata": {},
     "output_type": "execute_result"
    }
   ],
   "source": [
    "type(R)"
   ]
  },
  {
   "cell_type": "code",
   "execution_count": 14,
   "id": "003d0cd2",
   "metadata": {},
   "outputs": [
    {
     "name": "stdout",
     "output_type": "stream",
     "text": [
      "10 10.33 Ali\n"
     ]
    }
   ],
   "source": [
    "print(x,y,R)"
   ]
  },
  {
   "cell_type": "code",
   "execution_count": 15,
   "id": "a42ba35a",
   "metadata": {},
   "outputs": [
    {
     "name": "stdout",
     "output_type": "stream",
     "text": [
      "20.33\n"
     ]
    }
   ],
   "source": [
    "print(x+y)"
   ]
  },
  {
   "cell_type": "code",
   "execution_count": 16,
   "id": "25461cc0",
   "metadata": {},
   "outputs": [
    {
     "name": "stdout",
     "output_type": "stream",
     "text": [
      "20.33 Ali\n"
     ]
    }
   ],
   "source": [
    "print(x+y, R)"
   ]
  },
  {
   "cell_type": "code",
   "execution_count": 17,
   "id": "ac987770",
   "metadata": {},
   "outputs": [],
   "source": [
    "A = 5j+3"
   ]
  },
  {
   "cell_type": "code",
   "execution_count": 18,
   "id": "96573e91",
   "metadata": {},
   "outputs": [
    {
     "data": {
      "text/plain": [
       "complex"
      ]
     },
     "execution_count": 18,
     "metadata": {},
     "output_type": "execute_result"
    }
   ],
   "source": [
    "type(A)"
   ]
  },
  {
   "cell_type": "markdown",
   "id": "ccc58a24",
   "metadata": {},
   "source": [
    "### There are four collection data types in the Python programming language:\n",
    "\n",
    "1. List is a collection which is unrdered and changeable. Allows duplicate members.\n",
    "2. Tuple is a collection which is unrdered and unchangeable. Allows duplicate members.\n",
    "3. Set is a collection which is ordered, unchangeable*, and unindexed. No duplicate members.\n",
    "4. Dictionary is a collection which is ordered** and changeable. No duplicate members."
   ]
  },
  {
   "cell_type": "markdown",
   "id": "23131e3e",
   "metadata": {},
   "source": [
    "### Lists"
   ]
  },
  {
   "cell_type": "code",
   "execution_count": 19,
   "id": "85b2f6b8",
   "metadata": {},
   "outputs": [],
   "source": [
    "List1= [50,20,30,40]  "
   ]
  },
  {
   "cell_type": "code",
   "execution_count": 20,
   "id": "60d6ee8f",
   "metadata": {},
   "outputs": [
    {
     "data": {
      "text/plain": [
       "[50, 20, 30, 40]"
      ]
     },
     "execution_count": 20,
     "metadata": {},
     "output_type": "execute_result"
    }
   ],
   "source": [
    "List1"
   ]
  },
  {
   "cell_type": "code",
   "execution_count": 21,
   "id": "72ec0104",
   "metadata": {},
   "outputs": [
    {
     "data": {
      "text/plain": [
       "list"
      ]
     },
     "execution_count": 21,
     "metadata": {},
     "output_type": "execute_result"
    }
   ],
   "source": [
    "type(List1)"
   ]
  },
  {
   "cell_type": "code",
   "execution_count": 22,
   "id": "5b42f32b",
   "metadata": {},
   "outputs": [],
   "source": [
    "List2=[10, \"A\",20, \"B\"]"
   ]
  },
  {
   "cell_type": "code",
   "execution_count": 23,
   "id": "f3e856d8",
   "metadata": {},
   "outputs": [
    {
     "data": {
      "text/plain": [
       "list"
      ]
     },
     "execution_count": 23,
     "metadata": {},
     "output_type": "execute_result"
    }
   ],
   "source": [
    "type(List2)"
   ]
  },
  {
   "cell_type": "markdown",
   "id": "8d290abd",
   "metadata": {},
   "source": [
    "### Opetaions between list\n",
    "Concatenation"
   ]
  },
  {
   "cell_type": "code",
   "execution_count": 24,
   "id": "f97cb97b",
   "metadata": {},
   "outputs": [
    {
     "data": {
      "text/plain": [
       "[50, 20, 30, 40, 10, 'A', 20, 'B']"
      ]
     },
     "execution_count": 24,
     "metadata": {},
     "output_type": "execute_result"
    }
   ],
   "source": [
    "List1+List2"
   ]
  },
  {
   "cell_type": "code",
   "execution_count": 25,
   "id": "d1a45739",
   "metadata": {},
   "outputs": [
    {
     "ename": "TypeError",
     "evalue": "unsupported operand type(s) for -: 'list' and 'list'",
     "output_type": "error",
     "traceback": [
      "\u001b[1;31m---------------------------------------------------------------------------\u001b[0m",
      "\u001b[1;31mTypeError\u001b[0m                                 Traceback (most recent call last)",
      "Cell \u001b[1;32mIn[25], line 1\u001b[0m\n\u001b[1;32m----> 1\u001b[0m \u001b[43mList1\u001b[49m\u001b[38;5;241;43m-\u001b[39;49m\u001b[43mList2\u001b[49m\n",
      "\u001b[1;31mTypeError\u001b[0m: unsupported operand type(s) for -: 'list' and 'list'"
     ]
    }
   ],
   "source": [
    "List1-List2"
   ]
  },
  {
   "cell_type": "markdown",
   "id": "8e0ff210",
   "metadata": {},
   "source": [
    "Extend a list by a list"
   ]
  },
  {
   "cell_type": "code",
   "execution_count": null,
   "id": "1c6e16a2",
   "metadata": {},
   "outputs": [],
   "source": [
    "List1.extend(List2)"
   ]
  },
  {
   "cell_type": "code",
   "execution_count": null,
   "id": "77bacaef",
   "metadata": {},
   "outputs": [],
   "source": [
    "List1"
   ]
  },
  {
   "cell_type": "code",
   "execution_count": null,
   "id": "cb64708c",
   "metadata": {},
   "outputs": [],
   "source": [
    "List3=[1,2,3,4]"
   ]
  },
  {
   "cell_type": "code",
   "execution_count": null,
   "id": "49e0da16",
   "metadata": {},
   "outputs": [],
   "source": [
    "List1"
   ]
  },
  {
   "cell_type": "code",
   "execution_count": null,
   "id": "1c7cde70",
   "metadata": {},
   "outputs": [],
   "source": [
    "List3"
   ]
  },
  {
   "cell_type": "markdown",
   "id": "b848a179",
   "metadata": {},
   "source": [
    "### Add Element to a list by value at the last index"
   ]
  },
  {
   "cell_type": "code",
   "execution_count": null,
   "id": "192c4879",
   "metadata": {},
   "outputs": [],
   "source": [
    "List1.append(5000)"
   ]
  },
  {
   "cell_type": "code",
   "execution_count": null,
   "id": "0b1b6b76",
   "metadata": {},
   "outputs": [],
   "source": [
    "List1"
   ]
  },
  {
   "cell_type": "markdown",
   "id": "3afbc03d",
   "metadata": {},
   "source": [
    "### Add Element to a list by index"
   ]
  },
  {
   "cell_type": "code",
   "execution_count": 26,
   "id": "bcb33def",
   "metadata": {},
   "outputs": [],
   "source": [
    "List1.insert(0,99)"
   ]
  },
  {
   "cell_type": "code",
   "execution_count": 27,
   "id": "d0f6da94",
   "metadata": {},
   "outputs": [
    {
     "data": {
      "text/plain": [
       "[99, 50, 20, 30, 40]"
      ]
     },
     "execution_count": 27,
     "metadata": {},
     "output_type": "execute_result"
    }
   ],
   "source": [
    "List1"
   ]
  },
  {
   "cell_type": "code",
   "execution_count": 28,
   "id": "f990a092",
   "metadata": {},
   "outputs": [],
   "source": [
    "List1.insert(1,9955)"
   ]
  },
  {
   "cell_type": "code",
   "execution_count": 29,
   "id": "98b9ac63",
   "metadata": {},
   "outputs": [
    {
     "data": {
      "text/plain": [
       "[99, 9955, 50, 20, 30, 40]"
      ]
     },
     "execution_count": 29,
     "metadata": {},
     "output_type": "execute_result"
    }
   ],
   "source": [
    "List1"
   ]
  },
  {
   "cell_type": "markdown",
   "id": "a26608c4",
   "metadata": {},
   "source": [
    "## Remove Element from a list by its value"
   ]
  },
  {
   "cell_type": "code",
   "execution_count": 30,
   "id": "513a92d4",
   "metadata": {},
   "outputs": [],
   "source": [
    "List1.remove(40)"
   ]
  },
  {
   "cell_type": "code",
   "execution_count": 31,
   "id": "1b26f1e6",
   "metadata": {},
   "outputs": [
    {
     "data": {
      "text/plain": [
       "[99, 9955, 50, 20, 30]"
      ]
     },
     "execution_count": 31,
     "metadata": {},
     "output_type": "execute_result"
    }
   ],
   "source": [
    "List1"
   ]
  },
  {
   "cell_type": "code",
   "execution_count": 32,
   "id": "65c67fe5",
   "metadata": {},
   "outputs": [
    {
     "data": {
      "text/plain": [
       "5"
      ]
     },
     "execution_count": 32,
     "metadata": {},
     "output_type": "execute_result"
    }
   ],
   "source": [
    "len(List1)"
   ]
  },
  {
   "cell_type": "markdown",
   "id": "dbb355ee",
   "metadata": {},
   "source": [
    "## Remove Element from a list by its index"
   ]
  },
  {
   "cell_type": "code",
   "execution_count": 33,
   "id": "bcb60576",
   "metadata": {},
   "outputs": [],
   "source": [
    "del(List1[1])"
   ]
  },
  {
   "cell_type": "code",
   "execution_count": 34,
   "id": "6c64ca1e",
   "metadata": {},
   "outputs": [
    {
     "data": {
      "text/plain": [
       "[99, 50, 20, 30]"
      ]
     },
     "execution_count": 34,
     "metadata": {},
     "output_type": "execute_result"
    }
   ],
   "source": [
    "List1"
   ]
  },
  {
   "cell_type": "markdown",
   "id": "2a69c37c",
   "metadata": {},
   "source": [
    "## Tuples"
   ]
  },
  {
   "cell_type": "code",
   "execution_count": 35,
   "id": "4c82a267",
   "metadata": {},
   "outputs": [],
   "source": [
    "Tuple = (\"apple\", \"banana\", \"cherry\")"
   ]
  },
  {
   "cell_type": "markdown",
   "id": "a304025c",
   "metadata": {},
   "source": [
    "Convert tuple to list for modification purpose"
   ]
  },
  {
   "cell_type": "code",
   "execution_count": 36,
   "id": "7b166181",
   "metadata": {},
   "outputs": [],
   "source": [
    "Tuple = list(Tuple)"
   ]
  },
  {
   "cell_type": "code",
   "execution_count": 37,
   "id": "16c6b70b",
   "metadata": {},
   "outputs": [
    {
     "data": {
      "text/plain": [
       "['apple', 'banana', 'cherry']"
      ]
     },
     "execution_count": 37,
     "metadata": {},
     "output_type": "execute_result"
    }
   ],
   "source": [
    "Tuple"
   ]
  },
  {
   "cell_type": "code",
   "execution_count": 38,
   "id": "c34cbc56",
   "metadata": {},
   "outputs": [],
   "source": [
    "Tuple.append(\"Ali\")"
   ]
  },
  {
   "cell_type": "code",
   "execution_count": 39,
   "id": "fa75b852",
   "metadata": {},
   "outputs": [
    {
     "data": {
      "text/plain": [
       "['apple', 'banana', 'cherry', 'Ali']"
      ]
     },
     "execution_count": 39,
     "metadata": {},
     "output_type": "execute_result"
    }
   ],
   "source": [
    "Tuple"
   ]
  },
  {
   "cell_type": "markdown",
   "id": "575b6dcb",
   "metadata": {},
   "source": [
    "Convert list to tuple for modification purpose"
   ]
  },
  {
   "cell_type": "code",
   "execution_count": 40,
   "id": "e66a7c2c",
   "metadata": {},
   "outputs": [],
   "source": [
    "Tuple= tuple(Tuple)"
   ]
  },
  {
   "cell_type": "code",
   "execution_count": 41,
   "id": "860fbfbe",
   "metadata": {},
   "outputs": [
    {
     "data": {
      "text/plain": [
       "('apple', 'banana', 'cherry', 'Ali')"
      ]
     },
     "execution_count": 41,
     "metadata": {},
     "output_type": "execute_result"
    }
   ],
   "source": [
    "Tuple"
   ]
  },
  {
   "cell_type": "markdown",
   "id": "1ae9a2c7",
   "metadata": {},
   "source": [
    "###  sets (No repetition , arranged)"
   ]
  },
  {
   "cell_type": "code",
   "execution_count": 42,
   "id": "9050c910",
   "metadata": {},
   "outputs": [],
   "source": [
    "set = {3,3,3,1,2,7}"
   ]
  },
  {
   "cell_type": "code",
   "execution_count": 43,
   "id": "4542e215",
   "metadata": {},
   "outputs": [
    {
     "data": {
      "text/plain": [
       "set"
      ]
     },
     "execution_count": 43,
     "metadata": {},
     "output_type": "execute_result"
    }
   ],
   "source": [
    "type(set)"
   ]
  },
  {
   "cell_type": "code",
   "execution_count": 44,
   "id": "61291a7d",
   "metadata": {},
   "outputs": [
    {
     "data": {
      "text/plain": [
       "{1, 2, 3, 7}"
      ]
     },
     "execution_count": 44,
     "metadata": {},
     "output_type": "execute_result"
    }
   ],
   "source": [
    "set"
   ]
  },
  {
   "cell_type": "code",
   "execution_count": 45,
   "id": "fe96cd97",
   "metadata": {},
   "outputs": [],
   "source": [
    "List5=[10,10,50,50,50]"
   ]
  },
  {
   "cell_type": "code",
   "execution_count": 46,
   "id": "7c58ab2a",
   "metadata": {},
   "outputs": [
    {
     "data": {
      "text/plain": [
       "[10, 10, 50, 50, 50]"
      ]
     },
     "execution_count": 46,
     "metadata": {},
     "output_type": "execute_result"
    }
   ],
   "source": [
    "List5"
   ]
  },
  {
   "cell_type": "code",
   "execution_count": 47,
   "id": "6cb8776c",
   "metadata": {},
   "outputs": [],
   "source": [
    "set = {1,2,3,3,3}"
   ]
  },
  {
   "cell_type": "code",
   "execution_count": 48,
   "id": "bf04884a",
   "metadata": {},
   "outputs": [
    {
     "data": {
      "text/plain": [
       "{1, 2, 3}"
      ]
     },
     "execution_count": 48,
     "metadata": {},
     "output_type": "execute_result"
    }
   ],
   "source": [
    "set"
   ]
  },
  {
   "cell_type": "code",
   "execution_count": 49,
   "id": "0d9a477f",
   "metadata": {},
   "outputs": [],
   "source": [
    "set={10,10,10,10}"
   ]
  },
  {
   "cell_type": "code",
   "execution_count": 50,
   "id": "8dcbe57d",
   "metadata": {},
   "outputs": [
    {
     "data": {
      "text/plain": [
       "{10}"
      ]
     },
     "execution_count": 50,
     "metadata": {},
     "output_type": "execute_result"
    }
   ],
   "source": [
    "set"
   ]
  },
  {
   "cell_type": "code",
   "execution_count": 51,
   "id": "1ed09c06",
   "metadata": {},
   "outputs": [],
   "source": [
    "set={\"Ali\",\"Ali\",\"Ahmed\"}"
   ]
  },
  {
   "cell_type": "code",
   "execution_count": 52,
   "id": "bfd476b9",
   "metadata": {},
   "outputs": [
    {
     "data": {
      "text/plain": [
       "{'Ahmed', 'Ali'}"
      ]
     },
     "execution_count": 52,
     "metadata": {},
     "output_type": "execute_result"
    }
   ],
   "source": [
    "set"
   ]
  },
  {
   "cell_type": "code",
   "execution_count": 53,
   "id": "0b19ac8f",
   "metadata": {},
   "outputs": [],
   "source": [
    "set={\"B\",\"A\",\"C\"}"
   ]
  },
  {
   "cell_type": "code",
   "execution_count": 54,
   "id": "b2e501a0",
   "metadata": {},
   "outputs": [
    {
     "data": {
      "text/plain": [
       "{'A', 'B', 'C'}"
      ]
     },
     "execution_count": 54,
     "metadata": {},
     "output_type": "execute_result"
    }
   ],
   "source": [
    "set"
   ]
  },
  {
   "cell_type": "code",
   "execution_count": 55,
   "id": "208b9557",
   "metadata": {},
   "outputs": [],
   "source": [
    "set.add(\"K\")"
   ]
  },
  {
   "cell_type": "code",
   "execution_count": 56,
   "id": "017a4589",
   "metadata": {},
   "outputs": [
    {
     "data": {
      "text/plain": [
       "{'A', 'B', 'C', 'K'}"
      ]
     },
     "execution_count": 56,
     "metadata": {},
     "output_type": "execute_result"
    }
   ],
   "source": [
    "set"
   ]
  },
  {
   "cell_type": "code",
   "execution_count": 57,
   "id": "7b0d2952",
   "metadata": {},
   "outputs": [
    {
     "name": "stdout",
     "output_type": "stream",
     "text": [
      "{'C', 'B', 'A', 'K'}\n"
     ]
    }
   ],
   "source": [
    "print(set)"
   ]
  },
  {
   "cell_type": "markdown",
   "id": "b361aee8",
   "metadata": {},
   "source": [
    "### Dictionaries"
   ]
  },
  {
   "cell_type": "code",
   "execution_count": 58,
   "id": "b29de4dd",
   "metadata": {},
   "outputs": [],
   "source": [
    "cars = {\n",
    "  \"brand\": \"Ford\",\n",
    "  \"electric\": False,\n",
    "  \"year\": 2005,\n",
    "  \"colors\": [\"red\", \"white\", \"blue\"]\n",
    "}\n"
   ]
  },
  {
   "cell_type": "code",
   "execution_count": 59,
   "id": "a2502191",
   "metadata": {},
   "outputs": [
    {
     "data": {
      "text/plain": [
       "{'brand': 'Ford',\n",
       " 'electric': False,\n",
       " 'year': 2005,\n",
       " 'colors': ['red', 'white', 'blue']}"
      ]
     },
     "execution_count": 59,
     "metadata": {},
     "output_type": "execute_result"
    }
   ],
   "source": [
    "cars"
   ]
  },
  {
   "cell_type": "code",
   "execution_count": 60,
   "id": "42cfd9bf",
   "metadata": {},
   "outputs": [
    {
     "name": "stdout",
     "output_type": "stream",
     "text": [
      "{'brand': 'Ford', 'electric': False, 'year': 2005, 'colors': ['red', 'white', 'blue']}\n"
     ]
    }
   ],
   "source": [
    "print(cars)"
   ]
  },
  {
   "cell_type": "code",
   "execution_count": 61,
   "id": "7308d517",
   "metadata": {},
   "outputs": [
    {
     "name": "stdout",
     "output_type": "stream",
     "text": [
      "Ford ['red', 'white', 'blue']\n"
     ]
    }
   ],
   "source": [
    "print(cars[\"brand\"] , cars [\"colors\"])"
   ]
  },
  {
   "cell_type": "code",
   "execution_count": 62,
   "id": "c68bdcb9",
   "metadata": {},
   "outputs": [],
   "source": [
    "set1 ={5, 40 , 8}"
   ]
  },
  {
   "cell_type": "code",
   "execution_count": 63,
   "id": "3861ec95",
   "metadata": {},
   "outputs": [
    {
     "data": {
      "text/plain": [
       "{5, 8, 40}"
      ]
     },
     "execution_count": 63,
     "metadata": {},
     "output_type": "execute_result"
    }
   ],
   "source": [
    "set1"
   ]
  },
  {
   "cell_type": "code",
   "execution_count": 64,
   "id": "0bd906e2",
   "metadata": {},
   "outputs": [],
   "source": [
    "set1={\"A\", \"a\",\"B\"}"
   ]
  },
  {
   "cell_type": "code",
   "execution_count": 65,
   "id": "58514943",
   "metadata": {},
   "outputs": [
    {
     "data": {
      "text/plain": [
       "{'A', 'B', 'a'}"
      ]
     },
     "execution_count": 65,
     "metadata": {},
     "output_type": "execute_result"
    }
   ],
   "source": [
    "set1"
   ]
  },
  {
   "cell_type": "code",
   "execution_count": 66,
   "id": "c14e6470",
   "metadata": {},
   "outputs": [],
   "source": [
    "cars1 = {\n",
    "  \"brand\": \"Toyota\",\n",
    "  \"electric\": False,\n",
    "  \"year\": 2005,\n",
    "  \"colors\": (\"red\", \"white\", \"blue\") \n",
    "}\n"
   ]
  },
  {
   "cell_type": "code",
   "execution_count": 67,
   "id": "cb8244f6",
   "metadata": {},
   "outputs": [
    {
     "data": {
      "text/plain": [
       "{'brand': 'Toyota',\n",
       " 'electric': False,\n",
       " 'year': 2005,\n",
       " 'colors': ('red', 'white', 'blue')}"
      ]
     },
     "execution_count": 67,
     "metadata": {},
     "output_type": "execute_result"
    }
   ],
   "source": [
    "cars1"
   ]
  },
  {
   "cell_type": "code",
   "execution_count": 68,
   "id": "e1f7377d",
   "metadata": {},
   "outputs": [
    {
     "name": "stdout",
     "output_type": "stream",
     "text": [
      "['red', 'white', 'blue']\n"
     ]
    }
   ],
   "source": [
    "print(cars[\"colors\"])"
   ]
  },
  {
   "cell_type": "code",
   "execution_count": 69,
   "id": "06107889",
   "metadata": {},
   "outputs": [
    {
     "data": {
      "text/plain": [
       "4"
      ]
     },
     "execution_count": 69,
     "metadata": {},
     "output_type": "execute_result"
    }
   ],
   "source": [
    "len(List1)"
   ]
  },
  {
   "cell_type": "code",
   "execution_count": 70,
   "id": "8af6a1f1",
   "metadata": {},
   "outputs": [
    {
     "data": {
      "text/plain": [
       "4"
      ]
     },
     "execution_count": 70,
     "metadata": {},
     "output_type": "execute_result"
    }
   ],
   "source": [
    "len(Tuple)"
   ]
  },
  {
   "cell_type": "code",
   "execution_count": 71,
   "id": "89f63d1a",
   "metadata": {},
   "outputs": [
    {
     "data": {
      "text/plain": [
       "4"
      ]
     },
     "execution_count": 71,
     "metadata": {},
     "output_type": "execute_result"
    }
   ],
   "source": [
    "len(set)"
   ]
  },
  {
   "cell_type": "code",
   "execution_count": 72,
   "id": "ea8d2be4",
   "metadata": {},
   "outputs": [
    {
     "data": {
      "text/plain": [
       "4"
      ]
     },
     "execution_count": 72,
     "metadata": {},
     "output_type": "execute_result"
    }
   ],
   "source": [
    "len(cars1)"
   ]
  },
  {
   "cell_type": "markdown",
   "id": "194af180",
   "metadata": {},
   "source": [
    "### Operators \n",
    "Symbolic operations that has no libraries (+ - * / %)"
   ]
  },
  {
   "cell_type": "code",
   "execution_count": 73,
   "id": "fb1047e2",
   "metadata": {},
   "outputs": [],
   "source": [
    "x,y=10,20"
   ]
  },
  {
   "cell_type": "code",
   "execution_count": 74,
   "id": "316af465",
   "metadata": {},
   "outputs": [
    {
     "name": "stdout",
     "output_type": "stream",
     "text": [
      "30\n",
      "-10\n",
      "200\n",
      "0.5\n",
      "10\n"
     ]
    }
   ],
   "source": [
    "print(x+y)\n",
    "print(x-y)\n",
    "print(x*y)\n",
    "print(x/y)\n",
    "print(x%y)"
   ]
  },
  {
   "cell_type": "code",
   "execution_count": 75,
   "id": "66c6a082",
   "metadata": {},
   "outputs": [
    {
     "name": "stdout",
     "output_type": "stream",
     "text": [
      "125\n"
     ]
    }
   ],
   "source": [
    "x,y=5,3\n",
    "print(x**y)"
   ]
  },
  {
   "cell_type": "code",
   "execution_count": 77,
   "id": "c1737642",
   "metadata": {},
   "outputs": [
    {
     "name": "stdout",
     "output_type": "stream",
     "text": [
      "1\n"
     ]
    }
   ],
   "source": [
    "print(x//y)"
   ]
  },
  {
   "cell_type": "code",
   "execution_count": 78,
   "id": "688ce03d",
   "metadata": {},
   "outputs": [
    {
     "name": "stdout",
     "output_type": "stream",
     "text": [
      "1.6666666666666667\n"
     ]
    }
   ],
   "source": [
    "print(x/y)"
   ]
  },
  {
   "cell_type": "code",
   "execution_count": 79,
   "id": "33f8051d",
   "metadata": {},
   "outputs": [
    {
     "name": "stdout",
     "output_type": "stream",
     "text": [
      "1\n"
     ]
    }
   ],
   "source": [
    "print(x//y)"
   ]
  },
  {
   "cell_type": "code",
   "execution_count": 80,
   "id": "99bdbe1b",
   "metadata": {},
   "outputs": [],
   "source": [
    "x+=3"
   ]
  },
  {
   "cell_type": "code",
   "execution_count": 81,
   "id": "f4cd16dc",
   "metadata": {},
   "outputs": [
    {
     "data": {
      "text/plain": [
       "8"
      ]
     },
     "execution_count": 81,
     "metadata": {},
     "output_type": "execute_result"
    }
   ],
   "source": [
    "x"
   ]
  },
  {
   "cell_type": "code",
   "execution_count": 82,
   "id": "6bf95fd5",
   "metadata": {},
   "outputs": [],
   "source": [
    "x*=2"
   ]
  },
  {
   "cell_type": "code",
   "execution_count": 83,
   "id": "30eae273",
   "metadata": {},
   "outputs": [
    {
     "data": {
      "text/plain": [
       "16"
      ]
     },
     "execution_count": 83,
     "metadata": {},
     "output_type": "execute_result"
    }
   ],
   "source": [
    "x"
   ]
  },
  {
   "cell_type": "code",
   "execution_count": 84,
   "id": "f0720f96",
   "metadata": {},
   "outputs": [
    {
     "data": {
      "text/plain": [
       "True"
      ]
     },
     "execution_count": 84,
     "metadata": {},
     "output_type": "execute_result"
    }
   ],
   "source": [
    "x>y"
   ]
  },
  {
   "cell_type": "code",
   "execution_count": 85,
   "id": "25e6f4b8",
   "metadata": {},
   "outputs": [
    {
     "data": {
      "text/plain": [
       "False"
      ]
     },
     "execution_count": 85,
     "metadata": {},
     "output_type": "execute_result"
    }
   ],
   "source": [
    "x<y"
   ]
  },
  {
   "cell_type": "code",
   "execution_count": 86,
   "id": "02fb6d43",
   "metadata": {},
   "outputs": [
    {
     "data": {
      "text/plain": [
       "False"
      ]
     },
     "execution_count": 86,
     "metadata": {},
     "output_type": "execute_result"
    }
   ],
   "source": [
    "x==y"
   ]
  },
  {
   "cell_type": "code",
   "execution_count": 87,
   "id": "3c306aa6",
   "metadata": {},
   "outputs": [],
   "source": [
    "x=y"
   ]
  },
  {
   "cell_type": "code",
   "execution_count": 88,
   "id": "661343c5",
   "metadata": {},
   "outputs": [
    {
     "data": {
      "text/plain": [
       "3"
      ]
     },
     "execution_count": 88,
     "metadata": {},
     "output_type": "execute_result"
    }
   ],
   "source": [
    "x"
   ]
  },
  {
   "cell_type": "code",
   "execution_count": 89,
   "id": "6a22036d",
   "metadata": {},
   "outputs": [
    {
     "data": {
      "text/plain": [
       "3"
      ]
     },
     "execution_count": 89,
     "metadata": {},
     "output_type": "execute_result"
    }
   ],
   "source": [
    "y"
   ]
  },
  {
   "cell_type": "code",
   "execution_count": 90,
   "id": "8dfaa4ad",
   "metadata": {},
   "outputs": [
    {
     "data": {
      "text/plain": [
       "True"
      ]
     },
     "execution_count": 90,
     "metadata": {},
     "output_type": "execute_result"
    }
   ],
   "source": [
    "x==y"
   ]
  },
  {
   "cell_type": "code",
   "execution_count": 91,
   "id": "d3d79515",
   "metadata": {},
   "outputs": [
    {
     "data": {
      "text/plain": [
       "False"
      ]
     },
     "execution_count": 91,
     "metadata": {},
     "output_type": "execute_result"
    }
   ],
   "source": [
    "x>y  and  x>5"
   ]
  },
  {
   "cell_type": "code",
   "execution_count": 92,
   "id": "b08876d0",
   "metadata": {},
   "outputs": [
    {
     "data": {
      "text/plain": [
       "False"
      ]
     },
     "execution_count": 92,
     "metadata": {},
     "output_type": "execute_result"
    }
   ],
   "source": [
    "x>y  or  x>5"
   ]
  },
  {
   "cell_type": "code",
   "execution_count": 93,
   "id": "e6c57636",
   "metadata": {},
   "outputs": [],
   "source": [
    "x=10"
   ]
  },
  {
   "cell_type": "code",
   "execution_count": 94,
   "id": "7dbb43da",
   "metadata": {},
   "outputs": [
    {
     "data": {
      "text/plain": [
       "True"
      ]
     },
     "execution_count": 94,
     "metadata": {},
     "output_type": "execute_result"
    }
   ],
   "source": [
    "x>y  and  x>5"
   ]
  },
  {
   "cell_type": "code",
   "execution_count": 95,
   "id": "7ddafa51",
   "metadata": {},
   "outputs": [
    {
     "data": {
      "text/plain": [
       "False"
      ]
     },
     "execution_count": 95,
     "metadata": {},
     "output_type": "execute_result"
    }
   ],
   "source": [
    "not x>y"
   ]
  },
  {
   "cell_type": "code",
   "execution_count": 96,
   "id": "49eeb64d",
   "metadata": {},
   "outputs": [
    {
     "data": {
      "text/plain": [
       "False"
      ]
     },
     "execution_count": 96,
     "metadata": {},
     "output_type": "execute_result"
    }
   ],
   "source": [
    "x is y"
   ]
  },
  {
   "cell_type": "code",
   "execution_count": 97,
   "id": "d341c6b8",
   "metadata": {},
   "outputs": [
    {
     "data": {
      "text/plain": [
       "10"
      ]
     },
     "execution_count": 97,
     "metadata": {},
     "output_type": "execute_result"
    }
   ],
   "source": [
    "x"
   ]
  },
  {
   "cell_type": "code",
   "execution_count": 98,
   "id": "c4cdd593",
   "metadata": {},
   "outputs": [
    {
     "data": {
      "text/plain": [
       "3"
      ]
     },
     "execution_count": 98,
     "metadata": {},
     "output_type": "execute_result"
    }
   ],
   "source": [
    "y"
   ]
  },
  {
   "cell_type": "markdown",
   "id": "89a0b93c",
   "metadata": {},
   "source": [
    "### Control Structures in python\n",
    "1. if statement\n",
    "2. loops"
   ]
  },
  {
   "cell_type": "code",
   "execution_count": 101,
   "id": "b739fa78",
   "metadata": {},
   "outputs": [
    {
     "name": "stdout",
     "output_type": "stream",
     "text": [
      "10\n"
     ]
    }
   ],
   "source": [
    "if (x>y):   print(x)"
   ]
  },
  {
   "cell_type": "code",
   "execution_count": 102,
   "id": "40cf7ea8",
   "metadata": {},
   "outputs": [],
   "source": [
    "x=2"
   ]
  },
  {
   "cell_type": "code",
   "execution_count": 104,
   "id": "b135b72a",
   "metadata": {},
   "outputs": [],
   "source": [
    "if (x>y):\n",
    "    print(x)"
   ]
  },
  {
   "cell_type": "code",
   "execution_count": 105,
   "id": "2d4243aa",
   "metadata": {},
   "outputs": [
    {
     "name": "stdout",
     "output_type": "stream",
     "text": [
      "4\n"
     ]
    }
   ],
   "source": [
    "if (x>y):\n",
    "    print(x)\n",
    "else : print (x*2)"
   ]
  },
  {
   "cell_type": "code",
   "execution_count": 106,
   "id": "f289a0b5",
   "metadata": {},
   "outputs": [
    {
     "name": "stdout",
     "output_type": "stream",
     "text": [
      "2\n"
     ]
    }
   ],
   "source": [
    "if (x>1):\n",
    "    print(x)\n",
    "elif (x>3):\n",
    "    print(x+3)\n",
    "elif (x>50):\n",
    "    print(x+50)"
   ]
  },
  {
   "cell_type": "code",
   "execution_count": 107,
   "id": "9236e5c7",
   "metadata": {},
   "outputs": [],
   "source": [
    "x=90"
   ]
  },
  {
   "cell_type": "code",
   "execution_count": 108,
   "id": "c3b6b5c4",
   "metadata": {},
   "outputs": [
    {
     "name": "stdout",
     "output_type": "stream",
     "text": [
      "93\n"
     ]
    }
   ],
   "source": [
    "if (x>1 and x<10):\n",
    "    print(x)\n",
    "elif (x>3):\n",
    "    print(x+3)\n",
    "elif (x>50):\n",
    "    print(x+50)"
   ]
  },
  {
   "cell_type": "code",
   "execution_count": 109,
   "id": "49e011f5",
   "metadata": {},
   "outputs": [],
   "source": [
    "x,y,z=10,20,30"
   ]
  },
  {
   "cell_type": "code",
   "execution_count": 112,
   "id": "775bfbfd",
   "metadata": {},
   "outputs": [
    {
     "name": "stdout",
     "output_type": "stream",
     "text": [
      "max is: 30\n"
     ]
    }
   ],
   "source": [
    "if (x>y and x<z) : print( \"max is:\", x)\n",
    "elif (y>x and y>z) :  print( \"max is:\", y)\n",
    "else : print( \"max is:\", z)"
   ]
  },
  {
   "cell_type": "code",
   "execution_count": 116,
   "id": "3f7da77f",
   "metadata": {},
   "outputs": [
    {
     "name": "stdout",
     "output_type": "stream",
     "text": [
      "20\n",
      "24\n",
      "28\n",
      "32\n",
      "36\n"
     ]
    }
   ],
   "source": [
    "for i in range (10,20,2) :\n",
    "    print (i*2)"
   ]
  },
  {
   "cell_type": "code",
   "execution_count": 117,
   "id": "19553c1e",
   "metadata": {},
   "outputs": [
    {
     "name": "stdout",
     "output_type": "stream",
     "text": [
      "120\n"
     ]
    }
   ],
   "source": [
    "n=5\n",
    "fact =1\n",
    "for i  in range (1,n+1):\n",
    "    fact=fact*i\n",
    "print (fact)"
   ]
  },
  {
   "cell_type": "code",
   "execution_count": 119,
   "id": "424342f6",
   "metadata": {},
   "outputs": [
    {
     "name": "stdout",
     "output_type": "stream",
     "text": [
      "120\n"
     ]
    }
   ],
   "source": [
    "n=5\n",
    "fact =1\n",
    "i=1\n",
    "while (i<=n):\n",
    "    fact=fact*i\n",
    "    i+=1\n",
    "print (fact)"
   ]
  },
  {
   "cell_type": "markdown",
   "id": "3f84d28a",
   "metadata": {},
   "source": [
    "### Find The minimum among Three number"
   ]
  },
  {
   "cell_type": "code",
   "execution_count": null,
   "id": "1d1d6d90",
   "metadata": {},
   "outputs": [],
   "source": [
    "x,y,z = 5,14,2\n",
    "if   (x<=y and x<=z) :\n",
    "    print(\"min value is:\", x)\n",
    "elif (y<x and y<z): \n",
    "    print(\"min value is:\", y)\n",
    "else : \n",
    "    print(\"min value is:\", z)\n"
   ]
  },
  {
   "cell_type": "markdown",
   "id": "130493bc",
   "metadata": {},
   "source": [
    "### Write the following python programs \n",
    "1. a program that searches for a given in name in a list of students names and determines whether this name exists or not.\n",
    "2. a program that finds the frequency of a given name in a list of students names.\n",
    "3. a program that finds the number of even numbers in a given list of numbers."
   ]
  },
  {
   "cell_type": "code",
   "execution_count": 123,
   "id": "22eff02b",
   "metadata": {},
   "outputs": [
    {
     "name": "stdout",
     "output_type": "stream",
     "text": [
      "The Data Found at: 6\n"
     ]
    }
   ],
   "source": [
    "#The linear Search (The searched name is the last one)\n",
    "x=(\"Ali\", \"Alaa\", \"Mostafa\", \"Alaa\", \"Mahmoud\",\"Alaa\")\n",
    "y=\"Alaa\"\n",
    "index =-1\n",
    "for i in range (0,len(x)):  \n",
    "    if x[i]==y: index=i\n",
    "if index ==-1 : print(\"The Data not found\")\n",
    "else: print(\"The Data Found at:\", index+1)"
   ]
  },
  {
   "cell_type": "code",
   "execution_count": 124,
   "id": "64fe33e4",
   "metadata": {},
   "outputs": [
    {
     "name": "stdout",
     "output_type": "stream",
     "text": [
      "The Data Found at: 2\n"
     ]
    }
   ],
   "source": [
    "#The linear Search (The searched name is the first one)\n",
    "x=(\"Ali\", \"alaa\", \"Mostafa\", \"alaa\", \"Mahmoud\",\"alaa\")\n",
    "y=\"ALAA\"\n",
    "index =-1\n",
    "for i in range (0,len(x)):  \n",
    "    if x[i].lower()==y.lower(): \n",
    "        index=i\n",
    "        break\n",
    "if index ==-1 : print(\"The Data not found\")\n",
    "else: print(\"The Data Found at:\", index+1)"
   ]
  },
  {
   "cell_type": "code",
   "execution_count": 125,
   "id": "705dcea5",
   "metadata": {},
   "outputs": [
    {
     "name": "stdout",
     "output_type": "stream",
     "text": [
      "The Word is Repeated: 3\n"
     ]
    }
   ],
   "source": [
    "#word Frequency\n",
    "x=(\"Ali\", \"Alaa\", \"Mostafa\", \"Alaa\", \"Mahmoud\",\"Alaa\")\n",
    "y=\"Alaa\"\n",
    "counter=0\n",
    "for i in range (0,len(x)):  \n",
    "    if x[i]==y :counter=counter+1\n",
    "print(\"The Word is Repeated:\", counter)"
   ]
  },
  {
   "cell_type": "code",
   "execution_count": 126,
   "id": "9fbcf316",
   "metadata": {},
   "outputs": [
    {
     "name": "stdout",
     "output_type": "stream",
     "text": [
      "The Sum is:  335\n",
      "The Average is:  55.833333333333336\n"
     ]
    }
   ],
   "source": [
    "#Sum of all numbers\n",
    "x=(10,22,55,97,81,70)\n",
    "sum=0\n",
    "for i in x:\n",
    "    sum+=i\n",
    "print (\"The Sum is: \", sum)\n",
    "print(\"The Average is: \", sum/len(x) )"
   ]
  },
  {
   "cell_type": "code",
   "execution_count": 128,
   "id": "d72abf93",
   "metadata": {},
   "outputs": [
    {
     "name": "stdout",
     "output_type": "stream",
     "text": [
      "The Sum is:  100\n",
      "The count of even numbers is:  3\n",
      "The Average is:  33.333333333333336\n"
     ]
    }
   ],
   "source": [
    "#Sum and count of all even numbers\n",
    "x=(10,20,55,97,81,70)\n",
    "sum=0\n",
    "counter_of_even_numbers=0\n",
    "for i in x:\n",
    "    if i%2==0:  \n",
    "        sum+=i\n",
    "        counter_of_even_numbers=counter_of_even_numbers+1\n",
    "print (\"The Sum is: \", sum)\n",
    "print (\"The count of even numbers is: \", counter_of_even_numbers)\n",
    "print(\"The Average is: \", sum/counter_of_even_numbers )"
   ]
  },
  {
   "cell_type": "code",
   "execution_count": 129,
   "id": "1c02a04e",
   "metadata": {},
   "outputs": [
    {
     "name": "stdout",
     "output_type": "stream",
     "text": [
      "The Sum is:  233\n",
      "The count of even numbers is:  3\n",
      "The Average is:  77.66666666666667\n"
     ]
    }
   ],
   "source": [
    "#Sum and count of all odd numbers\n",
    "x=(10,20,55,97,81,70)\n",
    "sum=0\n",
    "counter_of_odd_numbers=0\n",
    "for i in x:\n",
    "     if i%2!=0:  \n",
    "        sum+=i\n",
    "        counter_of_odd_numbers=counter_of_odd_numbers+1\n",
    "print (\"The Sum is: \", sum)\n",
    "print (\"The count of even numbers is: \", counter_of_odd_numbers)\n",
    "print(\"The Average is: \", sum/counter_of_odd_numbers )"
   ]
  },
  {
   "cell_type": "markdown",
   "id": "98a38b0f",
   "metadata": {},
   "source": [
    "### Function in python"
   ]
  },
  {
   "cell_type": "code",
   "execution_count": 130,
   "id": "854f4000",
   "metadata": {},
   "outputs": [],
   "source": [
    "# function definition\n",
    "def sum (x ,y):       \n",
    "    return x-y , x+y  , x*y"
   ]
  },
  {
   "cell_type": "code",
   "execution_count": 131,
   "id": "588dd9bd",
   "metadata": {},
   "outputs": [
    {
     "data": {
      "text/plain": [
       "(-1, 11, 30)"
      ]
     },
     "execution_count": 131,
     "metadata": {},
     "output_type": "execute_result"
    }
   ],
   "source": [
    "sum(5,6)"
   ]
  },
  {
   "cell_type": "code",
   "execution_count": null,
   "id": "02f2cba5",
   "metadata": {},
   "outputs": [],
   "source": []
  }
 ],
 "metadata": {
  "kernelspec": {
   "display_name": "Python 3 (ipykernel)",
   "language": "python",
   "name": "python3"
  },
  "language_info": {
   "codemirror_mode": {
    "name": "ipython",
    "version": 3
   },
   "file_extension": ".py",
   "mimetype": "text/x-python",
   "name": "python",
   "nbconvert_exporter": "python",
   "pygments_lexer": "ipython3",
   "version": "3.9.16"
  }
 },
 "nbformat": 4,
 "nbformat_minor": 5
}
