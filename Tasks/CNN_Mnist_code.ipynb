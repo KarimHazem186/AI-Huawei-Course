{
  "cells": [
    {
      "cell_type": "code",
      "execution_count": 1,
      "metadata": {
        "id": "vTiHYUA3Bzc6"
      },
      "outputs": [],
      "source": [
        "import keras\n",
        "from tensorflow.keras.utils import to_categorical\n",
        "from keras.datasets import mnist\n",
        "from keras.models import Sequential\n",
        "from keras.layers import Conv2D, MaxPooling2D, Dense, Dropout, Flatten\n",
        "import numpy as np"
      ]
    },
    {
      "cell_type": "code",
      "execution_count": 2,
      "metadata": {
        "colab": {
          "base_uri": "https://localhost:8080/"
        },
        "id": "4UOU7tdrCHx7",
        "outputId": "4610eedf-4675-4256-ac47-938d7d5ce6a5"
      },
      "outputs": [
        {
          "name": "stdout",
          "output_type": "stream",
          "text": [
            "Downloading data from https://storage.googleapis.com/tensorflow/tf-keras-datasets/mnist.npz\n",
            "11490434/11490434 [==============================] - 3s 0us/step\n"
          ]
        },
        {
          "data": {
            "text/plain": [
              "(60000, 28, 28)"
            ]
          },
          "execution_count": 2,
          "metadata": {},
          "output_type": "execute_result"
        }
      ],
      "source": [
        "(x_train, y_train), (x_test, y_test) = mnist.load_data()\n",
        "x_train.shape"
      ]
    },
    {
      "cell_type": "code",
      "execution_count": 3,
      "metadata": {
        "colab": {
          "base_uri": "https://localhost:8080/"
        },
        "id": "-Ra20DARU1sg",
        "outputId": "0ad95dee-3aa1-410c-e452-aa313d676de4"
      },
      "outputs": [
        {
          "data": {
            "text/plain": [
              "(28, 28)"
            ]
          },
          "execution_count": 3,
          "metadata": {},
          "output_type": "execute_result"
        }
      ],
      "source": [
        "input_shape=x_train.shape [1:]\n",
        "input_shape"
      ]
    },
    {
      "cell_type": "code",
      "execution_count": 4,
      "metadata": {
        "id": "1wA8yc40CLC6"
      },
      "outputs": [],
      "source": [
        "x_train = x_train.astype('float32')\n",
        "x_test = x_test.astype('float32')\n",
        "x_train /= 255\n",
        "x_test /= 255"
      ]
    },
    {
      "cell_type": "code",
      "execution_count": 5,
      "metadata": {
        "id": "SRJlgrWOTj-a"
      },
      "outputs": [],
      "source": [
        "y_train = to_categorical(y_train, 10)\n",
        "y_test =  to_categorical(y_test, 10)"
      ]
    },
    {
      "cell_type": "code",
      "execution_count": 13,
      "metadata": {
        "id": "jm9rxvq9Cnpr"
      },
      "outputs": [],
      "source": [
        "model = Sequential()\n",
        "model.add(Conv2D(128, kernel_size=(2,2), strides=(2,2), padding='same', activation='relu', input_shape=(28, 28, 1)))\n",
        "model.add(Dropout(0.5))\n",
        "model.add(MaxPooling2D(pool_size=(2, 2)))\n",
        "model.add(Conv2D(256, kernel_size=(3,3),strides=(2,2),padding='same', activation='relu'))\n",
        "model.add(Dropout(0.5))\n",
        "model.add(MaxPooling2D(pool_size=(2, 2)))\n",
        "model.add(Conv2D(512, kernel_size=(3,3),strides=(2,2),padding='same', activation='relu'))\n",
        "model.add(Dropout(0.5))\n",
        "model.add(Flatten())\n",
        "model.add(Dense(128, activation='relu'))\n",
        "model.add(Dense(64, activation='relu'))\n",
        "model.add(Dense(10, activation='softmax'))"
      ]
    },
    {
      "cell_type": "code",
      "execution_count": 14,
      "metadata": {
        "colab": {
          "base_uri": "https://localhost:8080/",
          "height": 513
        },
        "id": "gTbAAoHQW1R0",
        "outputId": "847000b2-13c0-45de-b35d-9dc1063f78e8"
      },
      "outputs": [
        {
          "name": "stdout",
          "output_type": "stream",
          "text": [
            "Model: \"sequential_4\"\n",
            "_________________________________________________________________\n",
            " Layer (type)                Output Shape              Param #   \n",
            "=================================================================\n",
            " conv2d_5 (Conv2D)           (None, 14, 14, 128)       640       \n",
            "                                                                 \n",
            " dropout_2 (Dropout)         (None, 14, 14, 128)       0         \n",
            "                                                                 \n",
            " max_pooling2d_2 (MaxPooling  (None, 7, 7, 128)        0         \n",
            " 2D)                                                             \n",
            "                                                                 \n",
            " conv2d_6 (Conv2D)           (None, 4, 4, 256)         295168    \n",
            "                                                                 \n",
            " dropout_3 (Dropout)         (None, 4, 4, 256)         0         \n",
            "                                                                 \n",
            " max_pooling2d_3 (MaxPooling  (None, 2, 2, 256)        0         \n",
            " 2D)                                                             \n",
            "                                                                 \n",
            " conv2d_7 (Conv2D)           (None, 1, 1, 512)         1180160   \n",
            "                                                                 \n",
            " dropout_4 (Dropout)         (None, 1, 1, 512)         0         \n",
            "                                                                 \n",
            " flatten_1 (Flatten)         (None, 512)               0         \n",
            "                                                                 \n",
            " dense_3 (Dense)             (None, 128)               65664     \n",
            "                                                                 \n",
            " dense_4 (Dense)             (None, 64)                8256      \n",
            "                                                                 \n",
            " dense_5 (Dense)             (None, 10)                650       \n",
            "                                                                 \n",
            "=================================================================\n",
            "Total params: 1,550,538\n",
            "Trainable params: 1,550,538\n",
            "Non-trainable params: 0\n",
            "_________________________________________________________________\n"
          ]
        }
      ],
      "source": [
        "model.build(input_shape=(None, 32, 32, 3))\n",
        "\n",
        "model.summary()"
      ]
    },
    {
      "cell_type": "code",
      "execution_count": 16,
      "metadata": {
        "id": "2ZBgsnaZC4N7"
      },
      "outputs": [],
      "source": [
        "model.compile(loss=keras.losses.categorical_crossentropy, optimizer=keras.optimizers.Adam(), metrics=['accuracy'])"
      ]
    },
    {
      "cell_type": "code",
      "execution_count": 17,
      "metadata": {
        "colab": {
          "base_uri": "https://localhost:8080/"
        },
        "id": "5_12s-YzC_4x",
        "outputId": "189534a8-9bba-440e-d1f6-6aa28ed03af7"
      },
      "outputs": [
        {
          "name": "stdout",
          "output_type": "stream",
          "text": [
            "Epoch 1/10\n",
            "192/192 [==============================] - 46s 235ms/step - loss: 0.5956 - accuracy: 0.8040 - val_loss: 0.2315 - val_accuracy: 0.9402\n",
            "Epoch 2/10\n",
            "192/192 [==============================] - 46s 242ms/step - loss: 0.2071 - accuracy: 0.9359 - val_loss: 0.1635 - val_accuracy: 0.9567\n",
            "Epoch 3/10\n",
            "192/192 [==============================] - 46s 242ms/step - loss: 0.1638 - accuracy: 0.9483 - val_loss: 0.1483 - val_accuracy: 0.9596\n",
            "Epoch 4/10\n",
            "192/192 [==============================] - 46s 240ms/step - loss: 0.1390 - accuracy: 0.9559 - val_loss: 0.1053 - val_accuracy: 0.9696\n",
            "Epoch 5/10\n",
            "192/192 [==============================] - 45s 236ms/step - loss: 0.1250 - accuracy: 0.9614 - val_loss: 0.1075 - val_accuracy: 0.9717\n",
            "Epoch 6/10\n",
            "192/192 [==============================] - 47s 243ms/step - loss: 0.1142 - accuracy: 0.9640 - val_loss: 0.1001 - val_accuracy: 0.9726\n",
            "Epoch 7/10\n",
            "192/192 [==============================] - 45s 235ms/step - loss: 0.1066 - accuracy: 0.9663 - val_loss: 0.0894 - val_accuracy: 0.9737\n",
            "Epoch 8/10\n",
            "192/192 [==============================] - 45s 233ms/step - loss: 0.1002 - accuracy: 0.9686 - val_loss: 0.0761 - val_accuracy: 0.9793\n",
            "Epoch 9/10\n",
            "192/192 [==============================] - 47s 244ms/step - loss: 0.0938 - accuracy: 0.9705 - val_loss: 0.0894 - val_accuracy: 0.9732\n",
            "Epoch 10/10\n",
            "192/192 [==============================] - 45s 237ms/step - loss: 0.0916 - accuracy: 0.9707 - val_loss: 0.0757 - val_accuracy: 0.9789\n"
          ]
        }
      ],
      "source": [
        "result = model.fit(x_train, y_train, batch_size=250, epochs=10, verbose=1, validation_split=0.2)"
      ]
    },
    {
      "cell_type": "code",
      "execution_count": 18,
      "metadata": {
        "colab": {
          "base_uri": "https://localhost:8080/",
          "height": 489
        },
        "id": "hE2tiDbnKNzq",
        "outputId": "c09368ed-eb48-45fb-b4de-11a728dbdfc8"
      },
      "outputs": [
        {
          "data": {
            "text/plain": [
              "Text(0, 0.5, 'loss')"
            ]
          },
          "execution_count": 18,
          "metadata": {},
          "output_type": "execute_result"
        },
        {
          "data": {
            "image/png": "[encoded data removed]",
            "text/plain": [
              "<Figure size 640x480 with 1 Axes>"
            ]
          },
          "metadata": {},
          "output_type": "display_data"
        }
      ],
      "source": [
        "result.history.keys()\n",
        "import matplotlib.pyplot as plt\n",
        "%matplotlib inline\n",
        "plt.plot(result.history['loss'])\n",
        "plt.plot(result.history['val_loss'])\n",
        "plt.legend(['Training', 'Validation'])\n",
        "plt.title('Training and Validation losses')\n",
        "plt.xlabel('epoch')\n",
        "plt.ylabel('loss')\n"
      ]
    },
    {
      "cell_type": "code",
      "execution_count": 19,
      "metadata": {
        "colab": {
          "base_uri": "https://localhost:8080/"
        },
        "id": "uHlGuigoDEtp",
        "outputId": "b8644733-75c3-436c-a247-d2fba8a2b35b"
      },
      "outputs": [
        {
          "name": "stdout",
          "output_type": "stream",
          "text": [
            "Test loss: 0.9339623525738716\n",
            "Test accuracy: 0.9810000061988831\n"
          ]
        }
      ],
      "source": [
        "score = model.evaluate(x_test, y_test, verbose=0)\n",
        "print('Test loss:',1 -  score[0])\n",
        "print('Test accuracy:', score[1])"
      ]
    },
    {
      "cell_type": "code",
      "execution_count": 20,
      "metadata": {
        "colab": {
          "base_uri": "https://localhost:8080/"
        },
        "id": "-gsjfkJODLaU",
        "outputId": "adb3697b-9f12-448f-8f01-3097070d093b"
      },
      "outputs": [
        {
          "name": "stdout",
          "output_type": "stream",
          "text": [
            "313/313 [==============================] - 2s 7ms/step\n",
            "[7 2 1 0 4]\n",
            "[7 2 1 0 4]\n"
          ]
        }
      ],
      "source": [
        "pred = model.predict(x_test)\n",
        "pred = np.argmax(pred, axis=1)[:5]\n",
        "label = np.argmax(y_test,axis=1)[:5]\n",
        "print(pred)\n",
        "print(label)"
      ]
    },
    {
      "cell_type": "code",
      "execution_count": 25,
      "metadata": {
        "colab": {
          "base_uri": "https://localhost:8080/",
          "height": 644
        },
        "id": "xdZK1fjJTh1v",
        "outputId": "438b8733-8cc7-41e1-a021-726cdc1d75a6"
      },
      "outputs": [
        {
          "name": "stdout",
          "output_type": "stream",
          "text": [
            "Requirement already satisfied: pydot in c:\\users\\lenovo\\anaconda3\\envs\\karim-new\\lib\\site-packages (3.0.2)\n",
            "Requirement already satisfied: pyparsing>=3.0.9 in c:\\users\\lenovo\\anaconda3\\envs\\karim-new\\lib\\site-packages (from pydot) (3.0.9)\n",
            "Note: you may need to restart the kernel to use updated packages.\n",
            "You must install pydot (`pip install pydot`) and install graphviz (see instructions at https://graphviz.gitlab.io/download/) for plot_model to work.\n"
          ]
        }
      ],
      "source": [
        "%pip install pydot\n",
        "from keras.utils.vis_utils import plot_model\n",
        "plot_model(model, to_file='model_plot.png', show_shapes=True, show_layer_names=True)\n"
      ]
    }
  ],
  "metadata": {
    "accelerator": "GPU",
    "colab": {
      "provenance": []
    },
    "gpuClass": "standard",
    "kernelspec": {
      "display_name": "Karim-new",
      "language": "python",
      "name": "python3"
    },
    "language_info": {
      "codemirror_mode": {
        "name": "ipython",
        "version": 3
      },
      "file_extension": ".py",
      "mimetype": "text/x-python",
      "name": "python",
      "nbconvert_exporter": "python",
      "pygments_lexer": "ipython3",
      "version": "3.9.18"
    }
  },
  "nbformat": 4,
  "nbformat_minor": 0
}
